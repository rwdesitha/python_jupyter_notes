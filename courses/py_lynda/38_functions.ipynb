{
 "cells": [
  {
   "cell_type": "code",
   "execution_count": 2,
   "metadata": {},
   "outputs": [
    {
     "name": "stdout",
     "output_type": "stream",
     "text": [
      "This is a test function\n",
      "This is a test function with  100\n",
      "This is a test functino with  100 101 1000\n",
      "This is a test functino with  100 101 1111\n"
     ]
    }
   ],
   "source": [
    "def main():\n",
    "    test_func()\n",
    "    test_func_with_arg(100)\n",
    "    test_func_with_args(100, 101)\n",
    "    test_func_with_args1(100, 101)\n",
    "    \n",
    "def test_func():\n",
    "    print(\"This is a test function\")\n",
    "    \n",
    "def test_func2():\n",
    "    pass\n",
    "\n",
    "def test_func_with_arg(number):\n",
    "    print(\"This is a test function with \", number)\n",
    "    \n",
    "def test_func_with_args(number1, number2, number3=1000):\n",
    "    print(\"This is a test functino with \", number1, number2, number3)\n",
    "    \n",
    "def test_func_with_args1(number1, number2, number3=None):\n",
    "    if number3 is None:\n",
    "        number3 = 1111\n",
    "    print(\"This is a test functino with \", number1, number2, number3)\n",
    "    \n",
    "if __name__ == \"__main__\":\n",
    "    main()"
   ]
  },
  {
   "cell_type": "markdown",
   "metadata": {},
   "source": [
    "main is also a function like other functions, the reason why it is called last is that so that it can use any<br>\n",
    "function declared previous to its declartion we have to have some content (sweet) after declaring a fucntion but<br>\n",
    "still you can create a fucntion and add a keyword \"pass\" to its body, which will not do anything but makes that<br>\n",
    "fucntion a valid fucntion all of the function arguments must have value assigned, either by passing as a argument<br>\n",
    "or supplying a default value in the parameter itself, or use None"
   ]
  }
 ],
 "metadata": {
  "kernelspec": {
   "display_name": "Python 3 (ipykernel)",
   "language": "python",
   "name": "python3"
  },
  "language_info": {
   "codemirror_mode": {
    "name": "ipython",
    "version": 3
   },
   "file_extension": ".py",
   "mimetype": "text/x-python",
   "name": "python",
   "nbconvert_exporter": "python",
   "pygments_lexer": "ipython3",
   "version": "3.9.6"
  }
 },
 "nbformat": 4,
 "nbformat_minor": 2
}
