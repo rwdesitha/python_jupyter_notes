{
 "cells": [
  {
   "cell_type": "code",
   "execution_count": null,
   "metadata": {},
   "outputs": [],
   "source": [
    "class Duck:\n",
    "    def __init__(self, **kwargs):\n",
    "        self.properties = kwargs\n",
    "    def quack(self):\n",
    "        print('Quaack!')\n",
    "    def walk(self):\n",
    "        print('Walks like a duck.')\n",
    "    def get_properties(self):\n",
    "        return self.properties\n",
    "    def get_property(self, key):\n",
    "        return self.properties.get(key, None)\n",
    "    @property\n",
    "    def color(self):\n",
    "        return self.properties.get('color', None)\n",
    "    @color.setter\n",
    "    def color(self, c):\n",
    "        self.properties['color'] = c\n",
    "    def color(self):\n",
    "        del self.properties['color']\n",
    "        \n",
    "def main():\n",
    "    donald = Duck()\n",
    "    donald.color = 'blue'\n",
    "    print(donald.color)\n",
    "    \n",
    "if __name__ == \"__main__\":\n",
    "    main()"
   ]
  }
 ],
 "metadata": {
  "kernelspec": {
   "display_name": "Python 3 (ipykernel)",
   "language": "python",
   "name": "python3"
  },
  "language_info": {
   "codemirror_mode": {
    "name": "ipython",
    "version": 3
   },
   "file_extension": ".py",
   "mimetype": "text/x-python",
   "name": "python",
   "nbconvert_exporter": "python",
   "pygments_lexer": "ipython3",
   "version": "3.9.6"
  }
 },
 "nbformat": 4,
 "nbformat_minor": 2
}
