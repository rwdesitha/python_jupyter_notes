{
 "cells": [
  {
   "cell_type": "code",
   "execution_count": 1,
   "metadata": {},
   "outputs": [
    {
     "name": "stdout",
     "output_type": "stream",
     "text": [
      "None\n",
      "2\n",
      "red\n"
     ]
    }
   ],
   "source": [
    "class Duck:\n",
    "    def __init__(self, **kwargs):\n",
    "        self.variables = kwargs\n",
    "    def quack(self):\n",
    "        print('Quaaack!')\n",
    "        \n",
    "    def walk(self):\n",
    "        print('Walk like a duck.')\n",
    "        \n",
    "    def set_variables(self, k, v):\n",
    "        self.variables[k] = v\n",
    "        \n",
    "    def get_variables(self, k):\n",
    "        return self.variables.get(k, None)\n",
    "    \n",
    "def main():\n",
    "    donald = Duck(feet=2)\n",
    "    print(donald.get_variables('color'))\n",
    "    donald.set_variables('color', 'red')\n",
    "    print(donald.get_variables('feet'))\n",
    "    print(donald.get_variables('color'))\n",
    "if __name__ == \"__main__\":\n",
    "    main()"
   ]
  }
 ],
 "metadata": {
  "kernelspec": {
   "display_name": "Python 3 (ipykernel)",
   "language": "python",
   "name": "python3"
  },
  "language_info": {
   "codemirror_mode": {
    "name": "ipython",
    "version": 3
   },
   "file_extension": ".py",
   "mimetype": "text/x-python",
   "name": "python",
   "nbconvert_exporter": "python",
   "pygments_lexer": "ipython3",
   "version": "3.9.6"
  }
 },
 "nbformat": 4,
 "nbformat_minor": 2
}
