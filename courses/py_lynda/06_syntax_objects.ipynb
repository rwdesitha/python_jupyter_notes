{
 "cells": [
  {
   "cell_type": "code",
   "execution_count": null,
   "metadata": {},
   "outputs": [],
   "source": [
    "class Egg:\n",
    "    def __init__(self, kind=\"fried\"):  # this is the constructor, self is the object itself\n",
    "        self.kind = kind\n",
    "        self.wew = None\n",
    "    \n",
    "    def whatKind(self):\n",
    "        return self.kind\n",
    "    \n",
    "def main():\n",
    "    fried = Egg()\n",
    "    fried.wew = 45\n",
    "    print(fried.kind)\n",
    "    print(fried.wew)\n",
    "    \n",
    "    scrambled = Egg('Scrambled')\n",
    "    print(scrambled.kind)\n",
    "    print(scrambled.whatKind())\n",
    "    \n",
    "if __name__ == \"__main__\":\n",
    "    main()"
   ]
  },
  {
   "cell_type": "markdown",
   "metadata": {},
   "source": [
    "all methods in python as self as the first argument, this is a reference to the object itself"
   ]
  }
 ],
 "metadata": {
  "kernelspec": {
   "display_name": "Python 3 (ipykernel)",
   "language": "python",
   "name": "python3"
  },
  "language_info": {
   "codemirror_mode": {
    "name": "ipython",
    "version": 3
   },
   "file_extension": ".py",
   "mimetype": "text/x-python",
   "name": "python",
   "nbconvert_exporter": "python",
   "pygments_lexer": "ipython3",
   "version": "3.9.6"
  }
 },
 "nbformat": 4,
 "nbformat_minor": 2
}
