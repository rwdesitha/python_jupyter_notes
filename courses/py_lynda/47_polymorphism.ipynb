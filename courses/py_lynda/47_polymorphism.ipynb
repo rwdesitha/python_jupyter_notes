{
 "cells": [
  {
   "cell_type": "code",
   "execution_count": null,
   "metadata": {},
   "outputs": [],
   "source": [
    "class Duck:\n",
    "    def quack(self):\n",
    "        print('Quaak!')\n",
    "    def walk(self):\n",
    "        print('Walks like a duck')\n",
    "    def bark(self):\n",
    "        print('The duck cannot bark')\n",
    "    def fur(self):\n",
    "        print('The duck has feathers')\n",
    "        \n",
    "class Dog:\n",
    "    def bark(self):\n",
    "        print('Woof')\n",
    "    def fur(self):\n",
    "        print('The dog has brown and white fur')\n",
    "    def walk(self):\n",
    "        print('Walks like a dog')\n",
    "    def quack(self):\n",
    "        print('The dog cannot quack')\n",
    "        \n",
    "def main():\n",
    "    donald = Duck()\n",
    "    fido = Dog()\n",
    "    print('------------------------------------')\n",
    "    for o in (donald, fido):\n",
    "        o.quack()\n",
    "        o.walk()\n",
    "        o.bark()\n",
    "        o.fur()\n",
    "    print('------------------------------------')\n",
    "    in_the_foreset(donald)\n",
    "    in_the_pond(fido)\n",
    "    \n",
    "def in_the_foreset(dog):\n",
    "    dog.bark()\n",
    "    dog.fur()\n",
    "    \n",
    "def in_the_pond(duck):\n",
    "    duck.quack()\n",
    "    duck.walk()"
   ]
  }
 ],
 "metadata": {
  "kernelspec": {
   "display_name": "Python 3 (ipykernel)",
   "language": "python",
   "name": "python3"
  },
  "language_info": {
   "codemirror_mode": {
    "name": "ipython",
    "version": 3
   },
   "file_extension": ".py",
   "mimetype": "text/x-python",
   "name": "python",
   "nbconvert_exporter": "python",
   "pygments_lexer": "ipython3",
   "version": "3.9.6"
  }
 },
 "nbformat": 4,
 "nbformat_minor": 2
}
