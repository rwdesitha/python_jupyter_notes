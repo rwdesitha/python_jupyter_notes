{
 "cells": [
  {
   "cell_type": "code",
   "execution_count": 1,
   "metadata": {},
   "outputs": [
    {
     "name": "stdout",
     "output_type": "stream",
     "text": [
      "<class 'tuple'> (1, 2, 3)\n",
      "<class 'list'> [7, 1, 2, 3, 4]\n",
      "1\n",
      "2\n",
      "3\n",
      "ri\n",
      "s\n",
      "t\n",
      "r\n",
      "i\n",
      "n\n",
      "g\n"
     ]
    }
   ],
   "source": [
    "def main():\n",
    "    x = (1, 2, 3)   # this is a tuple, tuple is created with parantheses, tuple is a immutable object\n",
    "    print(type(x), x)\n",
    "    y = [1, 2, 3]  # this is a list, list are created with square brackets, lists are mutable\n",
    "    y.append(4)\n",
    "    y.insert(0, 7)\n",
    "    print(type(y), y)\n",
    "    for i in x:\n",
    "        print(i)\n",
    "        \n",
    "    s = 'string'\n",
    "    print(s[2:4])\n",
    "    \n",
    "    for i in s:\n",
    "        print(i)\n",
    "if __name__ == \"__main__\":\n",
    "    main()"
   ]
  }
 ],
 "metadata": {
  "kernelspec": {
   "display_name": "Python 3 (ipykernel)",
   "language": "python",
   "name": "python3"
  },
  "language_info": {
   "codemirror_mode": {
    "name": "ipython",
    "version": 3
   },
   "file_extension": ".py",
   "mimetype": "text/x-python",
   "name": "python",
   "nbconvert_exporter": "python",
   "pygments_lexer": "ipython3",
   "version": "3.9.6"
  }
 },
 "nbformat": 4,
 "nbformat_minor": 2
}
