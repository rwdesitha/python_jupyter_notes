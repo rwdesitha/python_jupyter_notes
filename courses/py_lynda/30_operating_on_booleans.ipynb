{
 "cells": [
  {
   "cell_type": "code",
   "execution_count": 1,
   "metadata": {},
   "outputs": [
    {
     "name": "stdout",
     "output_type": "stream",
     "text": [
      "5==5 ->  True\n",
      "7 < 5 ->  False\n",
      "type(True) <class 'bool'>\n",
      "True and False ->  False\n",
      "True and True ->  True\n",
      "False and False ->  False\n",
      "True or False ->  True\n",
      "False or False ->  False\n"
     ]
    }
   ],
   "source": [
    "print(\"5==5 -> \", 5==5)\n",
    "print(\"7 < 5 -> \", 7 < 5)\n",
    "print(\"type(True)\", type(True))\n",
    "print(\"True and False -> \", True and False) \n",
    "print(\"True and True -> \", True and True) \n",
    "print(\"False and False -> \", False and False) \n",
    "print(\"True or False -> \", True or False) \n",
    "print(\"False or False -> \", False or False) "
   ]
  }
 ],
 "metadata": {
  "kernelspec": {
   "display_name": "Python 3 (ipykernel)",
   "language": "python",
   "name": "python3"
  },
  "language_info": {
   "codemirror_mode": {
    "name": "ipython",
    "version": 3
   },
   "file_extension": ".py",
   "mimetype": "text/x-python",
   "name": "python",
   "nbconvert_exporter": "python",
   "pygments_lexer": "ipython3",
   "version": "3.9.6"
  }
 },
 "nbformat": 4,
 "nbformat_minor": 2
}
