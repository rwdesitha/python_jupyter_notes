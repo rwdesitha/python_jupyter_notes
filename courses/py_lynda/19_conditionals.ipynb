{
 "cells": [
  {
   "cell_type": "code",
   "execution_count": 1,
   "metadata": {},
   "outputs": [
    {
     "name": "stdout",
     "output_type": "stream",
     "text": [
      "this is not true\n",
      "Hello this is true\n"
     ]
    }
   ],
   "source": [
    "def main():\n",
    "    a, b = 1, 1\n",
    "    if a < b:\n",
    "        print(\"this is true\")\n",
    "    else:\n",
    "        print(\"this is not true\")\n",
    "        \n",
    "    if True:\n",
    "        print(\"Hello this is true\")\n",
    "    else:\n",
    "        print(\"Hello this is false\")\n",
    "    \n",
    "if __name__ == \"__main__\": main()"
   ]
  }
 ],
 "metadata": {
  "kernelspec": {
   "display_name": "Python 3 (ipykernel)",
   "language": "python",
   "name": "python3"
  },
  "language_info": {
   "codemirror_mode": {
    "name": "ipython",
    "version": 3
   },
   "file_extension": ".py",
   "mimetype": "text/x-python",
   "name": "python",
   "nbconvert_exporter": "python",
   "pygments_lexer": "ipython3",
   "version": "3.9.6"
  }
 },
 "nbformat": 4,
 "nbformat_minor": 2
}
