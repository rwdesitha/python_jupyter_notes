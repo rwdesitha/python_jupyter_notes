{
 "cells": [
  {
   "cell_type": "code",
   "execution_count": 1,
   "metadata": {},
   "outputs": [
    {
     "name": "stdout",
     "output_type": "stream",
     "text": [
      "{'one': 1, 'two': 2, 'three': 3, 'four': 4, 'five': 5, 'eight': 8, 'seven': 9, 'kk': 77}\n",
      "one 1\n",
      "two 2\n",
      "three 3\n",
      "four 4\n",
      "five 5\n",
      "eight 8\n",
      "seven 9\n",
      "kk 77\n",
      "---------------------------------------------\n",
      "eight 8\n",
      "five 5\n",
      "four 4\n",
      "kk 77\n",
      "one 1\n",
      "seven 9\n",
      "three 3\n",
      "two 2\n",
      "---------------------------------------------\n",
      "five five\n",
      "four 4\n",
      "one 1\n",
      "three 3\n",
      "two 2\n"
     ]
    }
   ],
   "source": [
    "def main():\n",
    "    d = {'one':1, 'two':2, 'three':3, 'four':4, 'five':5, 'eight':8}\n",
    "    d['seven'] = 7\n",
    "    d['seven'] = 9\n",
    "    d['kk'] = 77\n",
    "    print(d)\n",
    "    for k in d:\n",
    "        print(k, d[k])\n",
    "    print(\"---------------------------------------------\")\n",
    "    for k in sorted(d.keys()):\n",
    "        print(k, d[k])\n",
    "    print(\"---------------------------------------------\")\n",
    "    d1 = dict(\n",
    "        one = 1, two = 2, three = 3, four = 4, five = \"five\"\n",
    "        )\n",
    "    for k in sorted(d1.keys()):\n",
    "        print(k, d1[k])\n",
    "if __name__ == \"__main__\":main()"
   ]
  }
 ],
 "metadata": {
  "kernelspec": {
   "display_name": "Python 3 (ipykernel)",
   "language": "python",
   "name": "python3"
  },
  "language_info": {
   "codemirror_mode": {
    "name": "ipython",
    "version": 3
   },
   "file_extension": ".py",
   "mimetype": "text/x-python",
   "name": "python",
   "nbconvert_exporter": "python",
   "pygments_lexer": "ipython3",
   "version": "3.9.6"
  }
 },
 "nbformat": 4,
 "nbformat_minor": 2
}
