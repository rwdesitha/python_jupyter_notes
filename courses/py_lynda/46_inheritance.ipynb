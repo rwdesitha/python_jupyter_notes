{
 "cells": [
  {
   "cell_type": "code",
   "execution_count": null,
   "metadata": {},
   "outputs": [],
   "source": [
    "class Animal:\n",
    "    def talk(self):\n",
    "        print(\"I have something to say\")\n",
    "    def walk(self):\n",
    "        print(\"Hey I'm walking here!\")\n",
    "    def clothes(self):\n",
    "        print(\"I have nice clothes\")\n",
    "        \n",
    "class Duck(Animal):\n",
    "    def quack(self):\n",
    "        print('Quaaak!')\n",
    "    def walk(self):\n",
    "        super().walk()\n",
    "        print('Walk like a duck')\n",
    "        \n",
    "class Dog(Animal):\n",
    "    def clothes(self):\n",
    "        print('I have brown and white fur')\n",
    "        \n",
    "def main():\n",
    "    donald = Duck()\n",
    "    donald.quack()\n",
    "    donald.walk()\n",
    "    donald.clothes()\n",
    "    fido = Dog()\n",
    "    fido.walk()\n",
    "    fido.clothes()"
   ]
  }
 ],
 "metadata": {
  "kernelspec": {
   "display_name": "Python 3 (ipykernel)",
   "language": "python",
   "name": "python3"
  },
  "language_info": {
   "codemirror_mode": {
    "name": "ipython",
    "version": 3
   },
   "file_extension": ".py",
   "mimetype": "text/x-python",
   "name": "python",
   "nbconvert_exporter": "python",
   "pygments_lexer": "ipython3",
   "version": "3.9.6"
  }
 },
 "nbformat": 4,
 "nbformat_minor": 2
}
