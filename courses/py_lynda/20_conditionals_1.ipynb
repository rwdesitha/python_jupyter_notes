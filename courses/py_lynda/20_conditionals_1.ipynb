{
 "cells": [
  {
   "cell_type": "code",
   "execution_count": 1,
   "metadata": {},
   "outputs": [
    {
     "name": "stdout",
     "output_type": "stream",
     "text": [
      "v is two\n"
     ]
    }
   ],
   "source": [
    "def main():\n",
    "    v = 'two'\n",
    "    if v == 'one':\n",
    "        print('v is one')\n",
    "    elif v == 'two':\n",
    "        print('v is two')\n",
    "    elif v == 'three':\n",
    "        print('v is three')\n",
    "    else:\n",
    "        print('v is some other thing')\n",
    "    \n",
    "if __name__ == \"__main__\": main()"
   ]
  }
 ],
 "metadata": {
  "kernelspec": {
   "display_name": "Python 3 (ipykernel)",
   "language": "python",
   "name": "python3"
  },
  "language_info": {
   "codemirror_mode": {
    "name": "ipython",
    "version": 3
   },
   "file_extension": ".py",
   "mimetype": "text/x-python",
   "name": "python",
   "nbconvert_exporter": "python",
   "pygments_lexer": "ipython3",
   "version": "3.9.6"
  }
 },
 "nbformat": 4,
 "nbformat_minor": 2
}
