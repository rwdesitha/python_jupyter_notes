{
 "cells": [
  {
   "cell_type": "code",
   "execution_count": 1,
   "metadata": {},
   "outputs": [
    {
     "name": "stdout",
     "output_type": "stream",
     "text": [
      "1 2 3 (4, 5, 69, 47, 85, 78)\n",
      "4 5 69 47 85 78 "
     ]
    }
   ],
   "source": [
    "def main():\n",
    "    test_func(1, 2, 3, 4, 5, 69, 47, 85, 78)\n",
    "    \n",
    "def test_func(this, that, other, *args):\n",
    "    print(this, that, other, args)  # here the args are comming to us as a tuple, it is immutable\n",
    "    for n in args:\n",
    "        print(n, end=' ')\n",
    "        \n",
    "if __name__ == \"__main__\":\n",
    "    main()\n",
    "\n",
    "    #  here \"*args\" means optional argument list\n",
    "    #  in this example 1 is for this, 2 is for that, 3 is for other and other passed\n",
    "    #  arguments will be inside the *args as a list of items"
   ]
  }
 ],
 "metadata": {
  "kernelspec": {
   "display_name": "Python 3 (ipykernel)",
   "language": "python",
   "name": "python3"
  },
  "language_info": {
   "codemirror_mode": {
    "name": "ipython",
    "version": 3
   },
   "file_extension": ".py",
   "mimetype": "text/x-python",
   "name": "python",
   "nbconvert_exporter": "python",
   "pygments_lexer": "ipython3",
   "version": "3.9.6"
  }
 },
 "nbformat": 4,
 "nbformat_minor": 2
}
