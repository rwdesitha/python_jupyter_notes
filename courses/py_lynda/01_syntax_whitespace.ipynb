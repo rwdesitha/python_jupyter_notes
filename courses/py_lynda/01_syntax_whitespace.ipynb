{
 "cells": [
  {
   "cell_type": "markdown",
   "metadata": {},
   "source": [
    "\n",
    "<br>\n",
    " high level support for doing this and that.<br>\n"
   ]
  },
  {
   "cell_type": "code",
   "execution_count": 1,
   "metadata": {},
   "outputs": [
    {
     "name": "stdout",
     "output_type": "stream",
     "text": [
      "This is the syntax.py file\n",
      "This is the second line\n",
      "This is the second main function\n"
     ]
    }
   ],
   "source": [
    "def main():\n",
    "    \"\"\"\n",
    "    high level support for doing this and that.\n",
    "    \"\"\"\n",
    "    print(\"This is the syntax.py file\")\n",
    "    print(\"This is the second line\")\n",
    "    second_main()\n",
    "    \n",
    "def second_main():\n",
    "    print(\"This is the second main function\")\n",
    "    \n",
    "if __name__ == \"__main__\":\n",
    "    main()"
   ]
  },
  {
   "cell_type": "markdown",
   "metadata": {},
   "source": [
    "a block of code is called a sweet<br>\n",
    "if you have one line of code in a particular structure, that one line of code can be in the same line as the control<br>\n",
    "structure itself<br>\n",
    "if the second_main(): fucntion the white space between second_main():__print is not matters you can add one space,<br>\n",
    "several spaces or no space at all"
   ]
  }
 ],
 "metadata": {
  "kernelspec": {
   "display_name": "Python 3 (ipykernel)",
   "language": "python",
   "name": "python3"
  },
  "language_info": {
   "codemirror_mode": {
    "name": "ipython",
    "version": 3
   },
   "file_extension": ".py",
   "mimetype": "text/x-python",
   "name": "python",
   "nbconvert_exporter": "python",
   "pygments_lexer": "ipython3",
   "version": "3.9.6"
  }
 },
 "nbformat": 4,
 "nbformat_minor": 2
}
