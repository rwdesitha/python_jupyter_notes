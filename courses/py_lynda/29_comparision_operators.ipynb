{
 "cells": [
  {
   "cell_type": "code",
   "execution_count": 1,
   "metadata": {},
   "outputs": [
    {
     "name": "stdout",
     "output_type": "stream",
     "text": [
      "5 < 6 -> True\n",
      "5 > 6 -> False\n",
      "5 <= 6 -> True\n",
      "5 <= 5 -> True\n",
      "5 == 5 -> True\n",
      "5 != 6 -> True\n"
     ]
    }
   ],
   "source": [
    "print(\"5 < 6 ->\", 5 < 6)\n",
    "print(\"5 > 6 ->\", 5 > 6)\n",
    "print(\"5 <= 6 ->\", 5 <= 6)\n",
    "print(\"5 <= 5 ->\", 5 <= 5)\n",
    "print(\"5 == 5 ->\", 5 == 5)\n",
    "print(\"5 != 6 ->\", 5 != 6)"
   ]
  },
  {
   "cell_type": "code",
   "execution_count": 2,
   "metadata": {},
   "outputs": [
    {
     "name": "stdout",
     "output_type": "stream",
     "text": [
      "ID x  2248311597488\n",
      "ID y  2248311597520\n"
     ]
    }
   ],
   "source": [
    "x, y = 5, 6\n",
    "print(\"ID x \", id(x))\n",
    "print(\"ID y \", id(y))"
   ]
  },
  {
   "cell_type": "code",
   "execution_count": 3,
   "metadata": {},
   "outputs": [
    {
     "name": "stdout",
     "output_type": "stream",
     "text": [
      "x is y -> False\n",
      "x is not y -> True\n"
     ]
    }
   ],
   "source": [
    "print(\"x is y ->\", x is y)\n",
    "print(\"x is not y ->\", x is not y)"
   ]
  },
  {
   "cell_type": "code",
   "execution_count": 4,
   "metadata": {},
   "outputs": [
    {
     "name": "stdout",
     "output_type": "stream",
     "text": [
      "ID x  2248311597488\n",
      "ID y  2248311597488\n",
      "x is y -> True\n",
      "x is not y -> False\n"
     ]
    }
   ],
   "source": [
    "y = 5\n",
    "print(\"ID x \", id(x))\n",
    "print(\"ID y \", id(y))\n",
    "print(\"x is y ->\", x is y)\n",
    "print(\"x is not y ->\", x is not y)"
   ]
  },
  {
   "cell_type": "code",
   "execution_count": 5,
   "metadata": {},
   "outputs": [
    {
     "name": "stdout",
     "output_type": "stream",
     "text": [
      "2248311597488\n",
      "2248311597488\n",
      "x1 == y1  True\n",
      "x1 is y1  False\n"
     ]
    }
   ],
   "source": [
    "x1, y1 = [5], [5]\n",
    "print(id(x))\n",
    "print(id(y))\n",
    "print(\"x1 == y1 \", x1 == y1)\n",
    "print(\"x1 is y1 \", x1 is y1)"
   ]
  }
 ],
 "metadata": {
  "kernelspec": {
   "display_name": "Python 3 (ipykernel)",
   "language": "python",
   "name": "python3"
  },
  "language_info": {
   "codemirror_mode": {
    "name": "ipython",
    "version": 3
   },
   "file_extension": ".py",
   "mimetype": "text/x-python",
   "name": "python",
   "nbconvert_exporter": "python",
   "pygments_lexer": "ipython3",
   "version": "3.9.6"
  }
 },
 "nbformat": 4,
 "nbformat_minor": 2
}
