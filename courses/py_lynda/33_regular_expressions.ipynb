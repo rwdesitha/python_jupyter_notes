{
 "cells": [
  {
   "cell_type": "markdown",
   "metadata": {},
   "source": [
    "using regular expression"
   ]
  },
  {
   "cell_type": "markdown",
   "metadata": {},
   "source": [
    "regular expressions are very powerful method of matching patterns in text<br>\n",
    "actually a small language in itself, regexes can be very simple or very complex<br>\n",
    "implemented in python with \"re\" module"
   ]
  },
  {
   "cell_type": "code",
   "execution_count": 2,
   "metadata": {},
   "outputs": [
    {
     "name": "stdout",
     "output_type": "stream",
     "text": [
      "From my books surcease of sorrow - sorrow for the lost Lenore -\n",
      "For the rare and radiant maiden whom the angels named Lenore -\n",
      "And the only word there spoken was the whispered word, \"Lenore!\"\n",
      "This I whispered, and an echo murmured back the word, \"Lenore!\"\n",
      "Quoth the raven, \"Nevermore.\"\n",
      "With such name as \"Nevermore.\"\n",
      "Then the bird said, \"Nevermore.\"\n",
      "Meant in croaking \"Nevermore.\"\n",
      "Respite - respite and nepenthe from thy memories of Lenore!\n",
      "Quaff, oh quaff this kind nepenthe, and forget this lost Lenore!\"\n",
      "Quoth the raven, \"Nevermore.\"\n",
      "Quoth the raven, \"Nevermore.\"\n",
      "It shall clasp a sainted maiden whom the angels named Lenore -\n",
      "Clasp a rare and radiant maiden, whom the angels named Lenore?\"\n",
      "Quoth the raven, \"Nevermore.\"\n",
      "Quoth the raven, \"Nevermore.\"\n"
     ]
    }
   ],
   "source": [
    "import re\n",
    "def main():\n",
    "    fh = open('raven.txt')\n",
    "    for line in fh:\n",
    "        if re.search('(Len|Neverm)ore', line):\n",
    "            print(line, end='')\n",
    "            \n",
    "if __name__ == \"__main__\":main()"
   ]
  }
 ],
 "metadata": {
  "kernelspec": {
   "display_name": "Python 3 (ipykernel)",
   "language": "python",
   "name": "python3"
  },
  "language_info": {
   "codemirror_mode": {
    "name": "ipython",
    "version": 3
   },
   "file_extension": ".py",
   "mimetype": "text/x-python",
   "name": "python",
   "nbconvert_exporter": "python",
   "pygments_lexer": "ipython3",
   "version": "3.9.6"
  }
 },
 "nbformat": 4,
 "nbformat_minor": 2
}
