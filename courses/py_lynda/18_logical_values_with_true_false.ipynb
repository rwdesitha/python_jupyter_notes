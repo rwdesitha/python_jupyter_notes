{
 "cells": [
  {
   "cell_type": "code",
   "execution_count": 1,
   "metadata": {},
   "outputs": [
    {
     "name": "stdout",
     "output_type": "stream",
     "text": [
      "a == b  False\n",
      "Type of True  <class 'bool'>\n",
      "ID of c  140723350722664\n",
      "ID of d  140723350722664\n",
      "ID if True  140723350722664\n"
     ]
    }
   ],
   "source": [
    "a, b = 0, 1\n",
    "print(\"a == b \", a == b)\n",
    "print(\"Type of True \", type(True))\n",
    "c = True\n",
    "d = True\n",
    "print(\"ID of c \", id(c))\n",
    "print(\"ID of d \", id(d))\n",
    "print(\"ID if True \", id(True))"
   ]
  },
  {
   "cell_type": "markdown",
   "metadata": {},
   "source": [
    "false is actually a keyword in python that has a boolean value for false"
   ]
  },
  {
   "cell_type": "markdown",
   "metadata": {},
   "source": [
    "in here c and d are 2 boolean variables, "
   ]
  }
 ],
 "metadata": {
  "kernelspec": {
   "display_name": "Python 3 (ipykernel)",
   "language": "python",
   "name": "python3"
  },
  "language_info": {
   "codemirror_mode": {
    "name": "ipython",
    "version": 3
   },
   "file_extension": ".py",
   "mimetype": "text/x-python",
   "name": "python",
   "nbconvert_exporter": "python",
   "pygments_lexer": "ipython3",
   "version": "3.9.6"
  }
 },
 "nbformat": 4,
 "nbformat_minor": 2
}
