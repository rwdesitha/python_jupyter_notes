{
 "cells": [
  {
   "cell_type": "code",
   "execution_count": 1,
   "metadata": {},
   "outputs": [
    {
     "name": "stdout",
     "output_type": "stream",
     "text": [
      "green\n",
      "None\n",
      "blue\n"
     ]
    }
   ],
   "source": [
    "class Duck:\n",
    "    def __init__(self, **kwargs):\n",
    "        self._color = kwargs.get('color', 'white')\n",
    "    def quack(self):  # because this function has self as its first argument, it is actually a method of the class\n",
    "        print('Quaaack!')\n",
    "    def walk(self):\n",
    "        print('Walk like a duck.')\n",
    "        \n",
    "    def set_color(self, color):\n",
    "        self._color = color\n",
    "        \n",
    "    def get_color(self):\n",
    "        return self._color\n",
    "    \n",
    "def main():\n",
    "    donald = Duck(color='green')\n",
    "    print(donald.get_color())\n",
    "    print(donald.set_color('blue'))\n",
    "    print(donald.get_color())\n",
    "if __name__ == \"__main__\":\n",
    "    main()"
   ]
  }
 ],
 "metadata": {
  "kernelspec": {
   "display_name": "Python 3 (ipykernel)",
   "language": "python",
   "name": "python3"
  },
  "language_info": {
   "codemirror_mode": {
    "name": "ipython",
    "version": 3
   },
   "file_extension": ".py",
   "mimetype": "text/x-python",
   "name": "python",
   "nbconvert_exporter": "python",
   "pygments_lexer": "ipython3",
   "version": "3.9.6"
  }
 },
 "nbformat": 4,
 "nbformat_minor": 2
}
