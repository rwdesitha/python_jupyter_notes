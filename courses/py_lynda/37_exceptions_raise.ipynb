{
 "cells": [
  {
   "cell_type": "code",
   "execution_count": 1,
   "metadata": {},
   "outputs": [
    {
     "ename": "SyntaxError",
     "evalue": "invalid syntax (Temp/ipykernel_10004/2218252322.py, line 13)",
     "output_type": "error",
     "traceback": [
      "\u001b[1;36m  File \u001b[1;32m\"C:\\Users\\Desitha.RW\\AppData\\Local\\Temp/ipykernel_10004/2218252322.py\"\u001b[1;36m, line \u001b[1;32m13\u001b[0m\n\u001b[1;33m    else: raise ValueError('Filename must end with .txt').\u001b[0m\n\u001b[1;37m                                                          ^\u001b[0m\n\u001b[1;31mSyntaxError\u001b[0m\u001b[1;31m:\u001b[0m invalid syntax\n"
     ]
    }
   ],
   "source": [
    "def main():\n",
    "    try:\n",
    "        for line in readfile('liness.txt'):print(line.strip())\n",
    "    except IOError as e:\n",
    "        print('cannot read file:', e)\n",
    "    except ValueError as e:\n",
    "        print('Bad file name', e)\n",
    "        \n",
    "def readfile(fileName):\n",
    "    if fileName.endswith('.txt'):\n",
    "        fh = open(fileName)\n",
    "        return fh.readlines()\n",
    "    else: raise ValueError('Filename must end with .txt').\n",
    "        \n",
    "if __name__ == \"__main__\" : main()"
   ]
  },
  {
   "cell_type": "code",
   "execution_count": null,
   "metadata": {},
   "outputs": [],
   "source": []
  }
 ],
 "metadata": {
  "kernelspec": {
   "display_name": "Python 3 (ipykernel)",
   "language": "python",
   "name": "python3"
  },
  "language_info": {
   "codemirror_mode": {
    "name": "ipython",
    "version": 3
   },
   "file_extension": ".py",
   "mimetype": "text/x-python",
   "name": "python",
   "nbconvert_exporter": "python",
   "pygments_lexer": "ipython3",
   "version": "3.9.6"
  }
 },
 "nbformat": 4,
 "nbformat_minor": 2
}
