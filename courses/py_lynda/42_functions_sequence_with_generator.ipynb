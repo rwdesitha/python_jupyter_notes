{
 "cells": [
  {
   "cell_type": "code",
   "execution_count": null,
   "metadata": {},
   "outputs": [],
   "source": [
    "def main():\n",
    "    for i in inclusive_range(0, 25, 1):\n",
    "        print(i, end=' ')\n",
    "    print()\n",
    "    for i in inclusive_range1(0, 3, 2):\n",
    "        print(i, end=' ')\n",
    "        \n",
    "def inclusive_range(start, stop, step):\n",
    "    i = start\n",
    "    while i <= stop:\n",
    "        yield i  # what this yield, we haven't use return we use yield instead of return, why?, what that does is it\n",
    "        # returns i but we are usin yeild instead of return, the next time the fucntion is called execution will\n",
    "        # continue right after the yield statement. So the next thing that will happen i will get incremented by step\n",
    "        #  and then loop will be tested again\n",
    "        i += step\n",
    "        \n",
    "def inclusive_range1(*args):\n",
    "    numargs = len(args)\n",
    "    if numargs < 1:\n",
    "        raise TypeError('required at least one argument')\n",
    "    elif numargs == 1:\n",
    "        stop = args[0]\n",
    "        start = 0\n",
    "        step = 1\n",
    "    elif numargs == 2:\n",
    "        (start, stop) = args\n",
    "        step = 1\n",
    "    elif numargs == 3:\n",
    "        (start, stop, step) = args\n",
    "    else:\n",
    "        raise TypeError('inclusive_range expected at most 3 arguments, got {}'.format(numargs))\n",
    "    i = start\n",
    "    while i <= stop:\n",
    "        yield i  # what this yield, we haven't use return we use yield instead of return, why?, what that does is it\n",
    "        # returns i but we are usin yeild instead of return, the next time the fucntion is called execution will\n",
    "        # continue right after the yield statement. So the next thing that will happen i will get incremented by step\n",
    "        #  and then loop will be tested again\n",
    "        i += step\n",
    "        \n",
    "if __name__ == \"__main__\":\n",
    "    main()"
   ]
  },
  {
   "cell_type": "markdown",
   "metadata": {},
   "source": [
    " generator function is a function that return a iterator object"
   ]
  }
 ],
 "metadata": {
  "kernelspec": {
   "display_name": "Python 3 (ipykernel)",
   "language": "python",
   "name": "python3"
  },
  "language_info": {
   "codemirror_mode": {
    "name": "ipython",
    "version": 3
   },
   "file_extension": ".py",
   "mimetype": "text/x-python",
   "name": "python",
   "nbconvert_exporter": "python",
   "pygments_lexer": "ipython3",
   "version": "3.9.6"
  }
 },
 "nbformat": 4,
 "nbformat_minor": 2
}
