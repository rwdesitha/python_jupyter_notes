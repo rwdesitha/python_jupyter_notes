{
 "cells": [
  {
   "cell_type": "code",
   "execution_count": 1,
   "metadata": {},
   "outputs": [
    {
     "name": "stdout",
     "output_type": "stream",
     "text": [
      "<class 'int'> 42\n",
      "<class 'float'> 4.666666666666667\n",
      "<class 'int'> 4\n",
      "<class 'int'> 5\n",
      "<class 'float'> 4.67\n",
      "<class 'int'> 6\n",
      "<class 'int'> 42\n",
      "<class 'float'> 42.0\n"
     ]
    }
   ],
   "source": [
    "def main():\n",
    "    num = 42\n",
    "    print(type(num), num)\n",
    "    \n",
    "    num1 = 42 / 9  # nornal division\n",
    "    print(type(num1), num1)\n",
    "    \n",
    "    num2 = 42 // 9  # integer division\n",
    "    print(type(num2), num2)\n",
    "    \n",
    "    num3 = round(42/9)  # round\n",
    "    print(type(num3), num3)\n",
    "    \n",
    "    num4 = round(42/9, 2)  # round with 2 decimal places\n",
    "    print(type(num4), num4)\n",
    "    \n",
    "    num5 = round(42%9)  # modular\n",
    "    print(type(num5), num5)\n",
    "    \n",
    "    num6 = int(42.9)  # creating a integer by passing a value to integer constructor\n",
    "    print(type(num6), num6)\n",
    "    \n",
    "    num7 = float(42)  # creating a float by passing a value to the float constructor\n",
    "    print(type(num7), num7)    \n",
    "    \n",
    "if __name__ == \"__main__\" :\n",
    "    main()"
   ]
  },
  {
   "cell_type": "markdown",
   "metadata": {},
   "source": [
    "there are two type of numbers in python integers and floats"
   ]
  }
 ],
 "metadata": {
  "kernelspec": {
   "display_name": "Python 3 (ipykernel)",
   "language": "python",
   "name": "python3"
  },
  "language_info": {
   "codemirror_mode": {
    "name": "ipython",
    "version": 3
   },
   "file_extension": ".py",
   "mimetype": "text/x-python",
   "name": "python",
   "nbconvert_exporter": "python",
   "pygments_lexer": "ipython3",
   "version": "3.9.6"
  }
 },
 "nbformat": 4,
 "nbformat_minor": 2
}
