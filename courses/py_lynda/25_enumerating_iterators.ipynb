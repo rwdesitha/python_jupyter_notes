{
 "cells": [
  {
   "cell_type": "code",
   "execution_count": 1,
   "metadata": {},
   "outputs": [
    {
     "name": "stdout",
     "output_type": "stream",
     "text": [
      "0 hello\n",
      "1 hello1\n",
      "2 hello2\n",
      "3 hello3\n",
      "index 3 is an s\n",
      "index 6 is an s\n",
      "index 10 is an s\n"
     ]
    }
   ],
   "source": [
    "def main():\n",
    "    fh = open('lines.txt')\n",
    "    for index,line in enumerate(fh.readlines()):# readlines() method gives us the iterator to iterate through the file\n",
    "        print(index, line, end='')\n",
    "    print()\n",
    "    s = 'this is a string'\n",
    "    for i,c in enumerate(s):\n",
    "        if c == 's' : print('index {} is an s'.format(i))\n",
    "if __name__ == \"__main__\": main()"
   ]
  }
 ],
 "metadata": {
  "kernelspec": {
   "display_name": "Python 3 (ipykernel)",
   "language": "python",
   "name": "python3"
  },
  "language_info": {
   "codemirror_mode": {
    "name": "ipython",
    "version": 3
   },
   "file_extension": ".py",
   "mimetype": "text/x-python",
   "name": "python",
   "nbconvert_exporter": "python",
   "pygments_lexer": "ipython3",
   "version": "3.9.6"
  }
 },
 "nbformat": 4,
 "nbformat_minor": 2
}
