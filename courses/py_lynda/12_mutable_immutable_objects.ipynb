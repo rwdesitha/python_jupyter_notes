{
 "cells": [
  {
   "cell_type": "code",
   "execution_count": 1,
   "metadata": {},
   "outputs": [
    {
     "name": "stdout",
     "output_type": "stream",
     "text": [
      "value -> 42\n",
      "Type -> <class 'int'>\n",
      "ID -> 2111963754064\n",
      "ID after changing to 45 -> 2111963754160\n",
      "ID after changing again to 42 -> 2111963754064\n"
     ]
    }
   ],
   "source": [
    "x = 42\n",
    "print(\"value ->\", x)\n",
    "print(\"Type ->\", type(x))\n",
    "print(\"ID ->\", id(x))\n",
    "x = 45\n",
    "print(\"ID after changing to 45 ->\", id(x))\n",
    "x = 42\n",
    "print(\"ID after changing again to 42 ->\", id(x))"
   ]
  }
 ],
 "metadata": {
  "kernelspec": {
   "display_name": "Python 3 (ipykernel)",
   "language": "python",
   "name": "python3"
  },
  "language_info": {
   "codemirror_mode": {
    "name": "ipython",
    "version": 3
   },
   "file_extension": ".py",
   "mimetype": "text/x-python",
   "name": "python",
   "nbconvert_exporter": "python",
   "pygments_lexer": "ipython3",
   "version": "3.9.6"
  }
 },
 "nbformat": 4,
 "nbformat_minor": 2
}
