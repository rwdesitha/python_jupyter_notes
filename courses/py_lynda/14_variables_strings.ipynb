{
 "cells": [
  {
   "cell_type": "code",
   "execution_count": 1,
   "metadata": {},
   "outputs": [
    {
     "name": "stdout",
     "output_type": "stream",
     "text": [
      "This is a string\n",
      "This\n",
      " is a string\n",
      "This\\n is a string\n",
      "This is 42 string!\n",
      " hello brother \n",
      "    this is a string\n",
      "---------------------\n",
      "    hii \n",
      "    i am a \n",
      "    string\n"
     ]
    }
   ],
   "source": [
    "def main():\n",
    "    s = \"This is a string\"\n",
    "    print(s)\n",
    "    s1 = \"This\\n is a string\"\n",
    "    print(s1)\n",
    "    s2 = r\"This\\n is a string\"  # this is called a raw string\n",
    "    print(s2)\n",
    "    \n",
    "    n = 42\n",
    "    s3 = \"This is {} string!\".format(n)\n",
    "    print(s3)\n",
    "    \n",
    "    s4 = ''' hello brother \n",
    "    this is a string'''\n",
    "    print(s4)\n",
    "    print(\"---------------------\")\n",
    "    s5 = \"\"\"\\\n",
    "    hii \n",
    "    i am a \n",
    "    string\"\"\"\n",
    "    print(s5)\n",
    "    \n",
    "if __name__ ==\"__main__\":main()"
   ]
  },
  {
   "cell_type": "markdown",
   "metadata": {},
   "source": [
    "strings in python are immutable objects<br>\n",
    "you can use \" or ' to create a string<br>\n",
    "you can use escape characters in strings"
   ]
  }
 ],
 "metadata": {
  "kernelspec": {
   "display_name": "Python 3 (ipykernel)",
   "language": "python",
   "name": "python3"
  },
  "language_info": {
   "codemirror_mode": {
    "name": "ipython",
    "version": 3
   },
   "file_extension": ".py",
   "mimetype": "text/x-python",
   "name": "python",
   "nbconvert_exporter": "python",
   "pygments_lexer": "ipython3",
   "version": "3.9.6"
  }
 },
 "nbformat": 4,
 "nbformat_minor": 2
}
