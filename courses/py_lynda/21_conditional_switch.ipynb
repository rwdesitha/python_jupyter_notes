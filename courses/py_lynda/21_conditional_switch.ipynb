{
 "cells": [
  {
   "cell_type": "code",
   "execution_count": 1,
   "metadata": {},
   "outputs": [
    {
     "name": "stdout",
     "output_type": "stream",
     "text": [
      "first\n",
      "default value\n"
     ]
    }
   ],
   "source": [
    "def main():\n",
    "    choices = dict(\n",
    "        one = 'first',\n",
    "        two = 'second',\n",
    "        three = 'three',\n",
    "        four = 'fourth',\n",
    "        five = 'fifth'\n",
    "    )\n",
    "    \n",
    "    v = 'one'\n",
    "    print(choices[v])\n",
    "    print(choices.get('twoq', 'default value')) #default value will be printed if the get value if not found in the dictionary\n",
    "    \n",
    "if __name__ == \"__main__\" : main()"
   ]
  }
 ],
 "metadata": {
  "kernelspec": {
   "display_name": "Python 3 (ipykernel)",
   "language": "python",
   "name": "python3"
  },
  "language_info": {
   "codemirror_mode": {
    "name": "ipython",
    "version": 3
   },
   "file_extension": ".py",
   "mimetype": "text/x-python",
   "name": "python",
   "nbconvert_exporter": "python",
   "pygments_lexer": "ipython3",
   "version": "3.9.6"
  }
 },
 "nbformat": 4,
 "nbformat_minor": 2
}
