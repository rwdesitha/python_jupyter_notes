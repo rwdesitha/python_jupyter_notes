{
 "cells": [
  {
   "cell_type": "code",
   "execution_count": 1,
   "metadata": {},
   "outputs": [
    {
     "name": "stdout",
     "output_type": "stream",
     "text": [
      "0 1 2 3 4 5 6 7 8 9 10 11 12 13 14 15 16 17 18 19 20 21 22 23 24 25 "
     ]
    }
   ],
   "source": [
    "class InclusiveRage:\n",
    "    def __init__(self, *args):\n",
    "        numargs = len(args)\n",
    "        if numargs < 1:\n",
    "            raise TypeError('required al least one argument')\n",
    "        elif numargs == 1:\n",
    "            self.stop = args[0]\n",
    "            self.start = 0\n",
    "            self.step = 1\n",
    "        elif numargs == 2:\n",
    "            (self.start, self.stop) = args\n",
    "            self.step = 1\n",
    "        elif numargs == 3:\n",
    "            (self.start, self.stop, self.step) = args\n",
    "        else:\n",
    "            raise TypeError('expected at most 3 args, ogt{}'.format(numargs))\n",
    "    def __iter__(self):\n",
    "        i = self.start\n",
    "        while i <= self.stop:\n",
    "            yield i\n",
    "            i += self.step\n",
    "            \n",
    "def main():\n",
    "    #  o = InclusiveRage(1, 25, 5)\n",
    "    #  for i in o:\n",
    "    #    print(i, end=' ')\n",
    "    # if __iter__ is use there is no need to do above\n",
    "    for i in InclusiveRage(25):\n",
    "        print(i, end=' ')\n",
    "        \n",
    "if __name__ == \"__main__\":\n",
    "    main()"
   ]
  }
 ],
 "metadata": {
  "kernelspec": {
   "display_name": "Python 3 (ipykernel)",
   "language": "python",
   "name": "python3"
  },
  "language_info": {
   "codemirror_mode": {
    "name": "ipython",
    "version": 3
   },
   "file_extension": ".py",
   "mimetype": "text/x-python",
   "name": "python",
   "nbconvert_exporter": "python",
   "pygments_lexer": "ipython3",
   "version": "3.9.6"
  }
 },
 "nbformat": 4,
 "nbformat_minor": 2
}
