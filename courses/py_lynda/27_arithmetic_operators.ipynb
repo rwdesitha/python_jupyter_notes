{
 "cells": [
  {
   "cell_type": "code",
   "execution_count": 1,
   "metadata": {},
   "outputs": [
    {
     "name": "stdout",
     "output_type": "stream",
     "text": [
      "5 + 5 -  10\n",
      "5 - 5 -  0\n",
      "5 * 5 -  25\n",
      "5 / 3 -  1.6666666666666667\n",
      "5 // 3 -  1\n",
      "5 % 5 -  0\n",
      "-------------------------------------\n",
      "5\n",
      "num += 1 6\n",
      "num -= 1 5\n",
      "num *= 1 5\n",
      "num /= 1 5.0\n",
      "num //= 1 5.0\n"
     ]
    }
   ],
   "source": [
    "print(\"5 + 5 - \", 5 + 5)\n",
    "print(\"5 - 5 - \", 5 - 5)\n",
    "print(\"5 * 5 - \", 5 * 5)\n",
    "print(\"5 / 3 - \", 5 / 3)\n",
    "print(\"5 // 3 - \", 5 // 5)\n",
    "print(\"5 % 5 - \", 5 % 5)\n",
    "print('-------------------------------------')\n",
    "num = 5\n",
    "print(num)\n",
    "num += 1\n",
    "print(\"num += 1\", num) \n",
    "num -= 1\n",
    "print(\"num -= 1\", num) \n",
    "num *= 1\n",
    "print(\"num *= 1\", num) \n",
    "num /= 1\n",
    "print(\"num /= 1\", num) \n",
    "num //= 1\n",
    "print(\"num //= 1\", num) "
   ]
  }
 ],
 "metadata": {
  "kernelspec": {
   "display_name": "Python 3 (ipykernel)",
   "language": "python",
   "name": "python3"
  },
  "language_info": {
   "codemirror_mode": {
    "name": "ipython",
    "version": 3
   },
   "file_extension": ".py",
   "mimetype": "text/x-python",
   "name": "python",
   "nbconvert_exporter": "python",
   "pygments_lexer": "ipython3",
   "version": "3.9.6"
  }
 },
 "nbformat": 4,
 "nbformat_minor": 2
}
