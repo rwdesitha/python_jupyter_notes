{
 "cells": [
  {
   "cell_type": "code",
   "execution_count": 1,
   "metadata": {},
   "outputs": [
    {
     "name": "stdout",
     "output_type": "stream",
     "text": [
      "<class 'int'>\n",
      "1884426694224\n",
      "<class 'int'>\n",
      "1884426694256\n",
      "<class 'int'>\n",
      "1884426694224\n",
      "<class 'int'>\n",
      "1884426694224\n"
     ]
    }
   ],
   "source": [
    "x = 42  # integers are immutable objects in python\n",
    "\n",
    "print(type(x))\n",
    "print(id(x))\n",
    "\n",
    "x = 43\n",
    "print(type(x))\n",
    "print(id(x))\n",
    "\n",
    "x = 42\n",
    "\n",
    "print(type(x))\n",
    "print(id(x))\n",
    "\n",
    "y = 42\n",
    "print(type(y))\n",
    "print(id(y))"
   ]
  }
 ],
 "metadata": {
  "kernelspec": {
   "display_name": "Python 3 (ipykernel)",
   "language": "python",
   "name": "python3"
  },
  "language_info": {
   "codemirror_mode": {
    "name": "ipython",
    "version": 3
   },
   "file_extension": ".py",
   "mimetype": "text/x-python",
   "name": "python",
   "nbconvert_exporter": "python",
   "pygments_lexer": "ipython3",
   "version": "3.9.6"
  }
 },
 "nbformat": 4,
 "nbformat_minor": 2
}
