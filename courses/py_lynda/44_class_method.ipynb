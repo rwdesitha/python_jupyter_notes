{
 "cells": [
  {
   "cell_type": "code",
   "execution_count": null,
   "metadata": {},
   "outputs": [],
   "source": [
    "class Duck:\n",
    "    def __init__(self, value):  # this is the class constructor\n",
    "        self._v = value\n",
    "        print('constructor', self._v)\n",
    "    def quack(self):  # because this function has self as its first argument, it is actually a method of the class.\n",
    "        # This self is a reference to the object itself\n",
    "        print('Quaaack!')\n",
    "    def walk(self):\n",
    "        print('Walk like a duck.')\n",
    "        \n",
    "def main():\n",
    "    donald = Duck(25)\n",
    "    donald.quack()  # when quack get called int he donald object donald get passed automatically as a parameter to\n",
    "    # quack method. donald.quack(donald)\n",
    "    donald.walk()\n",
    "    \n",
    "if __name__ == \"__main__\":\n",
    "    main()"
   ]
  }
 ],
 "metadata": {
  "kernelspec": {
   "display_name": "Python 3 (ipykernel)",
   "language": "python",
   "name": "python3"
  },
  "language_info": {
   "codemirror_mode": {
    "name": "ipython",
    "version": 3
   },
   "file_extension": ".py",
   "mimetype": "text/x-python",
   "name": "python",
   "nbconvert_exporter": "python",
   "pygments_lexer": "ipython3",
   "version": "3.9.6"
  }
 },
 "nbformat": 4,
 "nbformat_minor": 2
}
