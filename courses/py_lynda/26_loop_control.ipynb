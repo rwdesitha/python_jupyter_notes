{
 "cells": [
  {
   "cell_type": "code",
   "execution_count": 1,
   "metadata": {},
   "outputs": [
    {
     "name": "stdout",
     "output_type": "stream",
     "text": [
      "thi i a tring\n",
      "Iterator is finish\n",
      "this is a string\n",
      "Iterator is finish in while loop\n",
      "\n",
      "thi"
     ]
    }
   ],
   "source": [
    "def main():\n",
    "    s = 'this is a string'\n",
    "    for c in s:\n",
    "        if c == 's': continue\n",
    "        print(c, end='')\n",
    "    else:\n",
    "        print()\n",
    "        print('Iterator is finish')\n",
    "        \n",
    "    i = 0\n",
    "    while i < len(s):\n",
    "        print(s[i], end='')\n",
    "        i += 1\n",
    "    else:\n",
    "        print()\n",
    "        print('Iterator is finish in while loop')\n",
    "    print()\n",
    "    for c in s:\n",
    "        if c == 's': break\n",
    "        print(c, end='')    \n",
    "    \n",
    "if __name__ == \"__main__\":\n",
    "    main()"
   ]
  }
 ],
 "metadata": {
  "kernelspec": {
   "display_name": "Python 3 (ipykernel)",
   "language": "python",
   "name": "python3"
  },
  "language_info": {
   "codemirror_mode": {
    "name": "ipython",
    "version": 3
   },
   "file_extension": ".py",
   "mimetype": "text/x-python",
   "name": "python",
   "nbconvert_exporter": "python",
   "pygments_lexer": "ipython3",
   "version": "3.9.6"
  }
 },
 "nbformat": 4,
 "nbformat_minor": 2
}
