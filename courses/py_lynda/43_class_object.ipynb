{
 "cells": [
  {
   "cell_type": "code",
   "execution_count": null,
   "metadata": {},
   "outputs": [],
   "source": [
    "class Duck:\n",
    "    def quack(self):  # because this function has self as its first argument, it is actually a method of the class\n",
    "        print('Quaaack!')\n",
    "    def walk(self):\n",
    "        print('Walk like a duck.')\n",
    "    def walk1(self):\n",
    "        print('Walk like a duck.')\n",
    "        \n",
    "def main():\n",
    "    donald = Duck()\n",
    "    print('-----------------------------------')\n",
    "    print(donald)\n",
    "    print('-----------------------------------')\n",
    "    donald.quack()\n",
    "    donald.walk()\n",
    "    donald.walk1()\n",
    "    \n",
    "def hello():\n",
    "    print(\"Hello\")\n",
    "    \n",
    "    \n",
    "if __name__ == \"__main__\":\n",
    "    main()\n",
    "    hello()"
   ]
  }
 ],
 "metadata": {
  "kernelspec": {
   "display_name": "Python 3 (ipykernel)",
   "language": "python",
   "name": "python3"
  },
  "language_info": {
   "codemirror_mode": {
    "name": "ipython",
    "version": 3
   },
   "file_extension": ".py",
   "mimetype": "text/x-python",
   "name": "python",
   "nbconvert_exporter": "python",
   "pygments_lexer": "ipython3",
   "version": "3.9.6"
  }
 },
 "nbformat": 4,
 "nbformat_minor": 2
}
