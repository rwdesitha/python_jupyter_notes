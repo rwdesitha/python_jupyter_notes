{
 "cells": [
  {
   "cell_type": "code",
   "execution_count": 1,
   "metadata": {},
   "outputs": [
    {
     "name": "stdout",
     "output_type": "stream",
     "text": [
      "This is a test function 1 2 42\n",
      "This is a test function 5 55 65 (4, 5, 6, 7, 8, 9) 1 2 42\n",
      "one 1\n",
      "two 2\n",
      "four 42\n"
     ]
    }
   ],
   "source": [
    "def main():\n",
    "    test_func(one=1, two=2, four=42)  # passing named arguments\n",
    "    test_func1(5, 55, 65, 4, 5, 6, 7, 8, 9, one=1, two=2, four=42)\n",
    "    \n",
    "def test_func(**kwargs):  # kwargs is actually a dictionary\n",
    "    print(\"This is a test function\", kwargs['one'], kwargs['two'], kwargs['four'])\n",
    "    #  named parameters are grabbed by **kwargs (keyword arguments)\n",
    "    \n",
    "def test_func1(this, that, other, *args, **kwargs):  # kwargs is actually a dictionary\n",
    "    print(\"This is a test function\", this, that, other, args, kwargs['one'], kwargs['two'], kwargs['four'])\n",
    "    for k in kwargs:\n",
    "        print(k, kwargs[k])\n",
    "        \n",
    "if __name__ == \"__main__\":\n",
    "    main()"
   ]
  },
  {
   "cell_type": "markdown",
   "metadata": {},
   "source": [
    "normal arguments first then tuple arguments (arbitary arguments) and keyword arguments after that"
   ]
  },
  {
   "cell_type": "markdown",
   "metadata": {},
   "source": [
    "dictionary don't have any particular patter in returning results, but tuples will give the reuslt in which other you<br>\n",
    "put items to the tuple"
   ]
  }
 ],
 "metadata": {
  "kernelspec": {
   "display_name": "Python 3 (ipykernel)",
   "language": "python",
   "name": "python3"
  },
  "language_info": {
   "codemirror_mode": {
    "name": "ipython",
    "version": 3
   },
   "file_extension": ".py",
   "mimetype": "text/x-python",
   "name": "python",
   "nbconvert_exporter": "python",
   "pygments_lexer": "ipython3",
   "version": "3.9.6"
  }
 },
 "nbformat": 4,
 "nbformat_minor": 2
}
