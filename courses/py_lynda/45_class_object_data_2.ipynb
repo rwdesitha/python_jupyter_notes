{
 "cells": [
  {
   "cell_type": "code",
   "execution_count": 2,
   "metadata": {},
   "outputs": [
    {
     "name": "stdout",
     "output_type": "stream",
     "text": [
      "red\n",
      "None\n"
     ]
    }
   ],
   "source": [
    "class Duck:\n",
    "    def __init__(self, **kwargs):\n",
    "        self.variables = kwargs\n",
    "    def quack(self):  # because this function has self as its first argument, it is actually a method of the class\n",
    "        print('Quaaack!')\n",
    "        \n",
    "    def walk(self):\n",
    "        print('Walk like a duck.')\n",
    "        \n",
    "    def set_color(self, color):\n",
    "        self.variables['color'] = color\n",
    "        \n",
    "    def get_color(self):\n",
    "        return self.variables.get('color', None)\n",
    "    \n",
    "def main():\n",
    "    donald = Duck(feet=2)\n",
    "    donald.set_color('red')\n",
    "    print(donald.get_color())\n",
    "    donald_bro = Duck(feet=3)\n",
    "    print(donald_bro.get_color())\n",
    "    \n",
    "if __name__ == \"__main__\":\n",
    "    main()"
   ]
  }
 ],
 "metadata": {
  "kernelspec": {
   "display_name": "Python 3 (ipykernel)",
   "language": "python",
   "name": "python3"
  },
  "language_info": {
   "codemirror_mode": {
    "name": "ipython",
    "version": 3
   },
   "file_extension": ".py",
   "mimetype": "text/x-python",
   "name": "python",
   "nbconvert_exporter": "python",
   "pygments_lexer": "ipython3",
   "version": "3.9.6"
  }
 },
 "nbformat": 4,
 "nbformat_minor": 2
}
