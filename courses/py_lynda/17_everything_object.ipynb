{
 "cells": [
  {
   "cell_type": "code",
   "execution_count": 1,
   "metadata": {},
   "outputs": [
    {
     "name": "stdout",
     "output_type": "stream",
     "text": [
      "ID of x  1986563632720\n",
      "Type of x  <class 'int'>\n",
      "ID of 42 1986563632720\n",
      "ID of y  1986563632720\n",
      "x is y  True\n",
      "x == y  True\n",
      "{'x': 42}\n",
      "d1 ID  1986637326592\n",
      "{'x': 42}\n",
      "d2 ID  1986637326912\n",
      "x == y  True\n",
      "x is y  False\n"
     ]
    }
   ],
   "source": [
    "x = 42\n",
    "print(\"ID of x \", id(x))\n",
    "print(\"Type of x \", type(x))\n",
    "print(\"ID of 42\", id(42))\n",
    "y = 42\n",
    "print(\"ID of y \", id(y))\n",
    "print(\"x is y \", x is y)    # is operator compares the IDs of a variable to check wheather they are refereing to the exactly same object\n",
    "print(\"x == y \", x == y)    # only check if the vlaues are the same\n",
    "d1 = dict(x=42)\n",
    "print(d1)\n",
    "print(\"d1 ID \", id(d1))\n",
    "d2 = dict(x=42)\n",
    "print(d2)\n",
    "print(\"d2 ID \", id(d2))\n",
    "print(\"x == y \", d1 == d2)\n",
    "print(\"x is y \", d1 is d2)"
   ]
  },
  {
   "cell_type": "markdown",
   "metadata": {},
   "source": [
    "in the above example the value of variable x is 42 and we create a another variable y with the<br>\n",
    "exact same value i.e. 42.<br>\n",
    "now if we check the ID of x and y both of them will give us the same ID, because both of them are referring to<br>\n",
    "the same object i.e 42<br>\n",
    "this is because integer variables in python are immutable objects<br>\n",
    "<br>\n",
    "in the above example the value of vaiable d1 and d2 is same we assign them bothe the same value.<br>\n",
    "now if we check check IDs of those dictionary variables, unlike in the above example although they are refering to the<br>\n",
    " same vale they have different IDs<br>\n",
    "this is because dictionaries in python are mutable object"
   ]
  }
 ],
 "metadata": {
  "kernelspec": {
   "display_name": "Python 3 (ipykernel)",
   "language": "python",
   "name": "python3"
  },
  "language_info": {
   "codemirror_mode": {
    "name": "ipython",
    "version": 3
   },
   "file_extension": ".py",
   "mimetype": "text/x-python",
   "name": "python",
   "nbconvert_exporter": "python",
   "pygments_lexer": "ipython3",
   "version": "3.9.6"
  }
 },
 "nbformat": 4,
 "nbformat_minor": 2
}
