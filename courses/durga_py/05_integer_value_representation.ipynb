{
 "cells": [
  {
   "cell_type": "markdown",
   "id": "amended-newark",
   "metadata": {},
   "source": [
    "- Python is a dynamically typed programming language, which means we do not have to declare the data type of the variables.\n",
    "- Everything in python is a class even int, float types are also considered as objects\n",
    "- In python3 long data type is not available, int is the only whole number data type"
   ]
  },
  {
   "cell_type": "code",
   "execution_count": 1,
   "id": "alpha-forth",
   "metadata": {},
   "outputs": [
    {
     "name": "stdout",
     "output_type": "stream",
     "text": [
      "10\n"
     ]
    },
    {
     "data": {
      "text/plain": [
       "int"
      ]
     },
     "execution_count": 1,
     "metadata": {},
     "output_type": "execute_result"
    }
   ],
   "source": [
    "a=10\n",
    "print(a)\n",
    "type(a)"
   ]
  },
  {
   "cell_type": "markdown",
   "id": "suspended-shame",
   "metadata": {},
   "source": [
    "For int datatype we can specify values in 4 ways\n",
    "\n",
    "1. Decimal form (Base 10)\n",
    "    - 654849 \n",
    "2. Binary form (Base 2)\n",
    "    - 0B1111 Binary negative | zero|capital or simple 'b'\n",
    "3. Octal form (Base 8)\n",
    "    - oB1111 ocatal number | zero|capital or simple 'o'\n",
    "4. Hexa decimal\n",
    "    - Hexa number | zero|capital or simple 'x'"
   ]
  },
  {
   "cell_type": "code",
   "execution_count": 14,
   "id": "terminal-wright",
   "metadata": {},
   "outputs": [
    {
     "name": "stdout",
     "output_type": "stream",
     "text": [
      "1111\n",
      "15\n",
      "-15\n",
      "511\n",
      "64206\n",
      "False\n",
      "2146865372176\n",
      "2146865371888\n"
     ]
    }
   ],
   "source": [
    "a=1111\n",
    "print(a)\n",
    "a=0B1111 # Binary positive\n",
    "print(a)\n",
    "a=-0B1111 # Binary negative | zero|capital or simple 'b'\n",
    "print(a)\n",
    "a=0O777 # ocatal number | zero|capital or simple 'o'\n",
    "print(a)\n",
    "a=0XFace\n",
    "print(a)\n"
   ]
  }
 ],
 "metadata": {
  "kernelspec": {
   "display_name": "Python 3",
   "language": "python",
   "name": "python3"
  },
  "language_info": {
   "codemirror_mode": {
    "name": "ipython",
    "version": 3
   },
   "file_extension": ".py",
   "mimetype": "text/x-python",
   "name": "python",
   "nbconvert_exporter": "python",
   "pygments_lexer": "ipython3",
   "version": "3.9.2"
  }
 },
 "nbformat": 4,
 "nbformat_minor": 5
}
