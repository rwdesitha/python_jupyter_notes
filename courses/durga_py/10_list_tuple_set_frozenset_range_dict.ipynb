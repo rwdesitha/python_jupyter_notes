{
 "cells": [
  {
   "cell_type": "markdown",
   "id": "inner-optimization",
   "metadata": {},
   "source": [
    "List data type:\n",
    "- Insertion order is preserved\n",
    "- duplicates are allowed\n",
    "- heterogeneous objects\n",
    "- growable"
   ]
  },
  {
   "cell_type": "code",
   "execution_count": 2,
   "id": "offshore-value",
   "metadata": {},
   "outputs": [
    {
     "name": "stdout",
     "output_type": "stream",
     "text": [
      "[10, 20, 30, 'des', 10, 20, 30, 'des', 10, 20, 30, 'des']\n"
     ]
    }
   ],
   "source": [
    "l=[10, 20, 30, \"des\",]\n",
    "print(l*3)"
   ]
  },
  {
   "cell_type": "markdown",
   "id": "forward-publication",
   "metadata": {},
   "source": [
    "Tuple\n",
    "- Tuple is same as list with one difference, that is \n",
    "    - List is mutable but Tuple is immutable."
   ]
  },
  {
   "cell_type": "code",
   "execution_count": 2,
   "id": "criminal-municipality",
   "metadata": {},
   "outputs": [
    {
     "name": "stdout",
     "output_type": "stream",
     "text": [
      "<class 'list'>\n",
      "<class 'tuple'>\n",
      "(10, 20, 'Python', True)\n"
     ]
    }
   ],
   "source": [
    "l=[10, 20, 30, 40] # List declare\n",
    "t=(10, 20, 30) # Tuple declare\n",
    "\n",
    "print(type(l))\n",
    "print(type(t))\n",
    "\n",
    "t1=(10, 20, 'Python', True)\n",
    "\n",
    "print(t1)"
   ]
  },
  {
   "cell_type": "markdown",
   "id": "multiple-trial",
   "metadata": {},
   "source": [
    "Accessing a tuple"
   ]
  },
  {
   "cell_type": "code",
   "execution_count": 5,
   "id": "optimum-greenhouse",
   "metadata": {},
   "outputs": [
    {
     "name": "stdout",
     "output_type": "stream",
     "text": [
      "10\n",
      "(10, 20, 'Python')\n"
     ]
    }
   ],
   "source": [
    "print(t1[0])\n",
    "print(t1[0:3])"
   ]
  },
  {
   "cell_type": "code",
   "execution_count": 7,
   "id": "adjustable-merit",
   "metadata": {
    "scrolled": true
   },
   "outputs": [
    {
     "name": "stdout",
     "output_type": "stream",
     "text": [
      "(10, 20, 'Python', True, 10, 20, 'Python', True)\n"
     ]
    }
   ],
   "source": [
    "print(t1*2)"
   ]
  },
  {
   "cell_type": "markdown",
   "id": "further-adult",
   "metadata": {},
   "source": [
    "range() data type\n",
    "- range data type represent a sequence of values\n",
    "- immutable\n",
    "- range(end) item count is 10, last item is end-1\n",
    "- range is data type and range is function\n",
    "- range does not support item assignment"
   ]
  },
  {
   "cell_type": "code",
   "execution_count": 14,
   "id": "divided-circus",
   "metadata": {
    "scrolled": true
   },
   "outputs": [
    {
     "name": "stdout",
     "output_type": "stream",
     "text": [
      "<class 'range'>\n",
      "0\n",
      "1\n",
      "2\n",
      "3\n",
      "4\n",
      "5\n",
      "6\n",
      "7\n",
      "8\n",
      "9\n",
      "0\n",
      "range(0, 3)\n"
     ]
    }
   ],
   "source": [
    "r=range(10)\n",
    "print(type(r))\n",
    "\n",
    "for i in r: \n",
    "    print(i)\n",
    "    \n",
    "print(r[0])\n",
    "print(r[0:3])\n",
    "\n"
   ]
  },
  {
   "cell_type": "code",
   "execution_count": 18,
   "id": "current-moderator",
   "metadata": {},
   "outputs": [
    {
     "name": "stdout",
     "output_type": "stream",
     "text": [
      "10\n",
      "11\n",
      "12\n",
      "13\n",
      "14\n",
      "15\n",
      "16\n",
      "17\n",
      "18\n",
      "19\n",
      "-----------------------\n",
      "10\n",
      "15\n",
      "20\n",
      "25\n"
     ]
    }
   ],
   "source": [
    "for i in range(10, 20):\n",
    "    print(i)\n",
    " \n",
    "print('-----------------------')\n",
    "\n",
    "for i in range(10, 30, 5):\n",
    "    print(i)"
   ]
  },
  {
   "cell_type": "markdown",
   "id": "decent-taiwan",
   "metadata": {},
   "source": [
    "Set data type\n",
    "- Same like list, but with few difference\n",
    "    - Duplicates are not allowed\n",
    "    - Insertion order is not preserved"
   ]
  },
  {
   "cell_type": "code",
   "execution_count": 23,
   "id": "greenhouse-bibliography",
   "metadata": {},
   "outputs": [
    {
     "name": "stdout",
     "output_type": "stream",
     "text": [
      "{True, 10, 20, 30}\n",
      "{True, 10, 'Des', 30}\n"
     ]
    }
   ],
   "source": [
    "s={10, 20, 30, 10, 20, 30, True}\n",
    "print(s)\n",
    "#print(s[0]) # Indexing and slicing is not applicable is set, because insertion order is not preserved\n",
    "s.add('Des')\n",
    "s.remove(20)\n",
    "print(s)"
   ]
  },
  {
   "cell_type": "markdown",
   "id": "union-albany",
   "metadata": {},
   "source": [
    "FrozenSet data type\n",
    "- Order is not maintained\n",
    "- forzenset is immutable\n",
    "- means cann't add or remove items\n",
    "- same as set except that frozen set is immutable"
   ]
  },
  {
   "cell_type": "code",
   "execution_count": 24,
   "id": "characteristic-experience",
   "metadata": {},
   "outputs": [
    {
     "name": "stdout",
     "output_type": "stream",
     "text": [
      "<class 'frozenset'>\n"
     ]
    }
   ],
   "source": [
    "s={10, 20, 30, 40}\n",
    "fs=frozenset(s)\n",
    "\n",
    "print(type(fs))\n",
    "\n"
   ]
  },
  {
   "cell_type": "markdown",
   "id": "technological-english",
   "metadata": {},
   "source": [
    "dict data type\n",
    "- key -> value\n",
    "- Duplicated keys are not allowed\n",
    "- But values can be duplicated\n",
    "- Keys can be hetrogenious values can be hetrogenious\n",
    "- dict by default mutable\n",
    "- support add, remove"
   ]
  },
  {
   "cell_type": "code",
   "execution_count": 26,
   "id": "clear-brain",
   "metadata": {},
   "outputs": [
    {
     "name": "stdout",
     "output_type": "stream",
     "text": [
      "{100: 'A', 200: 'B', 300: 'C'}\n",
      "<class 'dict'>\n",
      "<class 'set'>\n"
     ]
    }
   ],
   "source": [
    "d={100: \"A\", 200: 'B', 300: 'C'}\n",
    "print(d)\n",
    "\n",
    "d1={} # empty opening curly brace and closing curly brace is considered as dictionary, not set\n",
    "print(type(d1))\n",
    "# if we want to have a empty set the use following\n",
    "\n",
    "s1=set()\n",
    "print(type(s1))"
   ]
  },
  {
   "cell_type": "code",
   "execution_count": 31,
   "id": "hazardous-steel",
   "metadata": {},
   "outputs": [
    {
     "name": "stdout",
     "output_type": "stream",
     "text": [
      "{100: 'Sunny', 200: 'Bunny'}\n",
      "{100: 'Chinny', 200: 'Bunny'}\n"
     ]
    }
   ],
   "source": [
    "d1[100]='Sunny'\n",
    "d1[200]='Bunny'\n",
    "\n",
    "print(d1)\n",
    "\n",
    "d1[100] = 'Chinny'\n",
    "\n",
    "print(d1)"
   ]
  },
  {
   "cell_type": "code",
   "execution_count": null,
   "id": "english-champion",
   "metadata": {},
   "outputs": [],
   "source": []
  }
 ],
 "metadata": {
  "kernelspec": {
   "display_name": "Python 3 (ipykernel)",
   "language": "python",
   "name": "python3"
  },
  "language_info": {
   "codemirror_mode": {
    "name": "ipython",
    "version": 3
   },
   "file_extension": ".py",
   "mimetype": "text/x-python",
   "name": "python",
   "nbconvert_exporter": "python",
   "pygments_lexer": "ipython3",
   "version": "3.9.6"
  }
 },
 "nbformat": 4,
 "nbformat_minor": 5
}
