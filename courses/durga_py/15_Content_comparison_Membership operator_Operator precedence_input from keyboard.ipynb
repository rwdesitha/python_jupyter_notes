{
 "cells": [
  {
   "cell_type": "markdown",
   "id": "attended-collector",
   "metadata": {},
   "source": [
    "**Content comparison using ==**"
   ]
  },
  {
   "cell_type": "code",
   "execution_count": 2,
   "id": "powerful-contractor",
   "metadata": {},
   "outputs": [
    {
     "name": "stdout",
     "output_type": "stream",
     "text": [
      "2024532854016\n",
      "2024532853504\n",
      "False\n",
      "True\n"
     ]
    }
   ],
   "source": [
    "list1=[10,20,30] # list in not immutable.\n",
    "list2=[10,20,30]\n",
    "print(id(list1))\n",
    "print(id(list2))\n",
    "print(list1 is list2)\n",
    "\n",
    "print(list1 == list2) # == is used for content comparision"
   ]
  },
  {
   "cell_type": "markdown",
   "id": "fleet-horizon",
   "metadata": {},
   "source": [
    "What is the difference between == and is operator\n",
    "- 'is' meant for reference comparision\n",
    "- '==' meant for content comparision"
   ]
  },
  {
   "cell_type": "markdown",
   "id": "vanilla-tradition",
   "metadata": {},
   "source": [
    "**Membership operator**\n",
    "- To check a whether the given object is a member of a given sequence or not (string, list, etc.) for that we use membership operator 'in'"
   ]
  },
  {
   "cell_type": "code",
   "execution_count": 5,
   "id": "interracial-winter",
   "metadata": {},
   "outputs": [
    {
     "name": "stdout",
     "output_type": "stream",
     "text": [
      "True\n",
      "False\n",
      "True\n"
     ]
    }
   ],
   "source": [
    "print(10 in list1)\n",
    "print(50 in list1)\n",
    "print(50 not in list1)"
   ]
  },
  {
   "cell_type": "markdown",
   "id": "earned-nursing",
   "metadata": {},
   "source": [
    "- 'is' and 'is not' are identity operators\n",
    "- 'in' and 'not in' are comparision operators\n"
   ]
  },
  {
   "cell_type": "code",
   "execution_count": 8,
   "id": "forbidden-coalition",
   "metadata": {},
   "outputs": [
    {
     "name": "stdout",
     "output_type": "stream",
     "text": [
      "True\n",
      "True\n",
      "True\n",
      "False\n"
     ]
    }
   ],
   "source": [
    "s='Python '\n",
    "print('on' in s)\n",
    "print(' ' in s)\n",
    "print('P' in s)\n",
    "print('p' in s)"
   ]
  },
  {
   "cell_type": "markdown",
   "id": "critical-battlefield",
   "metadata": {},
   "source": [
    "**Operator precedence**\n",
    "1. '()'\n",
    "2. '**' -> exponential operator\n",
    "3. unary operator\n",
    "4. '*, /, %, //'\n",
    "5. +, -\n",
    "6. <<, >>\n",
    "7. &\n",
    "8. ^\n",
    "9. |\n",
    "10. '>, >=, <, <=, ==, !='\n",
    "11. '=, +=, -=, *= ...'\n",
    "12. is, is not\n",
    "13. in, not in\n",
    "14. not\n",
    "15. and\n",
    "16. or"
   ]
  },
  {
   "cell_type": "code",
   "execution_count": 10,
   "id": "angry-killer",
   "metadata": {},
   "outputs": [
    {
     "name": "stdout",
     "output_type": "stream",
     "text": [
      "100.0\n"
     ]
    }
   ],
   "source": [
    "a, b, c, d = 30, 20, 10, 5\n",
    "print((a+b)*c/d)"
   ]
  },
  {
   "cell_type": "markdown",
   "id": "selected-spelling",
   "metadata": {},
   "source": [
    "**Getting dynamic input from keyboard**\n",
    "- input data will always going to be considereda as string"
   ]
  },
  {
   "cell_type": "code",
   "execution_count": 13,
   "id": "original-portugal",
   "metadata": {},
   "outputs": [
    {
     "name": "stdout",
     "output_type": "stream",
     "text": [
      "Enter some number10\n",
      "Enter anything20\n",
      "<class 'str'>\n",
      "Enter 1st number: 10\n",
      "Enter 2nd number: 20\n",
      "The sum is :  30\n"
     ]
    }
   ],
   "source": [
    "x=input(\"Enter some number\")\n",
    "y=print(type(input(\"Enter anything\")))\n",
    "print(\"The sum is : \", int(input(\"Enter 1st number: \")) + int(input(\"Enter 2nd number: \")))"
   ]
  }
 ],
 "metadata": {
  "kernelspec": {
   "display_name": "Python 3",
   "language": "python",
   "name": "python3"
  },
  "language_info": {
   "codemirror_mode": {
    "name": "ipython",
    "version": 3
   },
   "file_extension": ".py",
   "mimetype": "text/x-python",
   "name": "python",
   "nbconvert_exporter": "python",
   "pygments_lexer": "ipython3",
   "version": "3.9.2"
  }
 },
 "nbformat": 4,
 "nbformat_minor": 5
}
