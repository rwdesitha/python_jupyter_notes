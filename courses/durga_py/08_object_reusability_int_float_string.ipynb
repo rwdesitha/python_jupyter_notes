{
 "cells": [
  {
   "cell_type": "code",
   "execution_count": 2,
   "id": "minimal-mirror",
   "metadata": {},
   "outputs": [
    {
     "name": "stdout",
     "output_type": "stream",
     "text": [
      "False\n"
     ]
    }
   ],
   "source": [
    "print(bool(0))"
   ]
  },
  {
   "cell_type": "code",
   "execution_count": 3,
   "id": "romance-liverpool",
   "metadata": {},
   "outputs": [
    {
     "name": "stdout",
     "output_type": "stream",
     "text": [
      "True\n"
     ]
    }
   ],
   "source": [
    "print(bool(10))"
   ]
  },
  {
   "cell_type": "code",
   "execution_count": 4,
   "id": "angry-sister",
   "metadata": {},
   "outputs": [
    {
     "name": "stdout",
     "output_type": "stream",
     "text": [
      "True\n"
     ]
    }
   ],
   "source": [
    "print(bool(-10))"
   ]
  },
  {
   "cell_type": "markdown",
   "id": "prostate-mandate",
   "metadata": {},
   "source": [
    "In bool() 0 means false, non zero means True"
   ]
  },
  {
   "cell_type": "code",
   "execution_count": 5,
   "id": "asian-fruit",
   "metadata": {},
   "outputs": [
    {
     "name": "stdout",
     "output_type": "stream",
     "text": [
      "False\n"
     ]
    }
   ],
   "source": [
    "print(bool(0.0))"
   ]
  },
  {
   "cell_type": "code",
   "execution_count": 6,
   "id": "based-sigma",
   "metadata": {},
   "outputs": [
    {
     "data": {
      "text/plain": [
       "True"
      ]
     },
     "execution_count": 6,
     "metadata": {},
     "output_type": "execute_result"
    }
   ],
   "source": [
    "bool(0.1)"
   ]
  },
  {
   "cell_type": "code",
   "execution_count": 7,
   "id": "noted-print",
   "metadata": {},
   "outputs": [
    {
     "name": "stdout",
     "output_type": "stream",
     "text": [
      "False\n",
      "True\n",
      "True\n"
     ]
    }
   ],
   "source": [
    "print(bool(''))\n",
    "print(bool('rwd'))\n",
    "print(bool('  '))"
   ]
  },
  {
   "cell_type": "markdown",
   "id": "revised-fancy",
   "metadata": {},
   "source": [
    "All fundamental data types are immutable. Immutable means once we created that object we cann't peform any changes in that object. If we change the value of the object then a new object will be created."
   ]
  },
  {
   "cell_type": "markdown",
   "id": "informed-teaching",
   "metadata": {},
   "source": [
    "x=10\n",
    "Here x is pointing to the object 10.\n",
    "x=11\n",
    "Now another object will be created as object 11 and no x will be pointing to that 11 object and 10 object is alligible for garbage collection."
   ]
  },
  {
   "cell_type": "code",
   "execution_count": 8,
   "id": "stupid-science",
   "metadata": {},
   "outputs": [
    {
     "name": "stdout",
     "output_type": "stream",
     "text": [
      "1432303790672\n",
      "1432303790672\n"
     ]
    }
   ],
   "source": [
    "a=10\n",
    "b=10\n",
    "\n",
    "print(id(a))\n",
    "print(id(a))"
   ]
  },
  {
   "cell_type": "code",
   "execution_count": 10,
   "id": "ready-platinum",
   "metadata": {},
   "outputs": [
    {
     "name": "stdout",
     "output_type": "stream",
     "text": [
      "1432368179504\n",
      "1432368179504\n",
      "1432368179504\n",
      "1432368179504\n",
      "1432368179504\n"
     ]
    }
   ],
   "source": [
    "v1=\"Matara\"\n",
    "v2=\"Matara\"\n",
    "v3=\"Matara\"\n",
    "v4=\"Matara\"\n",
    "v5=\"Matara\"\n",
    "\n",
    "print(id(v1))\n",
    "print(id(v2))\n",
    "print(id(v3))\n",
    "print(id(v4))\n",
    "print(id(v5))"
   ]
  },
  {
   "cell_type": "markdown",
   "id": "numerous-badge",
   "metadata": {},
   "source": [
    "Everything in Python is an object\n",
    "All fundamental data types are immutable"
   ]
  },
  {
   "cell_type": "code",
   "execution_count": 2,
   "id": "acknowledged-honor",
   "metadata": {},
   "outputs": [
    {
     "name": "stdout",
     "output_type": "stream",
     "text": [
      "True\n",
      "False\n",
      "2667792156144\n",
      "2667792156368\n"
     ]
    }
   ],
   "source": [
    "e=110\n",
    "f=110\n",
    "\n",
    "print(e is f)\n",
    "\n",
    "i=257\n",
    "j=257\n",
    "\n",
    "print(j is i) # reusing objects are only works with 0 to 256 only\n",
    "print(id(j))\n",
    "print(id(i))"
   ]
  },
  {
   "cell_type": "code",
   "execution_count": 14,
   "id": "convenient-daughter",
   "metadata": {},
   "outputs": [
    {
     "name": "stdout",
     "output_type": "stream",
     "text": [
      "False\n"
     ]
    }
   ],
   "source": [
    "ii=10.0\n",
    "jj=10.0\n",
    "\n",
    "print(ii is jj)"
   ]
  },
  {
   "cell_type": "markdown",
   "id": "polish-vacation",
   "metadata": {},
   "source": [
    "For floating point data types reusing concept is not valid"
   ]
  }
 ],
 "metadata": {
  "kernelspec": {
   "display_name": "Python 3",
   "language": "python",
   "name": "python3"
  },
  "language_info": {
   "codemirror_mode": {
    "name": "ipython",
    "version": 3
   },
   "file_extension": ".py",
   "mimetype": "text/x-python",
   "name": "python",
   "nbconvert_exporter": "python",
   "pygments_lexer": "ipython3",
   "version": "3.9.2"
  }
 },
 "nbformat": 4,
 "nbformat_minor": 5
}
