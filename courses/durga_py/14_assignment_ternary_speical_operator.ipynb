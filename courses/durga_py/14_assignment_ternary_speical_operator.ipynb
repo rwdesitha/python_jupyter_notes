{
 "cells": [
  {
   "cell_type": "markdown",
   "id": "descending-firewall",
   "metadata": {},
   "source": [
    "**Assignment operator**"
   ]
  },
  {
   "cell_type": "code",
   "execution_count": 3,
   "id": "obvious-luther",
   "metadata": {},
   "outputs": [
    {
     "name": "stdout",
     "output_type": "stream",
     "text": [
      "10\n",
      "10 20 30 40\n"
     ]
    }
   ],
   "source": [
    "x=10\n",
    "a,b,c,d=10,20,30,40\n",
    "\n",
    "print(x)\n",
    "print(a, b, c, d)"
   ]
  },
  {
   "cell_type": "markdown",
   "id": "immune-venue",
   "metadata": {},
   "source": [
    "Compound assignment operator"
   ]
  },
  {
   "cell_type": "code",
   "execution_count": 4,
   "id": "limited-welsh",
   "metadata": {},
   "outputs": [
    {
     "name": "stdout",
     "output_type": "stream",
     "text": [
      "20\n"
     ]
    }
   ],
   "source": [
    "x+=10\n",
    "print(x)"
   ]
  },
  {
   "cell_type": "code",
   "execution_count": 11,
   "id": "preliminary-lingerie",
   "metadata": {},
   "outputs": [
    {
     "name": "stdout",
     "output_type": "stream",
     "text": [
      "10\n",
      "10\n",
      "-10\n"
     ]
    }
   ],
   "source": [
    "x=10 # In python ++x or x++ is not available\n",
    "print(++x) # python treat this as +(+x)\n",
    "print(--x) # python treat this as -(-x)\n",
    "print(---x)"
   ]
  },
  {
   "cell_type": "markdown",
   "id": "plain-posting",
   "metadata": {},
   "source": [
    "Following are only possible assignment operators in python\n",
    "- '+='\n",
    "- '-='\n",
    "- '*='\n",
    "- '/='\n",
    "- '%='\n",
    "- '//='\n",
    "- '**='\n",
    "- '&='\n",
    "- '|='\n",
    "- '^='\n",
    "- '>>='\n",
    "- '<<='"
   ]
  },
  {
   "cell_type": "markdown",
   "id": "fitted-martin",
   "metadata": {},
   "source": [
    "**Ternary operator**\n",
    "- x=(condition)?first_value:second_vlaue (This is in other languages NOT in python)\n",
    "\n",
    "- first_value if condition else second_value"
   ]
  },
  {
   "cell_type": "code",
   "execution_count": 13,
   "id": "eligible-parker",
   "metadata": {},
   "outputs": [
    {
     "name": "stdout",
     "output_type": "stream",
     "text": [
      "30\n"
     ]
    }
   ],
   "source": [
    "x=30 if 10<20 else 40\n",
    "print(x)"
   ]
  },
  {
   "cell_type": "markdown",
   "id": "heated-shield",
   "metadata": {},
   "source": [
    "**Nesting ternary operators in single line**\n",
    "- x=first_value if condition else second_value if condition_2 else third_value"
   ]
  },
  {
   "cell_type": "code",
   "execution_count": 16,
   "id": "earned-antique",
   "metadata": {},
   "outputs": [
    {
     "name": "stdout",
     "output_type": "stream",
     "text": [
      "40\n"
     ]
    }
   ],
   "source": [
    "x=10 if 20>30 else 40 if 50<60 else 70\n",
    "print(x)"
   ]
  },
  {
   "cell_type": "markdown",
   "id": "correct-adult",
   "metadata": {},
   "source": [
    "**Special operators**\n",
    "- Identity operators - is - is operator is going to only check address comparision\n",
    "- Membership operators - "
   ]
  },
  {
   "cell_type": "code",
   "execution_count": 19,
   "id": "wicked-junior",
   "metadata": {},
   "outputs": [
    {
     "name": "stdout",
     "output_type": "stream",
     "text": [
      "True\n",
      "False\n",
      "1981444549200\n",
      "1981444549200\n"
     ]
    }
   ],
   "source": [
    "a=10\n",
    "b=10\n",
    "\n",
    "print(a is b)\n",
    "print(a is not b)\n",
    "print(id(a))\n",
    "print(id(b))"
   ]
  },
  {
   "cell_type": "code",
   "execution_count": 23,
   "id": "imperial-snapshot",
   "metadata": {},
   "outputs": [
    {
     "name": "stdout",
     "output_type": "stream",
     "text": [
      "1981518104064\n",
      "1981516532992\n",
      "False\n",
      "True\n"
     ]
    }
   ],
   "source": [
    "list1=[10,20,30] # list in not immutable.\n",
    "list2=[10,20,30]\n",
    "print(id(list1))\n",
    "print(id(list2))\n",
    "print(list1 is list2)\n",
    "\n",
    "print(list1 == list2) # == is used for content comparision"
   ]
  }
 ],
 "metadata": {
  "kernelspec": {
   "display_name": "Python 3",
   "language": "python",
   "name": "python3"
  },
  "language_info": {
   "codemirror_mode": {
    "name": "ipython",
    "version": 3
   },
   "file_extension": ".py",
   "mimetype": "text/x-python",
   "name": "python",
   "nbconvert_exporter": "python",
   "pygments_lexer": "ipython3",
   "version": "3.9.2"
  }
 },
 "nbformat": 4,
 "nbformat_minor": 5
}
