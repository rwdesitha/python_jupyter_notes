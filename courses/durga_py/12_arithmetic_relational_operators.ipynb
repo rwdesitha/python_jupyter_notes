{
 "cells": [
  {
   "cell_type": "markdown",
   "id": "initial-advertiser",
   "metadata": {},
   "source": [
    "**Operators**\n",
    "1. Arithmetic operators\n",
    "2. Relational operators or comparision operators\n",
    "3. Logical operators\n",
    "4. Bitwise operators\n",
    "5. Assignment operators\n",
    "6. Special operators\n"
   ]
  },
  {
   "cell_type": "markdown",
   "id": "beautiful-letters",
   "metadata": {},
   "source": [
    "**Arithmetic Operators**\n",
    " 1. '+' --> Addition\n",
    " 2. '-' --> Subtraction\n",
    " 3. '*' --> Multiplication\n",
    " 4. '%' --> Modulo\n",
    " 5. '//' --> Floor division operator\n",
    " 6. '**' --> Exponent operator or power operator"
   ]
  },
  {
   "cell_type": "code",
   "execution_count": 1,
   "id": "removable-senior",
   "metadata": {},
   "outputs": [
    {
     "name": "stdout",
     "output_type": "stream",
     "text": [
      "a+b =  12\n",
      "a-b =  8\n",
      "a*b =  20\n",
      "a/b =  5.0\n",
      "a%b =  0\n"
     ]
    }
   ],
   "source": [
    "a=10\n",
    "b=2\n",
    "\n",
    "print('a+b = ', a+b)\n",
    "print('a-b = ' , a-b)\n",
    "print('a*b = ', a*b)\n",
    "print('a/b = ', a/b) # divsion operator always returns a floating point value\n",
    "print('a%b = ', a%b)"
   ]
  },
  {
   "cell_type": "code",
   "execution_count": 5,
   "id": "dependent-alert",
   "metadata": {},
   "outputs": [
    {
     "name": "stdout",
     "output_type": "stream",
     "text": [
      "a//b =  5\n",
      "a//b =  2.0\n",
      "a**b =  100\n"
     ]
    }
   ],
   "source": [
    "print('a//b = ', a//b) # if the arguments are of int type then result is goint to be in int type, \n",
    "print('a//b = ', 5.0//b) # if the arguments are int float type then result is going to be in float type\n",
    "print('a**b = ' , a**b)"
   ]
  },
  {
   "cell_type": "code",
   "execution_count": 7,
   "id": "fitted-banking",
   "metadata": {},
   "outputs": [
    {
     "name": "stdout",
     "output_type": "stream",
     "text": [
      "5.25\n",
      "5\n"
     ]
    }
   ],
   "source": [
    "print(10.5/2)\n",
    "print(10//2) # floor division is going to return nearest integer value in float format or integer format according to the given arguments, if one of the argument is a float value then result will be in float, if both arguments are in integer then result is a integer"
   ]
  },
  {
   "cell_type": "markdown",
   "id": "contrary-olympus",
   "metadata": {},
   "source": [
    "+ operator is applicable for string type also (string concatenation operator)"
   ]
  },
  {
   "cell_type": "code",
   "execution_count": 12,
   "id": "collected-philippines",
   "metadata": {},
   "outputs": [
    {
     "name": "stdout",
     "output_type": "stream",
     "text": [
      "python3\n",
      "python3\n"
     ]
    }
   ],
   "source": [
    "#'python'+3 # if concatenation is used with + operator then both arguments must be in string format otherwise error.\n",
    "print('python'+'3')\n",
    "print('python'+str(3))"
   ]
  },
  {
   "cell_type": "code",
   "execution_count": 20,
   "id": "beneficial-control",
   "metadata": {},
   "outputs": [
    {
     "name": "stdout",
     "output_type": "stream",
     "text": [
      "pythonpythonpython\n",
      "pythonpythonpython\n"
     ]
    }
   ],
   "source": [
    "print('python'*3)\n",
    "#'python'*'3' # error\n",
    "#'python'*3.0 # error\n",
    "print(3*'python')"
   ]
  },
  {
   "cell_type": "code",
   "execution_count": 22,
   "id": "superb-republican",
   "metadata": {},
   "outputs": [
    {
     "data": {
      "text/plain": [
       "0.01"
      ]
     },
     "execution_count": 22,
     "metadata": {},
     "output_type": "execute_result"
    }
   ],
   "source": [
    "10**-2 #1/100"
   ]
  },
  {
   "cell_type": "markdown",
   "id": "printable-robin",
   "metadata": {},
   "source": [
    "**Relational opeartors**\n",
    "1. '>'\n",
    "2. '>='\n",
    "3. '<'\n",
    "4. '<='"
   ]
  },
  {
   "cell_type": "code",
   "execution_count": 24,
   "id": "acute-situation",
   "metadata": {},
   "outputs": [
    {
     "name": "stdout",
     "output_type": "stream",
     "text": [
      "a>b is  False\n",
      "a>=b is  False\n",
      "a<b is  True\n",
      "a<=b is  True\n"
     ]
    }
   ],
   "source": [
    "a=10\n",
    "b=20\n",
    "print(\"a>b is \", a>b)\n",
    "print(\"a>=b is \", a>=b)\n",
    "print(\"a<b is \", a<b)\n",
    "print(\"a<=b is \", a<=b)"
   ]
  },
  {
   "cell_type": "markdown",
   "id": "described-kruger",
   "metadata": {},
   "source": [
    "We can apply relational operators for string types also"
   ]
  },
  {
   "cell_type": "code",
   "execution_count": 28,
   "id": "graduate-packing",
   "metadata": {},
   "outputs": [
    {
     "name": "stdout",
     "output_type": "stream",
     "text": [
      "a>b is  True\n",
      "a>=b is  True\n",
      "a<b is  False\n",
      "a<=b is  False\n"
     ]
    }
   ],
   "source": [
    "a='python'\n",
    "b='java'\n",
    "# python will consider length of strings when two string is compared\n",
    "print(\"a>b is \", a>b)\n",
    "print(\"a>=b is \", a>=b)\n",
    "print(\"a<b is \", a<b)\n",
    "print(\"a<=b is \", a<=b)"
   ]
  },
  {
   "cell_type": "code",
   "execution_count": 29,
   "id": "contemporary-wells",
   "metadata": {},
   "outputs": [
    {
     "name": "stdout",
     "output_type": "stream",
     "text": [
      "a>b is  False\n",
      "a>=b is  False\n",
      "a<b is  True\n",
      "a<=b is  True\n"
     ]
    }
   ],
   "source": [
    "a='Python'\n",
    "b='python'\n",
    "# asci code are used P is less than p in asci\n",
    "print(\"a>b is \", a>b)\n",
    "print(\"a>=b is \", a>=b)\n",
    "print(\"a<b is \", a<b)\n",
    "print(\"a<=b is \", a<=b)"
   ]
  },
  {
   "cell_type": "code",
   "execution_count": 30,
   "id": "logical-perception",
   "metadata": {},
   "outputs": [
    {
     "name": "stdout",
     "output_type": "stream",
     "text": [
      "a>b is  True\n",
      "a>=b is  True\n",
      "a<b is  False\n",
      "a<=b is  False\n"
     ]
    }
   ],
   "source": [
    "a=True # 1\n",
    "b=False # 0\n",
    "\n",
    "print(\"a>b is \", a>b)\n",
    "print(\"a>=b is \", a>=b)\n",
    "print(\"a<b is \", a<b)\n",
    "print(\"a<=b is \", a<=b)"
   ]
  },
  {
   "cell_type": "markdown",
   "id": "clinical-miller",
   "metadata": {},
   "source": [
    "Chaning of realtional operators is possible"
   ]
  },
  {
   "cell_type": "code",
   "execution_count": 31,
   "id": "faced-developer",
   "metadata": {},
   "outputs": [
    {
     "name": "stdout",
     "output_type": "stream",
     "text": [
      "True\n"
     ]
    }
   ],
   "source": [
    "print(10<20<30<40<50) # only if all the conditions are met then True else False"
   ]
  }
 ],
 "metadata": {
  "kernelspec": {
   "display_name": "Python 3 (ipykernel)",
   "language": "python",
   "name": "python3"
  },
  "language_info": {
   "codemirror_mode": {
    "name": "ipython",
    "version": 3
   },
   "file_extension": ".py",
   "mimetype": "text/x-python",
   "name": "python",
   "nbconvert_exporter": "python",
   "pygments_lexer": "ipython3",
   "version": "3.9.6"
  }
 },
 "nbformat": 4,
 "nbformat_minor": 5
}
