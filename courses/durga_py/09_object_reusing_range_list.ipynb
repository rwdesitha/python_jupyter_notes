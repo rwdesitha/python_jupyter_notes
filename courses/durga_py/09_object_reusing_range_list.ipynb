{
 "cells": [
  {
   "cell_type": "markdown",
   "id": "secure-transsexual",
   "metadata": {},
   "source": [
    "Object reusing concept in python works on follwing cases\n",
    "- int --> 0 to 256\n",
    "- bool --> always reuse objects\n",
    "- float --> always new object will be created\n",
    "- complex --> always new object will be created\n",
    "\n",
    "At the time python interpreter starts\n",
    "- from 0 to 256 integer objects will be created at the beginning"
   ]
  },
  {
   "cell_type": "markdown",
   "id": "aboriginal-trash",
   "metadata": {},
   "source": [
    "List data types\n",
    "- Insertion order is preserved and duplicates are allowed\n",
    "- Growable\n",
    "- Duplicate objects are allowed"
   ]
  },
  {
   "cell_type": "code",
   "execution_count": 9,
   "id": "divided-tuesday",
   "metadata": {},
   "outputs": [
    {
     "name": "stdout",
     "output_type": "stream",
     "text": [
      "<class 'list'>\n",
      "[10, 20, 30, 30, 'Des']\n",
      "10\n",
      "[20, 30, 30, 'Des']\n",
      "[20, 30, 30, 'Des']\n"
     ]
    }
   ],
   "source": [
    "l=[]\n",
    "print(type(l))\n",
    "l.append(10)\n",
    "l.append(20)\n",
    "l.append(30)\n",
    "l.append(30)\n",
    "l.append('Des')\n",
    "print(l)\n",
    "\n",
    "# accessing objects inside a list\n",
    "\n",
    "print(l[0])\n",
    "print(l[1:5])\n",
    "l.remove(10)\n",
    "print(l)"
   ]
  }
 ],
 "metadata": {
  "kernelspec": {
   "display_name": "Python 3",
   "language": "python",
   "name": "python3"
  },
  "language_info": {
   "codemirror_mode": {
    "name": "ipython",
    "version": 3
   },
   "file_extension": ".py",
   "mimetype": "text/x-python",
   "name": "python",
   "nbconvert_exporter": "python",
   "pygments_lexer": "ipython3",
   "version": "3.9.2"
  }
 },
 "nbformat": 4,
 "nbformat_minor": 5
}
