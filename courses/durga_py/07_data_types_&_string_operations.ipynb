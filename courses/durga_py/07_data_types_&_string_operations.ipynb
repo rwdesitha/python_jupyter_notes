{
 "cells": [
  {
   "cell_type": "markdown",
   "id": "united-section",
   "metadata": {},
   "source": [
    "1. Although there are many ways to declare decimal numbers in python (oct, hex), to declare floating point numbers only decimals are allowed.\n",
    "\n",
    "2. Python have in build complex number support.\n",
    "    - a + bj (a- real part, b - imaginary part)\n",
    "    \n",
    "3. bool\n",
    "    - True and False - Case sensitive\n",
    "    - True + True -> 2\n",
    "\n"
   ]
  },
  {
   "cell_type": "code",
   "execution_count": 4,
   "id": "equipped-tiffany",
   "metadata": {},
   "outputs": [
    {
     "name": "stdout",
     "output_type": "stream",
     "text": [
      "2\n",
      "1\n"
     ]
    }
   ],
   "source": [
    "print(True + True)\n",
    "print(True + False)"
   ]
  },
  {
   "cell_type": "markdown",
   "id": "dense-lawrence",
   "metadata": {},
   "source": [
    "4. string\n",
    "    - single quotes -> String\n",
    "    - double quotes -> String\n",
    "    - triple quotes -> multi line string literals\n",
    "    \n",
    "    - Even if it a single character we have to use string data type there is no char data type"
   ]
  },
  {
   "cell_type": "markdown",
   "id": "dried-drive",
   "metadata": {},
   "source": [
    "5. String slice operations"
   ]
  },
  {
   "cell_type": "code",
   "execution_count": 7,
   "id": "annoying-taylor",
   "metadata": {},
   "outputs": [
    {
     "name": "stdout",
     "output_type": "stream",
     "text": [
      "o\n",
      "e\n",
      "ho\n"
     ]
    }
   ],
   "source": [
    "str=\"Jhon Doe\"\n",
    "print(str[2]) # positive indexing means left to right\n",
    "print(str[-1]) # positive indexing means right to left"
   ]
  },
  {
   "cell_type": "code",
   "execution_count": 15,
   "id": "honest-barrel",
   "metadata": {},
   "outputs": [
    {
     "name": "stdout",
     "output_type": "stream",
     "text": [
      "ho\n",
      "on Doe\n",
      "Jh\n",
      "Jhon Doe\n",
      "\n",
      " Do\n",
      "bdfhj\n"
     ]
    }
   ],
   "source": [
    "s = str[1:3] # returns substring from begin index to end -1 index\n",
    "print(s)\n",
    "print(str[2:])\n",
    "print(str[:2])\n",
    "print(str[:])\n",
    "\n",
    "print(str[-1:-4]) # here nothing will be print because begining value is larger than the end value\n",
    "print(str[-4:-1]) # here it works because begins is smaller thatn the end value\n",
    "\n",
    "str1 = \"abcdefghijklmnopqrstu\"\n",
    "print(str1[1:10:2])"
   ]
  },
  {
   "cell_type": "code",
   "execution_count": 16,
   "id": "damaged-nutrition",
   "metadata": {
    "scrolled": true
   },
   "outputs": [
    {
     "name": "stdout",
     "output_type": "stream",
     "text": [
      "Jhon DoeJhon DoeJhon DoeJhon DoeJhon DoeJhon DoeJhon DoeJhon DoeJhon DoeJhon Doe\n"
     ]
    }
   ],
   "source": [
    "print(str*10)"
   ]
  },
  {
   "cell_type": "code",
   "execution_count": 17,
   "id": "aware-thesaurus",
   "metadata": {},
   "outputs": [
    {
     "name": "stdout",
     "output_type": "stream",
     "text": [
      "8\n"
     ]
    }
   ],
   "source": [
    "print(len(str))"
   ]
  },
  {
   "cell_type": "markdown",
   "id": "norman-tribune",
   "metadata": {},
   "source": [
    "Type Casting\n",
    "\n",
    "- int() - to convert any other value type to int type\n",
    "- float()\n",
    "- complex()\n",
    "- bool()\n",
    "- str()\n"
   ]
  },
  {
   "cell_type": "code",
   "execution_count": 25,
   "id": "paperback-stretch",
   "metadata": {},
   "outputs": [
    {
     "name": "stdout",
     "output_type": "stream",
     "text": [
      "123\n",
      "1\n",
      "0\n",
      "10.0\n",
      "10.0\n"
     ]
    }
   ],
   "source": [
    "print(int(123.232))\n",
    "print(int(True))\n",
    "print(int(False))\n",
    "int(\"10\")\n",
    "# int(\"10.5\") # if we are converting string to int that string must contain only in value otherwise error\n",
    "print(float(10))\n",
    "print(float(\"10\"))"
   ]
  }
 ],
 "metadata": {
  "kernelspec": {
   "display_name": "Python 3",
   "language": "python",
   "name": "python3"
  },
  "language_info": {
   "codemirror_mode": {
    "name": "ipython",
    "version": 3
   },
   "file_extension": ".py",
   "mimetype": "text/x-python",
   "name": "python",
   "nbconvert_exporter": "python",
   "pygments_lexer": "ipython3",
   "version": "3.9.2"
  }
 },
 "nbformat": 4,
 "nbformat_minor": 5
}
