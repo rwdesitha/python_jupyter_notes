{
 "cells": [
  {
   "cell_type": "markdown",
   "id": "junior-interval",
   "metadata": {},
   "source": [
    "None data type\n",
    "- None means nothing is there, no value is assosiated"
   ]
  },
  {
   "cell_type": "code",
   "execution_count": 2,
   "id": "running-heaven",
   "metadata": {},
   "outputs": [
    {
     "name": "stdout",
     "output_type": "stream",
     "text": [
      "Hello\n",
      "Hello\n",
      "None\n"
     ]
    }
   ],
   "source": [
    "def f1():\n",
    "    a=10\n",
    "    \n",
    "def f2():\n",
    "    print(\"Hello\")\n",
    "    \n",
    "f2()\n",
    "\n",
    "print(f2())"
   ]
  },
  {
   "cell_type": "markdown",
   "id": "affiliated-enforcement",
   "metadata": {},
   "source": [
    "pass keyword\n",
    "- Do nothing and pass"
   ]
  },
  {
   "cell_type": "code",
   "execution_count": 5,
   "id": "fitted-migration",
   "metadata": {},
   "outputs": [],
   "source": [
    "def f1():\n",
    "    pass"
   ]
  },
  {
   "cell_type": "markdown",
   "id": "inner-allen",
   "metadata": {},
   "source": [
    "Constant\n",
    "- Constant concept is not in python language\n",
    "- There is a convension of using capital letters for declaring constant, this is just a convension dev can change it latter"
   ]
  },
  {
   "cell_type": "code",
   "execution_count": 6,
   "id": "norman-sunrise",
   "metadata": {},
   "outputs": [],
   "source": [
    "MAX_VALUE=10"
   ]
  }
 ],
 "metadata": {
  "kernelspec": {
   "display_name": "Python 3",
   "language": "python",
   "name": "python3"
  },
  "language_info": {
   "codemirror_mode": {
    "name": "ipython",
    "version": 3
   },
   "file_extension": ".py",
   "mimetype": "text/x-python",
   "name": "python",
   "nbconvert_exporter": "python",
   "pygments_lexer": "ipython3",
   "version": "3.9.2"
  }
 },
 "nbformat": 4,
 "nbformat_minor": 5
}
