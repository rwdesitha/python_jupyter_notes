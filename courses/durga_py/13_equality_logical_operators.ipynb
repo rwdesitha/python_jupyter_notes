{
 "cells": [
  {
   "cell_type": "markdown",
   "id": "empirical-encoding",
   "metadata": {},
   "source": [
    "**Equality operators**\n",
    "- '==, !='"
   ]
  },
  {
   "cell_type": "code",
   "execution_count": 2,
   "id": "ranking-principal",
   "metadata": {},
   "outputs": [
    {
     "name": "stdout",
     "output_type": "stream",
     "text": [
      "False\n",
      "True\n"
     ]
    }
   ],
   "source": [
    "print(10==20)\n",
    "print(10!=20)"
   ]
  },
  {
   "cell_type": "code",
   "execution_count": 3,
   "id": "ahead-ownership",
   "metadata": {},
   "outputs": [
    {
     "data": {
      "text/plain": [
       "False"
      ]
     },
     "execution_count": 3,
     "metadata": {},
     "output_type": "execute_result"
    }
   ],
   "source": [
    "10==True"
   ]
  },
  {
   "cell_type": "code",
   "execution_count": 4,
   "id": "through-combat",
   "metadata": {},
   "outputs": [
    {
     "data": {
      "text/plain": [
       "True"
      ]
     },
     "execution_count": 4,
     "metadata": {},
     "output_type": "execute_result"
    }
   ],
   "source": [
    "False==False"
   ]
  },
  {
   "cell_type": "code",
   "execution_count": 5,
   "id": "adjusted-delhi",
   "metadata": {},
   "outputs": [
    {
     "data": {
      "text/plain": [
       "True"
      ]
     },
     "execution_count": 5,
     "metadata": {},
     "output_type": "execute_result"
    }
   ],
   "source": [
    "\"python\"==\"python\""
   ]
  },
  {
   "cell_type": "code",
   "execution_count": 6,
   "id": "corresponding-playing",
   "metadata": {},
   "outputs": [
    {
     "data": {
      "text/plain": [
       "False"
      ]
     },
     "execution_count": 6,
     "metadata": {},
     "output_type": "execute_result"
    }
   ],
   "source": [
    "\"python\"==\"Python\""
   ]
  },
  {
   "cell_type": "markdown",
   "id": "toxic-budget",
   "metadata": {},
   "source": [
    "Chainning Concept for equality operator is possible"
   ]
  },
  {
   "cell_type": "code",
   "execution_count": 7,
   "id": "wicked-latin",
   "metadata": {},
   "outputs": [
    {
     "data": {
      "text/plain": [
       "False"
      ]
     },
     "execution_count": 7,
     "metadata": {},
     "output_type": "execute_result"
    }
   ],
   "source": [
    "10==20==30"
   ]
  },
  {
   "cell_type": "code",
   "execution_count": 8,
   "id": "seven-project",
   "metadata": {},
   "outputs": [
    {
     "data": {
      "text/plain": [
       "True"
      ]
     },
     "execution_count": 8,
     "metadata": {},
     "output_type": "execute_result"
    }
   ],
   "source": [
    "10==5+5==3+7==2*5"
   ]
  },
  {
   "cell_type": "code",
   "execution_count": 11,
   "id": "labeled-heaven",
   "metadata": {},
   "outputs": [
    {
     "data": {
      "text/plain": [
       "False"
      ]
     },
     "execution_count": 11,
     "metadata": {},
     "output_type": "execute_result"
    }
   ],
   "source": [
    "'a'==97 # even a asci value is 97 for int int and string such comparision wil not be made"
   ]
  },
  {
   "cell_type": "code",
   "execution_count": 1,
   "id": "eligible-national",
   "metadata": {},
   "outputs": [
    {
     "data": {
      "text/plain": [
       "True"
      ]
     },
     "execution_count": 1,
     "metadata": {},
     "output_type": "execute_result"
    }
   ],
   "source": [
    "10 == 10.0 # int and float comparison, smaller type will be promoted as bigger type, in this case int will be promoted as float\n"
   ]
  },
  {
   "cell_type": "code",
   "execution_count": 2,
   "id": "indie-workplace",
   "metadata": {},
   "outputs": [
    {
     "data": {
      "text/plain": [
       "False"
      ]
     },
     "execution_count": 2,
     "metadata": {},
     "output_type": "execute_result"
    }
   ],
   "source": [
    "10=='10' #if types are incompatible then False"
   ]
  },
  {
   "cell_type": "code",
   "execution_count": null,
   "id": "stopped-mention",
   "metadata": {},
   "outputs": [],
   "source": [
    "1==True # internally boolean is treated as int"
   ]
  },
  {
   "cell_type": "markdown",
   "id": "buried-rubber",
   "metadata": {},
   "source": [
    "**Logical operator**\n",
    "- and --> if both arguments are True then only True\n",
    "- or --> if atleast one argument is True then true\n",
    "- not --> "
   ]
  },
  {
   "cell_type": "code",
   "execution_count": 5,
   "id": "enhanced-mechanics",
   "metadata": {},
   "outputs": [
    {
     "name": "stdout",
     "output_type": "stream",
     "text": [
      "False\n",
      "False\n",
      "False\n"
     ]
    }
   ],
   "source": [
    "print(True and False)\n",
    "print(False and False)\n",
    "print(not True)"
   ]
  },
  {
   "cell_type": "markdown",
   "id": "prospective-temple",
   "metadata": {},
   "source": [
    "Logical operator for non boolean types\n",
    "- 0 means False\n",
    "- non-zero means True\n",
    "- empty string False ''\n",
    "\n",
    "x and y\n",
    "- If x eveluates to false then result is x otheriwse return y"
   ]
  },
  {
   "cell_type": "code",
   "execution_count": 7,
   "id": "consolidated-richmond",
   "metadata": {},
   "outputs": [
    {
     "data": {
      "text/plain": [
       "20"
      ]
     },
     "execution_count": 7,
     "metadata": {},
     "output_type": "execute_result"
    }
   ],
   "source": [
    "10 and 20 # 10 is non zero then True, then return 20"
   ]
  },
  {
   "cell_type": "code",
   "execution_count": 9,
   "id": "southwest-memorial",
   "metadata": {},
   "outputs": [
    {
     "data": {
      "text/plain": [
       "0"
      ]
     },
     "execution_count": 9,
     "metadata": {},
     "output_type": "execute_result"
    }
   ],
   "source": [
    "0 and 200"
   ]
  },
  {
   "cell_type": "code",
   "execution_count": 10,
   "id": "expressed-concentrate",
   "metadata": {},
   "outputs": [
    {
     "data": {
      "text/plain": [
       "'python'"
      ]
     },
     "execution_count": 10,
     "metadata": {},
     "output_type": "execute_result"
    }
   ],
   "source": [
    "1 and 'python'"
   ]
  },
  {
   "cell_type": "code",
   "execution_count": 11,
   "id": "magnetic-congo",
   "metadata": {},
   "outputs": [
    {
     "data": {
      "text/plain": [
       "0"
      ]
     },
     "execution_count": 11,
     "metadata": {},
     "output_type": "execute_result"
    }
   ],
   "source": [
    "0 and 'python'"
   ]
  },
  {
   "cell_type": "code",
   "execution_count": 12,
   "id": "foster-sapphire",
   "metadata": {},
   "outputs": [
    {
     "data": {
      "text/plain": [
       "''"
      ]
     },
     "execution_count": 12,
     "metadata": {},
     "output_type": "execute_result"
    }
   ],
   "source": [
    "'' and 'python'"
   ]
  },
  {
   "cell_type": "code",
   "execution_count": 13,
   "id": "cleared-hanging",
   "metadata": {},
   "outputs": [
    {
     "data": {
      "text/plain": [
       "''"
      ]
     },
     "execution_count": 13,
     "metadata": {},
     "output_type": "execute_result"
    }
   ],
   "source": [
    "'python' and ''"
   ]
  },
  {
   "cell_type": "markdown",
   "id": "suffering-blocking",
   "metadata": {},
   "source": [
    "x or y\n",
    "- if x is eveluates to True then returns x otherwise return y"
   ]
  },
  {
   "cell_type": "code",
   "execution_count": 15,
   "id": "public-talent",
   "metadata": {},
   "outputs": [
    {
     "data": {
      "text/plain": [
       "10"
      ]
     },
     "execution_count": 15,
     "metadata": {},
     "output_type": "execute_result"
    }
   ],
   "source": [
    "10 or 20"
   ]
  },
  {
   "cell_type": "code",
   "execution_count": 16,
   "id": "subtle-comparison",
   "metadata": {},
   "outputs": [
    {
     "data": {
      "text/plain": [
       "20"
      ]
     },
     "execution_count": 16,
     "metadata": {},
     "output_type": "execute_result"
    }
   ],
   "source": [
    "0 or 20"
   ]
  },
  {
   "cell_type": "code",
   "execution_count": 17,
   "id": "frank-brass",
   "metadata": {},
   "outputs": [
    {
     "data": {
      "text/plain": [
       "'python'"
      ]
     },
     "execution_count": 17,
     "metadata": {},
     "output_type": "execute_result"
    }
   ],
   "source": [
    "'' or 'python'"
   ]
  },
  {
   "cell_type": "code",
   "execution_count": 18,
   "id": "complimentary-knitting",
   "metadata": {},
   "outputs": [
    {
     "data": {
      "text/plain": [
       "'python'"
      ]
     },
     "execution_count": 18,
     "metadata": {},
     "output_type": "execute_result"
    }
   ],
   "source": [
    "'python' or ''"
   ]
  },
  {
   "cell_type": "code",
   "execution_count": 23,
   "id": "chicken-conversion",
   "metadata": {},
   "outputs": [
    {
     "data": {
      "text/plain": [
       "10"
      ]
     },
     "execution_count": 23,
     "metadata": {},
     "output_type": "execute_result"
    }
   ],
   "source": [
    "10 or 10/0"
   ]
  },
  {
   "cell_type": "code",
   "execution_count": 24,
   "id": "moved-whole",
   "metadata": {},
   "outputs": [
    {
     "ename": "ZeroDivisionError",
     "evalue": "division by zero",
     "output_type": "error",
     "traceback": [
      "\u001b[1;31m---------------------------------------------------------------------------\u001b[0m",
      "\u001b[1;31mZeroDivisionError\u001b[0m                         Traceback (most recent call last)",
      "\u001b[1;32m<ipython-input-24-4ea6575d6d0f>\u001b[0m in \u001b[0;36m<module>\u001b[1;34m\u001b[0m\n\u001b[1;32m----> 1\u001b[1;33m \u001b[1;36m0\u001b[0m \u001b[1;32mor\u001b[0m \u001b[1;36m10\u001b[0m\u001b[1;33m/\u001b[0m\u001b[1;36m0\u001b[0m\u001b[1;33m\u001b[0m\u001b[1;33m\u001b[0m\u001b[0m\n\u001b[0m",
      "\u001b[1;31mZeroDivisionError\u001b[0m: division by zero"
     ]
    }
   ],
   "source": [
    "0 or 10/0"
   ]
  },
  {
   "cell_type": "markdown",
   "id": "documentary-tomorrow",
   "metadata": {},
   "source": [
    "**not**"
   ]
  },
  {
   "cell_type": "code",
   "execution_count": 19,
   "id": "dynamic-tucson",
   "metadata": {},
   "outputs": [
    {
     "data": {
      "text/plain": [
       "False"
      ]
     },
     "execution_count": 19,
     "metadata": {},
     "output_type": "execute_result"
    }
   ],
   "source": [
    "not 10"
   ]
  },
  {
   "cell_type": "code",
   "execution_count": 20,
   "id": "underlying-convenience",
   "metadata": {},
   "outputs": [
    {
     "data": {
      "text/plain": [
       "True"
      ]
     },
     "execution_count": 20,
     "metadata": {},
     "output_type": "execute_result"
    }
   ],
   "source": [
    "not 0"
   ]
  },
  {
   "cell_type": "code",
   "execution_count": 21,
   "id": "communist-judges",
   "metadata": {},
   "outputs": [
    {
     "data": {
      "text/plain": [
       "False"
      ]
     },
     "execution_count": 21,
     "metadata": {},
     "output_type": "execute_result"
    }
   ],
   "source": [
    "not 'python'"
   ]
  }
 ],
 "metadata": {
  "kernelspec": {
   "display_name": "Python 3",
   "language": "python",
   "name": "python3"
  },
  "language_info": {
   "codemirror_mode": {
    "name": "ipython",
    "version": 3
   },
   "file_extension": ".py",
   "mimetype": "text/x-python",
   "name": "python",
   "nbconvert_exporter": "python",
   "pygments_lexer": "ipython3",
   "version": "3.9.2"
  }
 },
 "nbformat": 4,
 "nbformat_minor": 5
}
