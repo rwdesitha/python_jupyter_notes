{
 "cells": [
  {
   "cell_type": "markdown",
   "id": "lesser-remove",
   "metadata": {},
   "source": [
    "Keyboard input"
   ]
  },
  {
   "cell_type": "markdown",
   "id": "laden-paragraph",
   "metadata": {},
   "source": [
    "Getting multiple inputs from a single line"
   ]
  },
  {
   "cell_type": "code",
   "execution_count": 3,
   "id": "correct-water",
   "metadata": {},
   "outputs": [
    {
     "name": "stdout",
     "output_type": "stream",
     "text": [
      "Enter 2 numbers: 10 20\n",
      "The product is  200\n"
     ]
    }
   ],
   "source": [
    "a, b = [int(x) for x in input(\"Enter 2 numbers: \").split()]\n",
    "print(\"The product is \", a*b)"
   ]
  },
  {
   "cell_type": "markdown",
   "id": "electric-macro",
   "metadata": {},
   "source": [
    "evl() function"
   ]
  },
  {
   "cell_type": "code",
   "execution_count": 4,
   "id": "allied-hollow",
   "metadata": {},
   "outputs": [
    {
     "name": "stdout",
     "output_type": "stream",
     "text": [
      "60\n"
     ]
    }
   ],
   "source": [
    "x=eval(\"10+20+30\") # eval automaticall typecast in to required types and perform the actions required to get the result\n",
    "print(x)"
   ]
  },
  {
   "cell_type": "code",
   "execution_count": 6,
   "id": "informed-report",
   "metadata": {},
   "outputs": [
    {
     "name": "stdout",
     "output_type": "stream",
     "text": [
      "Enter math expression: 10+20+30\n",
      "60\n"
     ]
    }
   ],
   "source": [
    "ex=eval(input(\"Enter math expression: \"))\n",
    "print(ex)"
   ]
  },
  {
   "cell_type": "code",
   "execution_count": 7,
   "id": "tight-annual",
   "metadata": {},
   "outputs": [
    {
     "name": "stdout",
     "output_type": "stream",
     "text": [
      "Enter list: [10, 20]\n",
      "[10, 20]\n",
      "<class 'list'>\n"
     ]
    }
   ],
   "source": [
    "x=eval(input(\"Enter list: \"))\n",
    "print(x)\n",
    "print(type(x))"
   ]
  },
  {
   "cell_type": "code",
   "execution_count": 9,
   "id": "decent-advertising",
   "metadata": {},
   "outputs": [
    {
     "name": "stdout",
     "output_type": "stream",
     "text": [
      "Enter 3 values: 10, 30.5, True\n",
      "10 <class 'int'>\n",
      "30.5 <class 'float'>\n",
      "True <class 'bool'>\n"
     ]
    }
   ],
   "source": [
    "a,b,c=[eval(x) for x in input(\"Enter 3 values: \").split(\",\")]\n",
    "print(a, type(a))\n",
    "print(b, type(b))\n",
    "print(c, type(c))"
   ]
  },
  {
   "cell_type": "code",
   "execution_count": null,
   "id": "sonic-genre",
   "metadata": {},
   "outputs": [],
   "source": [
    "56:21\n",
    "    "
   ]
  },
  {
   "cell_type": "markdown",
   "id": "fixed-frederick",
   "metadata": {},
   "source": [
    "Command Line Arguments\n",
    "- The 'argv' variable holds all command line argument values that we pass\n",
    "- argv is a list type\n",
    "- argv is available in sys module\n",
    "- Refer to the exercise_files cmd_arg.py\n",
    "- py cmd_arg.py 10 20 30\n",
    "    - argv[0] is cmd_arg.py\n",
    "    - argv[1] is 10\n",
    "    - argv[2] is 20\n",
    "    - argv[3] is 30"
   ]
  },
  {
   "cell_type": "code",
   "execution_count": 1,
   "id": "flexible-compromise",
   "metadata": {},
   "outputs": [
    {
     "name": "stdout",
     "output_type": "stream",
     "text": [
      "<class 'list'>\n"
     ]
    }
   ],
   "source": [
    "from sys import argv\n",
    "\n",
    "print(type(argv))\n"
   ]
  }
 ],
 "metadata": {
  "kernelspec": {
   "display_name": "Python 3",
   "language": "python",
   "name": "python3"
  },
  "language_info": {
   "codemirror_mode": {
    "name": "ipython",
    "version": 3
   },
   "file_extension": ".py",
   "mimetype": "text/x-python",
   "name": "python",
   "nbconvert_exporter": "python",
   "pygments_lexer": "ipython3",
   "version": "3.9.2"
  }
 },
 "nbformat": 4,
 "nbformat_minor": 5
}
