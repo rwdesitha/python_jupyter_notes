{
 "cells": [
  {
   "cell_type": "markdown",
   "id": "identical-baker",
   "metadata": {},
   "source": [
    "Saving and serialising a dataframe ref->2.5"
   ]
  },
  {
   "cell_type": "code",
   "execution_count": null,
   "id": "forty-salvation",
   "metadata": {},
   "outputs": [],
   "source": [
    "import numpy as np\n",
    "import pandas as pd\n",
    "import openpyxl as xl\n",
    "\n",
    "df = pd.DataFrame(np.random.random(size=(10000, 4)), columns=[\"A\", \"B\", \"C\", \"D\"])\n",
    "df.head()"
   ]
  },
  {
   "cell_type": "code",
   "execution_count": 16,
   "id": "accompanied-marriage",
   "metadata": {},
   "outputs": [],
   "source": [
    "#df.to_csv(\"save.csv\", index=False, float_format=\"%0.4f\")\n",
    "df.to_excel(\"output.xlsx\")"
   ]
  },
  {
   "cell_type": "code",
   "execution_count": null,
   "id": "related-courtesy",
   "metadata": {},
   "outputs": [],
   "source": []
  }
 ],
 "metadata": {
  "kernelspec": {
   "display_name": "Python 3",
   "language": "python",
   "name": "python3"
  },
  "language_info": {
   "codemirror_mode": {
    "name": "ipython",
    "version": 3
   },
   "file_extension": ".py",
   "mimetype": "text/x-python",
   "name": "python",
   "nbconvert_exporter": "python",
   "pygments_lexer": "ipython3",
   "version": "3.9.2"
  }
 },
 "nbformat": 4,
 "nbformat_minor": 5
}
