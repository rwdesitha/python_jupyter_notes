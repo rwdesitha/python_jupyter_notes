{
 "cells": [
  {
   "cell_type": "markdown",
   "id": "amended-auction",
   "metadata": {},
   "source": [
    "Inspecting Data ref->2.6"
   ]
  },
  {
   "cell_type": "code",
   "execution_count": 6,
   "id": "declared-reply",
   "metadata": {},
   "outputs": [
    {
     "data": {
      "text/html": [
       "<div>\n",
       "<style scoped>\n",
       "    .dataframe tbody tr th:only-of-type {\n",
       "        vertical-align: middle;\n",
       "    }\n",
       "\n",
       "    .dataframe tbody tr th {\n",
       "        vertical-align: top;\n",
       "    }\n",
       "\n",
       "    .dataframe thead th {\n",
       "        text-align: right;\n",
       "    }\n",
       "</style>\n",
       "<table border=\"1\" class=\"dataframe\">\n",
       "  <thead>\n",
       "    <tr style=\"text-align: right;\">\n",
       "      <th></th>\n",
       "      <th>Name</th>\n",
       "      <th>Year</th>\n",
       "      <th>Group</th>\n",
       "      <th>Status</th>\n",
       "      <th>Birth Date</th>\n",
       "      <th>Birth Place</th>\n",
       "      <th>Gender</th>\n",
       "      <th>Alma Mater</th>\n",
       "      <th>Undergraduate Major</th>\n",
       "      <th>Graduate Major</th>\n",
       "      <th>Military Rank</th>\n",
       "      <th>Military Branch</th>\n",
       "      <th>Space Flights</th>\n",
       "      <th>Space Flight (hr)</th>\n",
       "      <th>Space Walks</th>\n",
       "      <th>Space Walks (hr)</th>\n",
       "      <th>Missions</th>\n",
       "      <th>Death Date</th>\n",
       "      <th>Death Mission</th>\n",
       "    </tr>\n",
       "  </thead>\n",
       "  <tbody>\n",
       "    <tr>\n",
       "      <th>128</th>\n",
       "      <td>Robert L. Gibson</td>\n",
       "      <td>1978.0</td>\n",
       "      <td>8.0</td>\n",
       "      <td>Retired</td>\n",
       "      <td>10/30/1946</td>\n",
       "      <td>Cooperstown, NY</td>\n",
       "      <td>Male</td>\n",
       "      <td>California Polytechnic Institute</td>\n",
       "      <td>Aeronautical Engineering</td>\n",
       "      <td>NaN</td>\n",
       "      <td>Captain</td>\n",
       "      <td>US Navy (Retired)</td>\n",
       "      <td>5</td>\n",
       "      <td>868</td>\n",
       "      <td>0</td>\n",
       "      <td>0.0</td>\n",
       "      <td>STS 41-B (Challenger), STS 61-C (Columbia), ST...</td>\n",
       "      <td>NaN</td>\n",
       "      <td>NaN</td>\n",
       "    </tr>\n",
       "    <tr>\n",
       "      <th>210</th>\n",
       "      <td>Edward T. Lu</td>\n",
       "      <td>1995.0</td>\n",
       "      <td>15.0</td>\n",
       "      <td>Retired</td>\n",
       "      <td>7/1/1963</td>\n",
       "      <td>Springfield, MA</td>\n",
       "      <td>Male</td>\n",
       "      <td>Cornell University; Stanford University</td>\n",
       "      <td>Electrical Engineering</td>\n",
       "      <td>Applied Physics</td>\n",
       "      <td>NaN</td>\n",
       "      <td>NaN</td>\n",
       "      <td>3</td>\n",
       "      <td>4962</td>\n",
       "      <td>1</td>\n",
       "      <td>6.0</td>\n",
       "      <td>STS-84 (Atlantis), STS-106 (Atlantis), ISS-07 ...</td>\n",
       "      <td>NaN</td>\n",
       "      <td>NaN</td>\n",
       "    </tr>\n",
       "    <tr>\n",
       "      <th>139</th>\n",
       "      <td>S. David Griggs</td>\n",
       "      <td>1978.0</td>\n",
       "      <td>8.0</td>\n",
       "      <td>Deceased</td>\n",
       "      <td>9/7/1939</td>\n",
       "      <td>Portland, OR</td>\n",
       "      <td>Male</td>\n",
       "      <td>US Naval Academy; George Washington University</td>\n",
       "      <td>NaN</td>\n",
       "      <td>Business Administration</td>\n",
       "      <td>NaN</td>\n",
       "      <td>NaN</td>\n",
       "      <td>1</td>\n",
       "      <td>167</td>\n",
       "      <td>1</td>\n",
       "      <td>3.0</td>\n",
       "      <td>STS 51-D (Discovery)</td>\n",
       "      <td>6/17/1989</td>\n",
       "      <td>NaN</td>\n",
       "    </tr>\n",
       "  </tbody>\n",
       "</table>\n",
       "</div>"
      ],
      "text/plain": [
       "                 Name    Year  Group    Status  Birth Date      Birth Place  \\\n",
       "128  Robert L. Gibson  1978.0    8.0   Retired  10/30/1946  Cooperstown, NY   \n",
       "210      Edward T. Lu  1995.0   15.0   Retired    7/1/1963  Springfield, MA   \n",
       "139   S. David Griggs  1978.0    8.0  Deceased    9/7/1939     Portland, OR   \n",
       "\n",
       "    Gender                                      Alma Mater  \\\n",
       "128   Male                California Polytechnic Institute   \n",
       "210   Male         Cornell University; Stanford University   \n",
       "139   Male  US Naval Academy; George Washington University   \n",
       "\n",
       "          Undergraduate Major           Graduate Major Military Rank  \\\n",
       "128  Aeronautical Engineering                      NaN       Captain   \n",
       "210    Electrical Engineering          Applied Physics           NaN   \n",
       "139                       NaN  Business Administration           NaN   \n",
       "\n",
       "       Military Branch  Space Flights  Space Flight (hr)  Space Walks  \\\n",
       "128  US Navy (Retired)              5                868            0   \n",
       "210                NaN              3               4962            1   \n",
       "139                NaN              1                167            1   \n",
       "\n",
       "     Space Walks (hr)                                           Missions  \\\n",
       "128               0.0  STS 41-B (Challenger), STS 61-C (Columbia), ST...   \n",
       "210               6.0  STS-84 (Atlantis), STS-106 (Atlantis), ISS-07 ...   \n",
       "139               3.0                               STS 51-D (Discovery)   \n",
       "\n",
       "    Death Date Death Mission  \n",
       "128        NaN           NaN  \n",
       "210        NaN           NaN  \n",
       "139  6/17/1989           NaN  "
      ]
     },
     "execution_count": 6,
     "metadata": {},
     "output_type": "execute_result"
    }
   ],
   "source": [
    "import pandas as pd\n",
    "\n",
    "df = pd.read_csv(\"astronauts.csv\")\n",
    "#df.head(2) # first 2 rows\n",
    "#df.tail(2) # last 2 rows\n",
    "df.sample(3) # 3 random rows, df.sample(3, replace=True) if randomly pick same row it will pick again"
   ]
  },
  {
   "cell_type": "code",
   "execution_count": 7,
   "id": "immune-inventory",
   "metadata": {},
   "outputs": [
    {
     "name": "stdout",
     "output_type": "stream",
     "text": [
      "<class 'pandas.core.frame.DataFrame'>\n",
      "RangeIndex: 357 entries, 0 to 356\n",
      "Data columns (total 19 columns):\n",
      " #   Column               Non-Null Count  Dtype  \n",
      "---  ------               --------------  -----  \n",
      " 0   Name                 357 non-null    object \n",
      " 1   Year                 330 non-null    float64\n",
      " 2   Group                330 non-null    float64\n",
      " 3   Status               357 non-null    object \n",
      " 4   Birth Date           357 non-null    object \n",
      " 5   Birth Place          357 non-null    object \n",
      " 6   Gender               357 non-null    object \n",
      " 7   Alma Mater           356 non-null    object \n",
      " 8   Undergraduate Major  335 non-null    object \n",
      " 9   Graduate Major       298 non-null    object \n",
      " 10  Military Rank        207 non-null    object \n",
      " 11  Military Branch      211 non-null    object \n",
      " 12  Space Flights        357 non-null    int64  \n",
      " 13  Space Flight (hr)    357 non-null    int64  \n",
      " 14  Space Walks          357 non-null    int64  \n",
      " 15  Space Walks (hr)     357 non-null    float64\n",
      " 16  Missions             334 non-null    object \n",
      " 17  Death Date           52 non-null     object \n",
      " 18  Death Mission        16 non-null     object \n",
      "dtypes: float64(3), int64(3), object(13)\n",
      "memory usage: 53.1+ KB\n"
     ]
    }
   ],
   "source": [
    "df.info() # information about datafram"
   ]
  },
  {
   "cell_type": "code",
   "execution_count": 8,
   "id": "assigned-pattern",
   "metadata": {},
   "outputs": [
    {
     "data": {
      "text/plain": [
       "(357, 19)"
      ]
     },
     "execution_count": 8,
     "metadata": {},
     "output_type": "execute_result"
    }
   ],
   "source": [
    "df.shape # rows and colum count"
   ]
  },
  {
   "cell_type": "code",
   "execution_count": 9,
   "id": "informative-floor",
   "metadata": {},
   "outputs": [
    {
     "data": {
      "text/plain": [
       "1996.0    35\n",
       "1978.0    35\n",
       "1998.0    25\n",
       "1990.0    23\n",
       "1966.0    19\n",
       "1995.0    19\n",
       "1992.0    19\n",
       "1980.0    19\n",
       "1984.0    18\n",
       "2000.0    17\n",
       "1987.0    15\n",
       "1963.0    14\n",
       "1985.0    13\n",
       "2004.0    11\n",
       "1967.0    11\n",
       "2009.0     9\n",
       "1962.0     8\n",
       "1959.0     7\n",
       "1969.0     7\n",
       "1965.0     6\n",
       "Name: Year, dtype: int64"
      ]
     },
     "execution_count": 9,
     "metadata": {},
     "output_type": "execute_result"
    }
   ],
   "source": [
    "df['Year'].value_counts()"
   ]
  },
  {
   "cell_type": "code",
   "execution_count": 10,
   "id": "interracial-access",
   "metadata": {},
   "outputs": [
    {
     "data": {
      "text/plain": [
       "Name                 Yvonne D. Cagle\n",
       "Year                          2009.0\n",
       "Group                           20.0\n",
       "Status                       Retired\n",
       "Birth Date                  9/9/1952\n",
       "Birth Place              Yonkers, NY\n",
       "Gender                          Male\n",
       "Space Flights                      7\n",
       "Space Flight (hr)              12818\n",
       "Space Walks                       10\n",
       "Space Walks (hr)                67.0\n",
       "dtype: object"
      ]
     },
     "execution_count": 10,
     "metadata": {},
     "output_type": "execute_result"
    }
   ],
   "source": [
    "df.max()"
   ]
  },
  {
   "cell_type": "markdown",
   "id": "thousand-interim",
   "metadata": {},
   "source": []
  }
 ],
 "metadata": {
  "kernelspec": {
   "display_name": "Python 3",
   "language": "python",
   "name": "python3"
  },
  "language_info": {
   "codemirror_mode": {
    "name": "ipython",
    "version": 3
   },
   "file_extension": ".py",
   "mimetype": "text/x-python",
   "name": "python",
   "nbconvert_exporter": "python",
   "pygments_lexer": "ipython3",
   "version": "3.9.2"
  }
 },
 "nbformat": 4,
 "nbformat_minor": 5
}
