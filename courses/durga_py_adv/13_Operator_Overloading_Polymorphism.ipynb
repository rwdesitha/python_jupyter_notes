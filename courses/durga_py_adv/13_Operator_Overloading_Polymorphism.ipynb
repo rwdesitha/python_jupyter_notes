{
 "cells": [
  {
   "cell_type": "markdown",
   "id": "118c8fbe",
   "metadata": {},
   "source": [
    "<h1>Operator overloading polymorphism</h1>\n",
    "ref->vid12"
   ]
  },
  {
   "cell_type": "markdown",
   "id": "c93223dd",
   "metadata": {},
   "source": [
    "Overloading\n",
    "\n",
    "    Using one thing to do many things.."
   ]
  },
  {
   "cell_type": "code",
   "execution_count": null,
   "id": "66b1f872",
   "metadata": {},
   "outputs": [],
   "source": [
    "print(10+20)\n",
    "print('des'+' dev')\n",
    "print(10*3)\n",
    "print('dev'*3)"
   ]
  },
  {
   "cell_type": "markdown",
   "id": "4c6526cf",
   "metadata": {},
   "source": [
    "Operator overloading"
   ]
  },
  {
   "cell_type": "markdown",
   "id": "3f01b3a0",
   "metadata": {},
   "source": [
    "In  java we don't have operator overloading, but in python we have operator overloading\n",
    "In java + operator is there. Also in java + operator is used for arithmetic and string concatenations. Except that no other operator supports overloading. Even + operator is used for arithmetic addition and concatenations beyond that you can't use + operator anywhere else.\n",
    "\n",
    "But in python we can make this + operator works with custom types like Book, Employee ect.\n",
    "\n",
    "If a language supports operator overloaind it should have to facility to use that for custom types too."
   ]
  },
  {
   "cell_type": "code",
   "execution_count": null,
   "id": "8e720954",
   "metadata": {},
   "outputs": [],
   "source": [
    "class Book:\n",
    "    def __init__(self, pages)\n",
    "        self.pages=pages\n",
    "        \n",
    "b1=Book(100)\n",
    "b2=Book(200)\n",
    "print(b1+b2) #error but we can maek this work using operator overloading in python, but this can't be done in a language that doesn't support operator overloading\n"
   ]
  },
  {
   "cell_type": "markdown",
   "id": "be5c8ce2",
   "metadata": {},
   "source": [
    "Here we can use magic method to implement this behaviour, Once b1+b2 is executing then Book class corresponding magic method will be executing and return the result for the action of b1+b2. When two custom types class uses a operator like b1+b2 then The corresponding Book class will be checked or + operator magic method and execute the it."
   ]
  },
  {
   "cell_type": "markdown",
   "id": "cacfc0cd",
   "metadata": {},
   "source": [
    "+ ==>  __add__()\n",
    "in b1+b2 example, magic method should be like this __add__(self, other) self->b1, other->b2"
   ]
  },
  {
   "cell_type": "code",
   "execution_count": 15,
   "id": "215f60e5",
   "metadata": {},
   "outputs": [
    {
     "name": "stdout",
     "output_type": "stream",
     "text": [
      "300\n",
      "-100\n",
      "20000\n",
      "0.5\n"
     ]
    }
   ],
   "source": [
    "class Book:\n",
    "    def __init__(self, pages):\n",
    "        self.pages=pages\n",
    "        \n",
    "    def __add__(self, other):\n",
    "        return self.pages + other.pages\n",
    "    \n",
    "    def __sub__(self, other):\n",
    "        return self.pages - other.pages\n",
    "    \n",
    "    def __mul__(self, other):\n",
    "        return self.pages*other.pages\n",
    "    \n",
    "    def __truediv__(self, other):\n",
    "        return self.pages/other.pages\n",
    "        \n",
    "b1=Book(100)\n",
    "b2=Book(200)\n",
    "print(b1+b2)\n",
    "print(b1-b2)\n",
    "print(b1*b2)\n",
    "print(b1/b2)"
   ]
  },
  {
   "cell_type": "markdown",
   "id": "999498c8",
   "metadata": {},
   "source": [
    "Corresponding magic method for some operators.\n",
    "> --- __gt__()\n",
    ">= -- __ge__()\n",
    "< --- __lt__()\n",
    "<= -- __le__()\n",
    "== -- __eq__()\n",
    "!= -- __ne__()"
   ]
  },
  {
   "cell_type": "code",
   "execution_count": 9,
   "id": "b76dc91d",
   "metadata": {},
   "outputs": [
    {
     "ename": "TypeError",
     "evalue": "unsupported operand type(s) for +: 'int' and 'Book'",
     "output_type": "error",
     "traceback": [
      "\u001b[1;31m---------------------------------------------------------------------------\u001b[0m",
      "\u001b[1;31mTypeError\u001b[0m                                 Traceback (most recent call last)",
      "\u001b[1;32m~\\AppData\\Local\\Temp/ipykernel_12104/1950799681.py\u001b[0m in \u001b[0;36m<module>\u001b[1;34m\u001b[0m\n\u001b[0;32m      9\u001b[0m \u001b[0mb2\u001b[0m\u001b[1;33m=\u001b[0m\u001b[0mBook\u001b[0m\u001b[1;33m(\u001b[0m\u001b[1;36m200\u001b[0m\u001b[1;33m)\u001b[0m\u001b[1;33m\u001b[0m\u001b[1;33m\u001b[0m\u001b[0m\n\u001b[0;32m     10\u001b[0m \u001b[0mb3\u001b[0m\u001b[1;33m=\u001b[0m\u001b[0mBook\u001b[0m\u001b[1;33m(\u001b[0m\u001b[1;36m500\u001b[0m\u001b[1;33m)\u001b[0m\u001b[1;33m\u001b[0m\u001b[1;33m\u001b[0m\u001b[0m\n\u001b[1;32m---> 11\u001b[1;33m \u001b[0mprint\u001b[0m\u001b[1;33m(\u001b[0m\u001b[0mb1\u001b[0m\u001b[1;33m+\u001b[0m\u001b[0mb2\u001b[0m\u001b[1;33m+\u001b[0m\u001b[0mb3\u001b[0m\u001b[1;33m)\u001b[0m\u001b[1;33m\u001b[0m\u001b[1;33m\u001b[0m\u001b[0m\n\u001b[0m",
      "\u001b[1;31mTypeError\u001b[0m: unsupported operand type(s) for +: 'int' and 'Book'"
     ]
    }
   ],
   "source": [
    "class Book:\n",
    "    def __init__(self, pages):\n",
    "        self.pages=pages\n",
    "        \n",
    "    def __add__(self, other):\n",
    "        return self.pages + other.pages\n",
    "        \n",
    "b1=Book(100)\n",
    "b2=Book(200)\n",
    "b3=Book(500)\n",
    "print(b1+b2+b3)"
   ]
  }
 ],
 "metadata": {
  "kernelspec": {
   "display_name": "Python 3 (ipykernel)",
   "language": "python",
   "name": "python3"
  },
  "language_info": {
   "codemirror_mode": {
    "name": "ipython",
    "version": 3
   },
   "file_extension": ".py",
   "mimetype": "text/x-python",
   "name": "python",
   "nbconvert_exporter": "python",
   "pygments_lexer": "ipython3",
   "version": "3.9.6"
  }
 },
 "nbformat": 4,
 "nbformat_minor": 5
}
