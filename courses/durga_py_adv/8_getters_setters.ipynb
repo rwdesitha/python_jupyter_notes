{
 "cells": [
  {
   "cell_type": "markdown",
   "id": "dimensional-deficit",
   "metadata": {},
   "source": [
    "# getter and setters\n",
    "- ref->vid7"
   ]
  },
  {
   "cell_type": "code",
   "execution_count": 1,
   "id": "removed-dining",
   "metadata": {},
   "outputs": [
    {
     "name": "stdout",
     "output_type": "stream",
     "text": [
      "Desitha\n",
      "100\n"
     ]
    }
   ],
   "source": [
    "class Test:\n",
    "    def setName(self, name):\n",
    "        self.name=name\n",
    "\n",
    "    def getName(self):\n",
    "        return self.name\n",
    "\n",
    "    def setMarks(self, marks):\n",
    "        self.marks=marks\n",
    "\n",
    "    def getMarks(self):\n",
    "        return self.marks\n",
    "    \n",
    "t=Test()\n",
    "t.setName('Desitha')\n",
    "t.setMarks(100)\n",
    "print(t.getName())\n",
    "print(t.getMarks())"
   ]
  }
 ],
 "metadata": {
  "kernelspec": {
   "display_name": "Python 3",
   "language": "python",
   "name": "python3"
  },
  "language_info": {
   "codemirror_mode": {
    "name": "ipython",
    "version": 3
   },
   "file_extension": ".py",
   "mimetype": "text/x-python",
   "name": "python",
   "nbconvert_exporter": "python",
   "pygments_lexer": "ipython3",
   "version": "3.9.2"
  }
 },
 "nbformat": 4,
 "nbformat_minor": 5
}
