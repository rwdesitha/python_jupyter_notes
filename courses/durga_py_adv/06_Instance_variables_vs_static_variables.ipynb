{
 "cells": [
  {
   "cell_type": "markdown",
   "id": "liquid-heart",
   "metadata": {},
   "source": [
    "# Instance variables vs static variables \n",
    "- ref->vid5"
   ]
  },
  {
   "cell_type": "markdown",
   "id": "registered-collect",
   "metadata": {},
   "source": [
    "- Instance: For every object a sperate copy\n",
    "- For all object a single copy will be maintained at class level"
   ]
  },
  {
   "cell_type": "markdown",
   "id": "divine-certificate",
   "metadata": {},
   "source": [
    "**What are various places to declare static variables?**"
   ]
  },
  {
   "cell_type": "markdown",
   "id": "combined-chorus",
   "metadata": {},
   "source": [
    "1. Within the class directly but from outside of any method.\n",
    "2. Inside constructor by using class name\n",
    "3. Inside instance method by using class name\n",
    "4. Inside class method by using cls variable or class name\n",
    "5. Inside static method by using class method.\n",
    "6. from outside of class by using class name."
   ]
  },
  {
   "cell_type": "markdown",
   "id": "major-stupid",
   "metadata": {},
   "source": [
    "**How to access static variables:**"
   ]
  },
  {
   "cell_type": "markdown",
   "id": "coral-naples",
   "metadata": {},
   "source": [
    "We can access static variable either by class name or by object reference (#1 - unless that same class doesn't have a instance variable with that name, if have that instance variable will be called when call by self or object reference).\n",
    "1. Within the class we can access by using class name\n",
    "2. But inside class method we can also use cls variable\n",
    "\n",
    "We can access static variable either by class name or by object reference.\n",
    "\n",
    "- Within the class we can use\n",
    "    - class name, self, cls (#1)\n",
    "- Outside of the class\n",
    "    - object refernce, class name (#1)\n"
   ]
  },
  {
   "cell_type": "markdown",
   "id": "illegal-cloud",
   "metadata": {},
   "source": [
    "**How to modify static variables:**"
   ]
  },
  {
   "cell_type": "markdown",
   "id": "ceramic-lawyer",
   "metadata": {},
   "source": [
    "- Within the class we should use\n",
    "    - classname, cls variable\n",
    "- from outside of the class\n",
    "    - only class name"
   ]
  },
  {
   "cell_type": "markdown",
   "id": "entire-michael",
   "metadata": {},
   "source": [
    "**How to delete static variable:**\n",
    "\n",
    "- Within the class we should use\n",
    "\t- classname, cls variable"
   ]
  },
  {
   "cell_type": "code",
   "execution_count": 16,
   "id": "seeing-sponsorship",
   "metadata": {},
   "outputs": [
    {
     "name": "stdout",
     "output_type": "stream",
     "text": [
      "20\n",
      "20\n",
      "10\n",
      "{'b': 100}\n",
      "100\n",
      "20\n",
      "40\n",
      "100\n"
     ]
    }
   ],
   "source": [
    "class Test:\n",
    "    a=10\n",
    "    def __init__(self):\n",
    "        Test.b=20\n",
    "\n",
    "    def m1(self):\n",
    "        Test.c=30\n",
    "        print(self.b)\n",
    "\n",
    "    @classmethod\n",
    "    def m2(cls):\n",
    "        cls.d=40\n",
    "        Test.e=50\n",
    "\n",
    "    @staticmethod\n",
    "    def m3():\n",
    "        Test.f=60\n",
    "        \n",
    "Test.g=70\n",
    "\n",
    "t = Test()\n",
    "print(t.b)\n",
    "t.b=100\n",
    "print(Test.b)\n",
    "print(Test.a)\n",
    "print(t.__dict__)\n",
    "print(t.b)\n",
    "print(Test.b)\n",
    "Test.m2()\n",
    "print(t.d)\n",
    "t.m1()"
   ]
  }
 ],
 "metadata": {
  "kernelspec": {
   "display_name": "Python 3 (ipykernel)",
   "language": "python",
   "name": "python3"
  },
  "language_info": {
   "codemirror_mode": {
    "name": "ipython",
    "version": 3
   },
   "file_extension": ".py",
   "mimetype": "text/x-python",
   "name": "python",
   "nbconvert_exporter": "python",
   "pygments_lexer": "ipython3",
   "version": "3.9.6"
  }
 },
 "nbformat": 4,
 "nbformat_minor": 5
}
