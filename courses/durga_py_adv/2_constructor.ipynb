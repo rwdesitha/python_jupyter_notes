{
 "cells": [
  {
   "cell_type": "markdown",
   "id": "increased-cholesterol",
   "metadata": {},
   "source": [
    "# Constructor - ref->vid3"
   ]
  },
  {
   "cell_type": "code",
   "execution_count": 2,
   "id": "retired-wireless",
   "metadata": {},
   "outputs": [
    {
     "name": "stdout",
     "output_type": "stream",
     "text": [
      "Constructor is executing - one arg\n"
     ]
    }
   ],
   "source": [
    "class Test:\n",
    "    def __init__(self):\n",
    "        print('Constructor is executing - no arg')\n",
    "\n",
    "    def __init__(self, x):\n",
    "        print('Constructor is executing - one arg')\n",
    "\n",
    "#t = Test()\n",
    "t1 = Test(10)"
   ]
  },
  {
   "cell_type": "markdown",
   "id": "spiritual-dominican",
   "metadata": {},
   "source": [
    "1. The name should be always: __init()\n",
    "2. Whenever we are creating object constructor will be executed automatically. We are no required to call explicitly.\n",
    "3. The main objective is to declare and initialize variables.\n",
    "4. For every object constructor will be executed only once.\n",
    "\n",
    "NOTE: Unlike other programming languages there is no concept of method overloading or constructor overloading. In Ex1 the most recently created constructor is used when creating objects, that means  def __init__(self, x):"
   ]
  }
 ],
 "metadata": {
  "kernelspec": {
   "display_name": "Python 3",
   "language": "python",
   "name": "python3"
  },
  "language_info": {
   "codemirror_mode": {
    "name": "ipython",
    "version": 3
   },
   "file_extension": ".py",
   "mimetype": "text/x-python",
   "name": "python",
   "nbconvert_exporter": "python",
   "pygments_lexer": "ipython3",
   "version": "3.9.2"
  }
 },
 "nbformat": 4,
 "nbformat_minor": 5
}
