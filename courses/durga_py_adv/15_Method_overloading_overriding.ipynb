{
 "cells": [
  {
   "cell_type": "markdown",
   "id": "3fafd80a",
   "metadata": {},
   "source": [
    "<h1>Method overloading & overriding</h1>\n",
    "ref->vid14"
   ]
  },
  {
   "cell_type": "markdown",
   "id": "f97f525a",
   "metadata": {},
   "source": [
    "To method overloading to exist the method name must be same, but different argument types or number of argument types must be there. But python won't provide support for types since method overloading is not supported in python."
   ]
  },
  {
   "cell_type": "markdown",
   "id": "cf909f78",
   "metadata": {},
   "source": [
    "Since python deosn't support for types, how can we pass multitpe parameters to a function.\n",
    "\n",
    "1. default arguments\n",
    "2. Variable length arguments"
   ]
  },
  {
   "cell_type": "code",
   "execution_count": 5,
   "id": "4d365061",
   "metadata": {},
   "outputs": [
    {
     "name": "stdout",
     "output_type": "stream",
     "text": [
      "The sum of 3 numbers:  6\n",
      "The sum of 2 numbers:  3\n",
      "Please provide 2 or 3 arguments\n"
     ]
    }
   ],
   "source": [
    "class Test:\n",
    "    def sum(self, a=None, b=None, c=None):\n",
    "        if a!=None and b!=None and c!=None:\n",
    "            print('The sum of 3 numbers: ', a+b+c)\n",
    "        elif a!=None and b!=None:\n",
    "            print('The sum of 2 numbers: ', a+b)\n",
    "        else:\n",
    "            print('Please provide 2 or 3 arguments')\n",
    "t=Test()\n",
    "t.sum(1,2,3)\n",
    "t.sum(1,2)\n",
    "t.sum(1)"
   ]
  },
  {
   "cell_type": "code",
   "execution_count": 7,
   "id": "541f78ad",
   "metadata": {},
   "outputs": [
    {
     "name": "stdout",
     "output_type": "stream",
     "text": [
      "The sum:  10\n",
      "The sum:  30\n",
      "The sum:  60\n",
      "The sum:  100\n",
      "The sum:  150\n"
     ]
    }
   ],
   "source": [
    "class Test:\n",
    "    def sum(self, *a): # *a is called variale length argument represent a tuple inside\n",
    "        total=0\n",
    "        for x in a:\n",
    "            total=total+x\n",
    "        print('The sum: ', total)\n",
    "        \n",
    "t=Test()\n",
    "t.sum(10)\n",
    "t.sum(10,20)\n",
    "t.sum(10,20,30)\n",
    "t.sum(10,20,30,40)\n",
    "t.sum(10,20,30,40,50)"
   ]
  },
  {
   "cell_type": "code",
   "execution_count": null,
   "id": "82f6044d",
   "metadata": {},
   "outputs": [],
   "source": [
    "class Test:\n",
    "    def m1(self):\n",
    "        print('no args method')\n",
    "    \n",
    "    def m1(self,a):\n",
    "        print('one args method')\n",
    "        \n",
    "    def m1(self, a, b): # most recently defined constructor will be consdiered.\n",
    "        print('two args method')"
   ]
  },
  {
   "cell_type": "markdown",
   "id": "9af44cd5",
   "metadata": {},
   "source": [
    "Although Test class defines 3 methods, the only effective method will only be last method def m1(self, a, b): "
   ]
  },
  {
   "cell_type": "markdown",
   "id": "0b076d77",
   "metadata": {},
   "source": [
    "Python doesn't support constructor overloading too"
   ]
  },
  {
   "cell_type": "code",
   "execution_count": 9,
   "id": "fe1d731d",
   "metadata": {},
   "outputs": [],
   "source": [
    "class Test:\n",
    "    def __init__(self):\n",
    "        print('no-args constructor')\n",
    "        \n",
    "    def __init__(self, a):\n",
    "        print('one-arg constructor')\n",
    "        \n",
    "    def __init__(self, a, b):\n",
    "        print('two-arg constructor')\n",
    "        \n",
    "#t=Test(10) # error"
   ]
  },
  {
   "cell_type": "markdown",
   "id": "7b698664",
   "metadata": {},
   "source": [
    "<h3>Constructor with default arguments<h/3>"
   ]
  },
  {
   "cell_type": "code",
   "execution_count": 11,
   "id": "941021af",
   "metadata": {},
   "outputs": [
    {
     "name": "stdout",
     "output_type": "stream",
     "text": [
      "Constructor with 0,1,2,3 args\n"
     ]
    }
   ],
   "source": [
    "class Test:\n",
    "    def __init__(self, a=None, b=None, c=None):\n",
    "        print('Constructor with 0,1,2,3 args')\n",
    "        \n",
    "t=Test()"
   ]
  },
  {
   "cell_type": "markdown",
   "id": "a9644c0a",
   "metadata": {},
   "source": [
    "<h3>Constructor with any number of arguments</h3>"
   ]
  },
  {
   "cell_type": "code",
   "execution_count": 12,
   "id": "d2b9579e",
   "metadata": {},
   "outputs": [
    {
     "name": "stdout",
     "output_type": "stream",
     "text": [
      "Constructor with 0,1,2,3 args\n",
      "Constructor with 0,1,2,3 args\n",
      "Constructor with 0,1,2,3 args\n",
      "Constructor with 0,1,2,3 args\n"
     ]
    }
   ],
   "source": [
    "class Test:\n",
    "    def __init__(self, *a):\n",
    "        print('Constructor with 0,1,2,3 args')\n",
    "        \n",
    "t=Test()\n",
    "t=Test(1)\n",
    "t=Test(1,2)\n",
    "t=Test(1,2,3)"
   ]
  },
  {
   "cell_type": "markdown",
   "id": "db071c5d",
   "metadata": {},
   "source": [
    "<h3>Inheritance</h3>"
   ]
  },
  {
   "cell_type": "markdown",
   "id": "93ddab98",
   "metadata": {},
   "source": [
    "Purposes of inheritance\n",
    "\n",
    "1. Code reusability\n",
    "2. Existing functionality we can extend"
   ]
  },
  {
   "cell_type": "code",
   "execution_count": 13,
   "id": "241e4308",
   "metadata": {},
   "outputs": [
    {
     "name": "stdout",
     "output_type": "stream",
     "text": [
      "Cash, gold, power\n",
      "Vinday\n"
     ]
    }
   ],
   "source": [
    "class P:\n",
    "    def property(self):\n",
    "        print('Cash, gold, power')\n",
    "        \n",
    "    def marry(self):\n",
    "        print('Vinday')\n",
    "        \n",
    "class C(P): pass\n",
    "\n",
    "c=C()\n",
    "c.property()\n",
    "c.marry()"
   ]
  },
  {
   "cell_type": "markdown",
   "id": "0f9379db",
   "metadata": {},
   "source": [
    "Child overrides marry method of parent"
   ]
  },
  {
   "cell_type": "code",
   "execution_count": 14,
   "id": "6fe0bc01",
   "metadata": {},
   "outputs": [
    {
     "name": "stdout",
     "output_type": "stream",
     "text": [
      "Cash, gold, power\n",
      "Katrina\n"
     ]
    }
   ],
   "source": [
    "class P:\n",
    "    def property(self):\n",
    "        print('Cash, gold, power')\n",
    "        \n",
    "    def marry(self):\n",
    "        print('Vinday')\n",
    "        \n",
    "class C(P):\n",
    "    def marry(self): # child overrides marry method of parent class\n",
    "        print('Katrina')\n",
    "\n",
    "c=C()\n",
    "c.property()\n",
    "c.marry()"
   ]
  },
  {
   "cell_type": "markdown",
   "id": "49891e34",
   "metadata": {},
   "source": [
    "Calling parent class method from child class"
   ]
  },
  {
   "cell_type": "code",
   "execution_count": 15,
   "id": "0894767a",
   "metadata": {},
   "outputs": [
    {
     "name": "stdout",
     "output_type": "stream",
     "text": [
      "Cash, gold, power\n",
      "Vinday\n",
      "Katrina\n"
     ]
    }
   ],
   "source": [
    "class P:\n",
    "    def property(self):\n",
    "        print('Cash, gold, power')\n",
    "        \n",
    "    def marry(self):\n",
    "        print('Vinday')\n",
    "        \n",
    "class C(P):\n",
    "    def marry(self): # child overrides marry method of parent class\n",
    "        super().marry() #calling parent class method from child class\n",
    "        print('Katrina')\n",
    "\n",
    "c=C()\n",
    "c.property()\n",
    "c.marry()"
   ]
  }
 ],
 "metadata": {
  "kernelspec": {
   "display_name": "Python 3 (ipykernel)",
   "language": "python",
   "name": "python3"
  },
  "language_info": {
   "codemirror_mode": {
    "name": "ipython",
    "version": 3
   },
   "file_extension": ".py",
   "mimetype": "text/x-python",
   "name": "python",
   "nbconvert_exporter": "python",
   "pygments_lexer": "ipython3",
   "version": "3.9.6"
  }
 },
 "nbformat": 4,
 "nbformat_minor": 5
}
