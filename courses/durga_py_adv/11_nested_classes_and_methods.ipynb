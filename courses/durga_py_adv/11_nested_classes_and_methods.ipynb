{
 "cells": [
  {
   "cell_type": "markdown",
   "id": "817698e7",
   "metadata": {},
   "source": [
    "<h1>Nested class and nested methods</h1>\n",
    "ref->vid10"
   ]
  },
  {
   "cell_type": "code",
   "execution_count": 2,
   "id": "6c1728e7",
   "metadata": {},
   "outputs": [
    {
     "name": "stdout",
     "output_type": "stream",
     "text": [
      "Name Jack\n",
      "DOB=31/6/2004\n"
     ]
    }
   ],
   "source": [
    "class Person:\n",
    "    def __init__(self, name, dd, mm, yyyy):\n",
    "        self.name= name\n",
    "        self.dob=self.DOB(dd, mm, yyyy)\n",
    "        \n",
    "    def display(self):\n",
    "        print('Name', self.name)\n",
    "        self.dob.display()\n",
    "        \n",
    "    class DOB:\n",
    "        def __init__(self, dd, mm, yyyy):\n",
    "            self.dd=dd\n",
    "            self.mm=mm\n",
    "            self.yyyy=yyyy\n",
    "        \n",
    "        def display(self):\n",
    "            print('DOB={}/{}/{}'.format(self.dd, self.mm, self.yyyy))\n",
    "            \n",
    "p=Person('Jack', 31, 6, 2004)\n",
    "p.display()"
   ]
  },
  {
   "cell_type": "code",
   "execution_count": 5,
   "id": "d321110c",
   "metadata": {},
   "outputs": [
    {
     "name": "stdout",
     "output_type": "stream",
     "text": [
      "Name is : Jack\n",
      "Talking\n",
      "Thinking\n"
     ]
    }
   ],
   "source": [
    "class Human:\n",
    "    def __init__(self):\n",
    "        self.name='Jack'\n",
    "        self.head=self.Head()\n",
    "        \n",
    "    def display(self):\n",
    "        print('Name is :', self.name)\n",
    "        self.head.talk()\n",
    "        self.head.brain.think()\n",
    "        \n",
    "    class Head:\n",
    "        def __init__(self):\n",
    "            self.brain=self.Brain()\n",
    "            \n",
    "        def talk(self):\n",
    "            print('Talking')\n",
    "            \n",
    "        class Brain:\n",
    "            def think(self):\n",
    "                print('Thinking')\n",
    "                \n",
    "h=Human()\n",
    "h.display()"
   ]
  },
  {
   "cell_type": "markdown",
   "id": "2a75b6a0",
   "metadata": {},
   "source": [
    "We can created nested classes to any level."
   ]
  },
  {
   "cell_type": "markdown",
   "id": "b7281d38",
   "metadata": {},
   "source": [
    "<h3>Nested methods</h3>"
   ]
  },
  {
   "cell_type": "code",
   "execution_count": 11,
   "id": "6342c272",
   "metadata": {},
   "outputs": [
    {
     "name": "stdout",
     "output_type": "stream",
     "text": [
      "Sum is  20\n",
      "Sum is  40\n"
     ]
    }
   ],
   "source": [
    "class Test:\n",
    "    def m1(self):\n",
    "        def sum(a,b):\n",
    "            print('Sum is ', a+b)\n",
    "            \n",
    "        sum(10,10)\n",
    "        sum(20,20)\n",
    "        \n",
    "t=Test()\n",
    "t.m1()"
   ]
  }
 ],
 "metadata": {
  "kernelspec": {
   "display_name": "Python 3 (ipykernel)",
   "language": "python",
   "name": "python3"
  },
  "language_info": {
   "codemirror_mode": {
    "name": "ipython",
    "version": 3
   },
   "file_extension": ".py",
   "mimetype": "text/x-python",
   "name": "python",
   "nbconvert_exporter": "python",
   "pygments_lexer": "ipython3",
   "version": "3.9.6"
  }
 },
 "nbformat": 4,
 "nbformat_minor": 5
}
