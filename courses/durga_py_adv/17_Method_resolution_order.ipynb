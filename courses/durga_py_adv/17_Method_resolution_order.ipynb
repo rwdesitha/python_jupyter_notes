{
 "cells": [
  {
   "cell_type": "markdown",
   "id": "17d13ed5",
   "metadata": {},
   "source": [
    "<h1>Method resolution order</h1>\n",
    "ref->vid16"
   ]
  },
  {
   "cell_type": "code",
   "execution_count": 1,
   "id": "a33ee3f4",
   "metadata": {},
   "outputs": [
    {
     "name": "stdout",
     "output_type": "stream",
     "text": [
      "Parent Method\n",
      "[<class '__main__.P'>, <class 'object'>]\n"
     ]
    }
   ],
   "source": [
    "class P:\n",
    "    def m1(self):\n",
    "        print('Parent Method')\n",
    "        \n",
    "class C(P) : pass\n",
    "\n",
    "p=P()\n",
    "p.m1()\n",
    "print(P.mro())"
   ]
  },
  {
   "cell_type": "raw",
   "id": "d1e07c35",
   "metadata": {},
   "source": [
    "If the C class doesn't contain a m1() method of his own then m1() method will be looked in the P class (Parent class). If m1() is not defined in the P class also then m1() method will be checked in the Object class. This MRO happens in a DLR Depth first left to right algorithm.\n",
    "\n",
    "[<class '__main__.P'>, <class 'object'>] MRO is left to right | left -> right"
   ]
  },
  {
   "cell_type": "code",
   "execution_count": 3,
   "id": "bdd5737e",
   "metadata": {},
   "outputs": [
    {
     "name": "stdout",
     "output_type": "stream",
     "text": [
      "[<class '__main__.A'>, <class 'object'>]\n",
      "[<class '__main__.B'>, <class '__main__.A'>, <class 'object'>]\n",
      "[<class '__main__.C'>, <class '__main__.A'>, <class 'object'>]\n",
      "[<class '__main__.D'>, <class '__main__.B'>, <class '__main__.C'>, <class '__main__.A'>, <class 'object'>]\n"
     ]
    }
   ],
   "source": [
    "class A: pass\n",
    "class B(A): pass\n",
    "class C(A): pass\n",
    "class D(B,C): pass\n",
    "print(A.mro())\n",
    "print(B.mro())\n",
    "print(C.mro())\n",
    "print(D.mro())"
   ]
  },
  {
   "cell_type": "code",
   "execution_count": 4,
   "id": "46c514e0",
   "metadata": {},
   "outputs": [
    {
     "name": "stdout",
     "output_type": "stream",
     "text": [
      "D class method\n"
     ]
    }
   ],
   "source": [
    "class A:\n",
    "    def m1(self):\n",
    "        print('D class method')\n",
    "class B(A):\n",
    "    def m1(self):\n",
    "        print('B class method')\n",
    "class C(A):\n",
    "    def m1(self):\n",
    "        print('C class method')\n",
    "class D(B,C):\n",
    "    def m1(self):\n",
    "        print('D class method')\n",
    "        \n",
    "d=D()\n",
    "d.m1()"
   ]
  },
  {
   "cell_type": "code",
   "execution_count": 11,
   "id": "42624178",
   "metadata": {},
   "outputs": [
    {
     "name": "stdout",
     "output_type": "stream",
     "text": [
      "[<class '__main__.A'>, <class 'object'>]\n",
      "[<class '__main__.B'>, <class 'object'>]\n",
      "[<class '__main__.C'>, <class 'object'>]\n",
      "[<class '__main__.X'>, <class '__main__.A'>, <class '__main__.B'>, <class 'object'>]\n",
      "[<class '__main__.Y'>, <class '__main__.B'>, <class '__main__.C'>, <class 'object'>]\n",
      "[<class '__main__.P'>, <class '__main__.X'>, <class '__main__.A'>, <class '__main__.Y'>, <class '__main__.B'>, <class '__main__.C'>, <class 'object'>]\n"
     ]
    }
   ],
   "source": [
    "class A:pass\n",
    "class B:pass\n",
    "class C:pass\n",
    "class X(A,B):pass\n",
    "class Y(B,C):pass\n",
    "class P(X,Y,C):pass\n",
    "\n",
    "print(A.mro())\n",
    "print(B.mro())\n",
    "print(C.mro())\n",
    "print(X.mro())\n",
    "print(Y.mro())\n",
    "print(P.mro())"
   ]
  },
  {
   "cell_type": "raw",
   "id": "edb8c16f",
   "metadata": {},
   "source": [
    "Incomplete..."
   ]
  }
 ],
 "metadata": {
  "kernelspec": {
   "display_name": "Python 3 (ipykernel)",
   "language": "python",
   "name": "python3"
  },
  "language_info": {
   "codemirror_mode": {
    "name": "ipython",
    "version": 3
   },
   "file_extension": ".py",
   "mimetype": "text/x-python",
   "name": "python",
   "nbconvert_exporter": "python",
   "pygments_lexer": "ipython3",
   "version": "3.9.6"
  }
 },
 "nbformat": 4,
 "nbformat_minor": 5
}
