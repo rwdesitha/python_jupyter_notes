{
 "cells": [
  {
   "cell_type": "markdown",
   "id": "bce3fa87",
   "metadata": {},
   "source": [
    "<h1>Super() method</h1>\n",
    "ref->vid17"
   ]
  },
  {
   "cell_type": "code",
   "execution_count": 11,
   "id": "bf01dd22",
   "metadata": {},
   "outputs": [
    {
     "name": "stdout",
     "output_type": "stream",
     "text": [
      "23\n",
      "62\n",
      "Name Ravi\n",
      "Age 23\n",
      "Rollno 101\n",
      "Marks 99\n",
      "Name Des\n",
      "Age 62\n",
      "Salary 1000\n",
      "Subject Python\n"
     ]
    }
   ],
   "source": [
    "class  Person:\n",
    "    def __init__(self, name, age):\n",
    "        self.name=name\n",
    "        self.age=age\n",
    "        \n",
    "    def display(self):\n",
    "        print('Name', self.name)\n",
    "        print('Age', self.age)\n",
    "\n",
    "class Student(Person):\n",
    "    def __init__(self, name, age, rollno, marks):\n",
    "        super().__init__(name, age)\n",
    "        self.rollno=rollno\n",
    "        self.marks=marks\n",
    "        \n",
    "    def display(self):\n",
    "        super().display()\n",
    "        print('Rollno', self.rollno)\n",
    "        print('Marks', self.marks)\n",
    "\n",
    "class Teacher(Person):\n",
    "    def __init__(self, name, age, salary, subject):\n",
    "        super().__init__(name, age)\n",
    "        self.salary=salary\n",
    "        self.subject=subject\n",
    "        \n",
    "    def display(self):\n",
    "        super().display()\n",
    "        print('Salary', self.salary)\n",
    "        print('Subject', self.subject)\n",
    "        \n",
    "s=Student('Ravi', 23, 101, 99)\n",
    "t=Teacher('Des', 62, 1000, 'Python')\n",
    "\n",
    "print(s.age)\n",
    "print(t.age)\n",
    "s.display()\n",
    "t.display()"
   ]
  },
  {
   "cell_type": "raw",
   "id": "07409f65",
   "metadata": {},
   "source": [
    "What is the use of super() in here?\n",
    "\n",
    "    To invoke parent class constructor for the child purpose, for code reusability purpose.\n",
    "    \n",
    "What if multiple inheritance is there?\n",
    "    Then parent class constructor will be called according to the MRO algorithm.\n",
    "    \n",
    "What happens in multilevel inheritance? (A->B->C->D->E)\n",
    "    If super is used on E class, it will refer to the D class. super is always going to the immediate parent of that class. If \n",
    "    D class doesn't contain the variable or method requested then goes to the it's immediate parent (According to the MRO). \n",
    "    \n",
    "    If the D class has the method or property accessing then super() will go no futher becuase it has found what it's finding\n",
    "    in D class. If not found then goes up according to the MRO."
   ]
  },
  {
   "cell_type": "code",
   "execution_count": 20,
   "id": "ec61893c",
   "metadata": {
    "scrolled": true
   },
   "outputs": [
    {
     "name": "stdout",
     "output_type": "stream",
     "text": [
      "A class contructor\n",
      "E class method\n",
      "D class method\n",
      "C class method\n",
      "A class contructor\n",
      "C class method\n"
     ]
    }
   ],
   "source": [
    "class A:\n",
    "    def __init__(self):\n",
    "        print('A class contructor')\n",
    "    \n",
    "    def m1(self):\n",
    "        print('A class method')\n",
    "class B(A):\n",
    "    def m1(self):\n",
    "        print('B class method')\n",
    "class C(B):\n",
    "    def m1(self):\n",
    "        print('C class method')\n",
    "class D(C):\n",
    "    def m1(self):\n",
    "        print('D class method')\n",
    "class E(D):\n",
    "    def m1(self):\n",
    "        print('E class method')\n",
    "        super().m1()\n",
    "        C.m1(self) # calling specific class m1 method way 01, way 01 works with constructors also\n",
    "        A.__init__(self) # calling specific class contructor\n",
    "        \n",
    "        super(D, self).m1() # way 02 of calling specific class contructor, super of D is C, C's m1() method will be invokded\n",
    "        \n",
    "e=E()\n",
    "e.m1()"
   ]
  },
  {
   "cell_type": "code",
   "execution_count": 31,
   "id": "66015783",
   "metadata": {},
   "outputs": [
    {
     "name": "stdout",
     "output_type": "stream",
     "text": [
      "10\n",
      "20\n"
     ]
    }
   ],
   "source": [
    "class P:\n",
    "    a=10\n",
    "    def __init__(self):\n",
    "        self.b=20\n",
    "        \n",
    "class C(P):\n",
    "    def m1(self):\n",
    "        print(super().a)\n",
    "        #print(super().b) we can not use super() call call parent class instance variables. compulsory we need to use self only\n",
    "        print(self.b)\n",
    "        \n",
    "c=C()\n",
    "c.m1()"
   ]
  },
  {
   "cell_type": "raw",
   "id": "653ecdd6",
   "metadata": {},
   "source": [
    "1. From child class by using super() we can not call parent class intance variables. We should use self only.\n",
    "2. From child class by using super() method we can call parent class static variables."
   ]
  },
  {
   "cell_type": "code",
   "execution_count": 89,
   "id": "7fa89aa5",
   "metadata": {},
   "outputs": [
    {
     "name": "stdout",
     "output_type": "stream",
     "text": [
      "Parent constructor\n",
      "Parent instance method\n",
      "Parent class method\n",
      "Parent static method\n",
      "-------------------------\n",
      "Parent constructor\n",
      "Parent instance method\n",
      "Parent class method\n",
      "Parent static method\n",
      "Parent class method\n",
      "Parent class method\n",
      "Parent static method\n",
      "Parent static method\n"
     ]
    }
   ],
   "source": [
    "class P:\n",
    "    def __init__(self):\n",
    "        print('Parent constructor')\n",
    "    def m1(self):\n",
    "        print('Parent instance method')\n",
    "    @classmethod\n",
    "    def m2(cls):\n",
    "        print('Parent class method')\n",
    "    @staticmethod\n",
    "    def m3():\n",
    "        print('Parent static method')\n",
    "        \n",
    "class C(P):\n",
    "    def __init__(self):\n",
    "        super().__init__()\n",
    "        super().m1();\n",
    "        super().m2();\n",
    "        super().m3();\n",
    "        print('-------------------------')\n",
    "        # Accessing parent class @classmethod @staticmethod from child class constructor method is possible\n",
    "        \n",
    "    def m1(self):\n",
    "        super().__init__()\n",
    "        super().m1();\n",
    "        super().m2();\n",
    "        super().m3();\n",
    "        # Accessing parent class @classmethod @staticmethod from child class instance method is possible\n",
    "    \n",
    "    @classmethod\n",
    "    def m2(cls):\n",
    "#         super(C, cls).__init__() # error\n",
    "#         super().m1(); # error # Accessing parent class instance method from child class @classmethod is NOT possible\n",
    "        super().m2(); # success # Accessing parent class @classmethod from child class @classmethod is possible\n",
    "        super(C, cls).m2() # success # Accessing parent class @classmethod from child class @classmethod is possible\n",
    "        super().m3(); # success # Accessing parent class @staticmethod from child class @classmethod is possible.\n",
    "        super(C, cls).m3() # success # Accessing parent class @staticmethod from child class @classmethod is possible.\n",
    "\n",
    "    @staticmethod\n",
    "    def m3(): pass # remove pass to execute this class\n",
    "#         super().__init__() # error # from @staticmethod of child class we can not access any thing in parent class using super()\n",
    "#         super().m1(); # error \n",
    "#         super().m2(); # error\n",
    "#         super().m3(); # success\n",
    "        \n",
    "c=C()\n",
    "c.m1()\n",
    "c.m2()\n",
    "c.m3()"
   ]
  }
 ],
 "metadata": {
  "kernelspec": {
   "display_name": "Python 3 (ipykernel)",
   "language": "python",
   "name": "python3"
  },
  "language_info": {
   "codemirror_mode": {
    "name": "ipython",
    "version": 3
   },
   "file_extension": ".py",
   "mimetype": "text/x-python",
   "name": "python",
   "nbconvert_exporter": "python",
   "pygments_lexer": "ipython3",
   "version": "3.9.6"
  }
 },
 "nbformat": 4,
 "nbformat_minor": 5
}
