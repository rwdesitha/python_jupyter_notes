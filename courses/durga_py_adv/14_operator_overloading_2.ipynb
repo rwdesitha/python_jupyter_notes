{
 "cells": [
  {
   "cell_type": "markdown",
   "id": "8a2d139e",
   "metadata": {},
   "source": [
    "<h1>Operator overloading part 2</h1>\n",
    "ref->vid13"
   ]
  },
  {
   "cell_type": "code",
   "execution_count": 1,
   "id": "f027a87f",
   "metadata": {},
   "outputs": [
    {
     "name": "stdout",
     "output_type": "stream",
     "text": [
      "300\n"
     ]
    }
   ],
   "source": [
    "class Book:\n",
    "    def __init__(self, pages):\n",
    "        self.pages=pages\n",
    "        \n",
    "    def __add__(self, other):\n",
    "        return self.pages + other.pages\n",
    "    \n",
    "b1=Book(100);\n",
    "b2=Book(200);\n",
    "print(b1+b2)"
   ]
  },
  {
   "cell_type": "markdown",
   "id": "d92be229",
   "metadata": {},
   "source": [
    "Python interpreter will look sees this is a operation using a operator, then it looks at the first object and see wheather the first object's class defines a magic method for + operation. If the magic method is defined then it's going to execture that and return the value. In this example first object (b1) will becom self, and second object (b2) will become other."
   ]
  },
  {
   "cell_type": "code",
   "execution_count": 3,
   "id": "782d77ba",
   "metadata": {},
   "outputs": [
    {
     "name": "stdout",
     "output_type": "stream",
     "text": [
      "Book has 100 pages.\n"
     ]
    }
   ],
   "source": [
    "class Book:\n",
    "    def __init__(self, pages):\n",
    "        self.pages=pages\n",
    "        \n",
    "    def __str__(self):\n",
    "        return 'Book has ' + str(self.pages) + ' pages.' # when string concetation happens both the arguments must be in string type\n",
    "    \n",
    "b1=Book(100)\n",
    "print(b1)"
   ]
  },
  {
   "cell_type": "markdown",
   "id": "e8aedec9",
   "metadata": {},
   "source": [
    "When we print a object internally __str__ magic method of the corresponding class will be called"
   ]
  },
  {
   "cell_type": "code",
   "execution_count": 5,
   "id": "de7c2e30",
   "metadata": {},
   "outputs": [
    {
     "ename": "TypeError",
     "evalue": "unsupported operand type(s) for +: 'int' and 'Book'",
     "output_type": "error",
     "traceback": [
      "\u001b[1;31m---------------------------------------------------------------------------\u001b[0m",
      "\u001b[1;31mTypeError\u001b[0m                                 Traceback (most recent call last)",
      "\u001b[1;32m~\\AppData\\Local\\Temp/ipykernel_11172/2827985482.py\u001b[0m in \u001b[0;36m<module>\u001b[1;34m\u001b[0m\n\u001b[0;32m      9\u001b[0m \u001b[0mb2\u001b[0m\u001b[1;33m=\u001b[0m\u001b[0mBook\u001b[0m\u001b[1;33m(\u001b[0m\u001b[1;36m200\u001b[0m\u001b[1;33m)\u001b[0m\u001b[1;33m;\u001b[0m\u001b[1;33m\u001b[0m\u001b[1;33m\u001b[0m\u001b[0m\n\u001b[0;32m     10\u001b[0m \u001b[0mb3\u001b[0m\u001b[1;33m=\u001b[0m\u001b[0mBook\u001b[0m\u001b[1;33m(\u001b[0m\u001b[1;36m200\u001b[0m\u001b[1;33m)\u001b[0m\u001b[1;33m;\u001b[0m\u001b[1;33m\u001b[0m\u001b[1;33m\u001b[0m\u001b[0m\n\u001b[1;32m---> 11\u001b[1;33m \u001b[0mprint\u001b[0m\u001b[1;33m(\u001b[0m\u001b[0mb1\u001b[0m\u001b[1;33m+\u001b[0m\u001b[0mb2\u001b[0m\u001b[1;33m+\u001b[0m\u001b[0mb3\u001b[0m\u001b[1;33m)\u001b[0m\u001b[1;33m\u001b[0m\u001b[1;33m\u001b[0m\u001b[0m\n\u001b[0m",
      "\u001b[1;31mTypeError\u001b[0m: unsupported operand type(s) for +: 'int' and 'Book'"
     ]
    }
   ],
   "source": [
    "class Book:\n",
    "    def __init__(self, pages):\n",
    "        self.pages=pages\n",
    "        \n",
    "    def __add__(self, other):\n",
    "        return self.pages + other.pages\n",
    "    \n",
    "b1=Book(100);\n",
    "b2=Book(200);\n",
    "b3=Book(200);\n",
    "print(b1+b2+b3) #error int + Book"
   ]
  },
  {
   "cell_type": "code",
   "execution_count": 10,
   "id": "85fd1730",
   "metadata": {},
   "outputs": [
    {
     "name": "stdout",
     "output_type": "stream",
     "text": [
      "Book has 500 pages.\n"
     ]
    }
   ],
   "source": [
    "class Book:\n",
    "    def __init__(self, pages):\n",
    "        self.pages=pages\n",
    "        \n",
    "    def __add__(self, other):\n",
    "        return Book(self.pages+other.pages)\n",
    "    \n",
    "    def __str__(self):\n",
    "        return 'Book has ' + str(self.pages) + ' pages.'\n",
    "    \n",
    "b1=Book(100);\n",
    "b2=Book(200);\n",
    "b3=Book(200);\n",
    "print(b1+b2+b3)"
   ]
  },
  {
   "cell_type": "markdown",
   "id": "a121264b",
   "metadata": {},
   "source": [
    "1. Whenever we are calling + operator then __add__ method will be called.\n",
    "2. Whenever we are printing Book object reference then __str__() method will be called.\n",
    "3. Whenever we are printing any object reference/object then __str__() will be called. If we are not proividing this method then default implementation will be executed."
   ]
  },
  {
   "cell_type": "code",
   "execution_count": 13,
   "id": "6945a37c",
   "metadata": {},
   "outputs": [
    {
     "name": "stdout",
     "output_type": "stream",
     "text": [
      "True\n",
      "False\n"
     ]
    }
   ],
   "source": [
    "class Student:\n",
    "    def __init__(self, name, marks):\n",
    "        self.name=name\n",
    "        self.marks=marks\n",
    "        \n",
    "    def __lt__(self, other):\n",
    "        return self.marks < other.marks\n",
    "        \n",
    "s1=Student('Jack', 100)\n",
    "s2=Student('Ravi', 200)\n",
    "\n",
    "print(s1<s2)\n",
    "print(s2<s1)"
   ]
  },
  {
   "cell_type": "code",
   "execution_count": 19,
   "id": "f7c979af",
   "metadata": {},
   "outputs": [
    {
     "name": "stdout",
     "output_type": "stream",
     "text": [
      "This month salary  10000\n",
      "This month salary  10000\n"
     ]
    }
   ],
   "source": [
    "class Employee:\n",
    "    def __init__(self, name, salary):\n",
    "        self.name=name\n",
    "        self.salary=salary\n",
    "        \n",
    "    def __mul__(self, other):\n",
    "        return self.salary*other.days\n",
    "        \n",
    "class TimeSheet:\n",
    "    def __init__(self,name, days):\n",
    "        self.name=name\n",
    "        self.days=days\n",
    "        \n",
    "    def __mul__(self, other):\n",
    "        return self.days*other.salary\n",
    "        \n",
    "e=Employee('Des', 500)\n",
    "t=TimeSheet('Des', 20)\n",
    "print('This month salary ', e*t)\n",
    "print('This month salary ', t*e)"
   ]
  },
  {
   "cell_type": "code",
   "execution_count": 22,
   "id": "048993c9",
   "metadata": {},
   "outputs": [
    {
     "name": "stdout",
     "output_type": "stream",
     "text": [
      "One arg method\n"
     ]
    }
   ],
   "source": [
    "class Test:\n",
    "    def m1(self):\n",
    "        print('no args method')\n",
    "        \n",
    "    def m1(self, x):\n",
    "        print('One arg method') # Since python doesn't have overloading concept the last defined method is used for when calling m1 method.\n",
    "        \n",
    "t=Test()\n",
    "t.m1(5)"
   ]
  },
  {
   "cell_type": "markdown",
   "id": "ef8b649e",
   "metadata": {},
   "source": [
    "In java\n",
    "\n",
    "abs(int  i)\n",
    "abs(string i)\n",
    "\n",
    "Can be exist because java has types. So the above method can be use for int arguments and string arguments also, but in python there is not concept of types since it does not support overloading methods."
   ]
  }
 ],
 "metadata": {
  "kernelspec": {
   "display_name": "Python 3 (ipykernel)",
   "language": "python",
   "name": "python3"
  },
  "language_info": {
   "codemirror_mode": {
    "name": "ipython",
    "version": 3
   },
   "file_extension": ".py",
   "mimetype": "text/x-python",
   "name": "python",
   "nbconvert_exporter": "python",
   "pygments_lexer": "ipython3",
   "version": "3.9.6"
  }
 },
 "nbformat": 4,
 "nbformat_minor": 5
}
