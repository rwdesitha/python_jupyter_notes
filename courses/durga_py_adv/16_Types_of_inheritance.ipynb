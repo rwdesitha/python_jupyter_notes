{
 "cells": [
  {
   "cell_type": "markdown",
   "id": "ed6989de",
   "metadata": {},
   "source": [
    "<h1>Types of inheritance</h1>\n",
    "ref->vid15"
   ]
  },
  {
   "cell_type": "markdown",
   "id": "99eb9b54",
   "metadata": {},
   "source": [
    "1.Strong association - composition <br/>\n",
    "    Univercity and department. It is not possible to a department to exist without a univercity <br/>\n",
    "2.Weak association - Aggregation<br/>\n",
    "    Professor and department. It is possible for a professor to exist without a deparment."
   ]
  },
  {
   "cell_type": "code",
   "execution_count": null,
   "id": "85773c9b",
   "metadata": {},
   "outputs": [],
   "source": [
    "class Student:\n",
    "    collegeName='Python College'\n",
    "    \n",
    "    def __init__(self, name):\n",
    "        self.name=name\n",
    "        \n",
    "print(Student.collegeName) # aggregation relationship\n",
    "print(s.name) # composition relationship"
   ]
  },
  {
   "cell_type": "markdown",
   "id": "41244246",
   "metadata": {},
   "source": [
    "Inner classes also considered as composition"
   ]
  },
  {
   "cell_type": "markdown",
   "id": "4bc9d131",
   "metadata": {},
   "source": [
    "<h3>Types of Inheritance</h3>\n",
    "\n",
    "1. Single inheritance - python supports\n",
    "2. Multi level inheritance - python supports\n",
    "3. Hierarchical inheritance - python supports\n",
    "4. Multiple inheritance - python supports\n",
    "5. Hybrid inheritance - python supports\n",
    "6. Cyclic inheritance - python supports"
   ]
  },
  {
   "cell_type": "markdown",
   "id": "74504b45",
   "metadata": {},
   "source": [
    "<h3> 1 Single Inheritance </h3><br/>\n",
    "    1.Single parent <br/>\n",
    "    2.Single child"
   ]
  },
  {
   "cell_type": "code",
   "execution_count": null,
   "id": "ab195a4c",
   "metadata": {},
   "outputs": [],
   "source": [
    "class P:\n",
    "    def m1(self):\n",
    "        print('Parent Method')\n",
    "        \n",
    "class C(P):\n",
    "    def m2(self):\n",
    "        print('Child method')\n",
    "        \n",
    "c=C()\n",
    "c.m1()\n",
    "c.m2()"
   ]
  },
  {
   "cell_type": "markdown",
   "id": "b397de44",
   "metadata": {},
   "source": [
    "<h3>Multi level Inheritance</h3>\n",
    "A->B->c->D"
   ]
  },
  {
   "cell_type": "code",
   "execution_count": null,
   "id": "cd520448",
   "metadata": {},
   "outputs": [],
   "source": [
    "class P:\n",
    "    def m1(self):\n",
    "        print('Parent Method')\n",
    "        \n",
    "class C(P):\n",
    "    def m2(self):\n",
    "        print('Child method')\n",
    "        \n",
    "class CC(C):\n",
    "    def m3(self):\n",
    "        print('Sub child method')\n",
    "        \n",
    "c=CC()\n",
    "c.m1()\n",
    "c.m2()\n",
    "c.m3()"
   ]
  },
  {
   "cell_type": "markdown",
   "id": "4c4d9e7e",
   "metadata": {},
   "source": [
    "<h3>Hierarchical Inheritance</h3> <br/>\n",
    "One parent but multitpel child class"
   ]
  },
  {
   "cell_type": "code",
   "execution_count": null,
   "id": "11bea966",
   "metadata": {},
   "outputs": [],
   "source": [
    "class P:\n",
    "    def m1(self):\n",
    "        print('Parent Method')\n",
    "        \n",
    "class C1(P):\n",
    "    def m2(self):\n",
    "        print('Child method')\n",
    "        \n",
    "class C2(P):\n",
    "    def m3(self):\n",
    "        print('Child2 method')\n",
    "        \n",
    "c=C1()\n",
    "c.m1()\n",
    "c.m2()\n",
    "print('--------------')\n",
    "c2=C2()\n",
    "c2.m1()\n",
    "c2.m3()"
   ]
  },
  {
   "cell_type": "markdown",
   "id": "e17881d8",
   "metadata": {},
   "source": [
    "<h3>Multiple Inheritance</h3> <br/>\n",
    " Multitple inheritance is where one class is inherited from several class in other words single class has multiple parents.<br/>\n",
    " \n",
    " In multitpe inheritance method resolution is always based on order of parents. In this below example when considering the inheritance order class P's m1() method will be invoked. If the m1() method is not found in P class then it will try to invoke m1() method in P2 class."
   ]
  },
  {
   "cell_type": "code",
   "execution_count": null,
   "id": "7591dd27",
   "metadata": {},
   "outputs": [],
   "source": [
    "class P:\n",
    "    def m1(self):\n",
    "        print('P1 Method')\n",
    "        \n",
    "class P2:\n",
    "    def m1(self):\n",
    "        print('P2 method')\n",
    "        \n",
    "class C(P, P2):pass\n",
    "\n",
    "c=C()\n",
    "c.m1()"
   ]
  }
 ],
 "metadata": {
  "kernelspec": {
   "display_name": "Python 3 (ipykernel)",
   "language": "python",
   "name": "python3"
  },
  "language_info": {
   "codemirror_mode": {
    "name": "ipython",
    "version": 3
   },
   "file_extension": ".py",
   "mimetype": "text/x-python",
   "name": "python",
   "nbconvert_exporter": "python",
   "pygments_lexer": "ipython3",
   "version": "3.9.6"
  }
 },
 "nbformat": 4,
 "nbformat_minor": 5
}