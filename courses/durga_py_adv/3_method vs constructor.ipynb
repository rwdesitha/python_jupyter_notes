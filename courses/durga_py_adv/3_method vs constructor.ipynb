{
 "cells": [
  {
   "cell_type": "markdown",
   "id": "indirect-nelson",
   "metadata": {},
   "source": [
    "# Method vs constructor ref->vid3"
   ]
  },
  {
   "cell_type": "markdown",
   "id": "ongoing-cotton",
   "metadata": {},
   "source": [
    "<u>Methods</u>\n",
    "1. The name can be anything\n",
    "2. Method willl executed if we call\n",
    "3. Per object method can be called any no of times\n",
    "4. Business logic\n",
    "\n",
    "<u>Constructor</u>\n",
    "1. Should be __init__()\n",
    "2. Will be executed automatically if we are creating object\n",
    "3. Per object only once\n",
    "4. To declare and initialize instance vairables\n"
   ]
  },
  {
   "cell_type": "code",
   "execution_count": null,
   "id": "numerous-practitioner",
   "metadata": {},
   "outputs": [],
   "source": []
  }
 ],
 "metadata": {
  "kernelspec": {
   "display_name": "Python 3",
   "language": "python",
   "name": "python3"
  },
  "language_info": {
   "codemirror_mode": {
    "name": "ipython",
    "version": 3
   },
   "file_extension": ".py",
   "mimetype": "text/x-python",
   "name": "python",
   "nbconvert_exporter": "python",
   "pygments_lexer": "ipython3",
   "version": "3.9.2"
  }
 },
 "nbformat": 4,
 "nbformat_minor": 5
}
