{
 "cells": [
  {
   "cell_type": "markdown",
   "id": "5cf8dcca",
   "metadata": {},
   "source": [
    "<h1>Inner classes</h1>\n",
    "ref -> vid9"
   ]
  },
  {
   "cell_type": "markdown",
   "id": "0080d205",
   "metadata": {},
   "source": [
    "What is Inner Classes?\n",
    "\n",
    "1. The class which is declared inside another class.\n",
    "\n",
    "When to use Inner classes?\n",
    "\n",
    "Without existing one type of object if there is no chance of existing another type of object, then we should go for inner classes.\n",
    "\n",
    "class outter\n",
    "    class inner\n",
    "    \n",
    "Without existing outer class object there is no change of existing inner class object. Inner class object is always associated with outer class object."
   ]
  },
  {
   "cell_type": "code",
   "execution_count": 6,
   "id": "385b34bd",
   "metadata": {},
   "outputs": [
    {
     "name": "stdout",
     "output_type": "stream",
     "text": [
      "Outer class object creation\n",
      "Inner class object creation\n",
      "Inner class method\n",
      "-------------------------------\n",
      "Outer class object creation\n",
      "Inner class object creation\n",
      "Inner class method\n"
     ]
    }
   ],
   "source": [
    "class Outer:\n",
    "    def __init__(self):\n",
    "        print('Outer class object creation')\n",
    "        \n",
    "    class Inner:\n",
    "        def __init__(self):\n",
    "            print('Inner class object creation')\n",
    "        \n",
    "        def m1(self):\n",
    "            print('Inner class method')\n",
    "\n",
    "o=Outer()\n",
    "i=o.Inner()\n",
    "i.m1()\n",
    "print('-------------------------------')\n",
    "i1=Outer().Inner()\n",
    "i1.m1()"
   ]
  },
  {
   "cell_type": "code",
   "execution_count": 10,
   "id": "d1f1bd2d",
   "metadata": {},
   "outputs": [
    {
     "name": "stdout",
     "output_type": "stream",
     "text": [
      "Name Jhone\n",
      "DOB=15/8/1975\n"
     ]
    }
   ],
   "source": [
    "class Person:\n",
    "    def __init__(self):\n",
    "        self.name='Jhone'\n",
    "        self.dob=self.DOB()\n",
    "        \n",
    "    def display(self):\n",
    "        print('Name', self.name)\n",
    "        self.dob.display()\n",
    "        \n",
    "    class DOB:\n",
    "        def __init__(self):\n",
    "            self.dd=15\n",
    "            self.mm=8\n",
    "            self.yyyy=1975\n",
    "        \n",
    "        def display(self):\n",
    "            print('DOB={}/{}/{}'.format(self.dd, self.mm, self.yyyy))\n",
    "            \n",
    "p=Person()\n",
    "p.display()"
   ]
  }
 ],
 "metadata": {
  "kernelspec": {
   "display_name": "Python 3 (ipykernel)",
   "language": "python",
   "name": "python3"
  },
  "language_info": {
   "codemirror_mode": {
    "name": "ipython",
    "version": 3
   },
   "file_extension": ".py",
   "mimetype": "text/x-python",
   "name": "python",
   "nbconvert_exporter": "python",
   "pygments_lexer": "ipython3",
   "version": "3.9.6"
  }
 },
 "nbformat": 4,
 "nbformat_minor": 5
}
