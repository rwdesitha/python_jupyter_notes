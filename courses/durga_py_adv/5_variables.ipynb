{
 "cells": [
  {
   "cell_type": "markdown",
   "id": "instrumental-stick",
   "metadata": {},
   "source": [
    "# Variables"
   ]
  },
  {
   "cell_type": "markdown",
   "id": "textile-enclosure",
   "metadata": {},
   "source": [
    "<ins>Instance variables</ins>\n",
    "\n",
    "    1.If the value of the variable is varied from object to object such type of variables are called instance variables.\n",
    "    For every object a seperate copy will be created.\n",
    "\n",
    "<ins>Where can declare instance variables</ins>\n",
    "\n",
    "    1.Inside constructor by using self\n",
    "    2.Inside instance method by using self\n",
    "    3.From outside of the class by using object reference\n",
    "\n",
    "<ins>How to access instance variables</ins>\n",
    "\n",
    "    Within the class by using self\n",
    "    From outside of the class by using object reference\n",
    "    \n",
    "<ins>How to delete instance variable</ins>\n",
    "\n",
    "    del self.variable_name\n",
    "    del object_reference.variable_name\n"
   ]
  },
  {
   "cell_type": "code",
   "execution_count": 1,
   "id": "discrete-destruction",
   "metadata": {},
   "outputs": [
    {
     "name": "stdout",
     "output_type": "stream",
     "text": [
      "{'name': 'Desitha', 'roll_no': 101, 'marks': 60}\n"
     ]
    }
   ],
   "source": [
    "class Student:\n",
    "    def __init__(self, name, roll_no):\n",
    "        self.name=name\n",
    "        self.roll_no=roll_no\n",
    "        \n",
    "    def add_variable(self):\n",
    "        self.marks=60\n",
    "        \n",
    "s1=Student('Desitha', 101)\n",
    "#s1.add_variable() # if we comment this line and execute only 2 instance variabels are there, but once this method is called then there will be 2 instance variables\n",
    "print(s1.__dict__)"
   ]
  },
  {
   "cell_type": "markdown",
   "id": "caroline-detection",
   "metadata": {},
   "source": [
    "<ins>Declaring variables outside of the class</ins>"
   ]
  },
  {
   "cell_type": "code",
   "execution_count": null,
   "id": "compound-bouquet",
   "metadata": {},
   "outputs": [],
   "source": [
    "class Student:\n",
    "    def __init__(self, name, roll_no):\n",
    "        self.name=name\n",
    "        self.roll_no=roll_no\n",
    "        \n",
    "    def add_variable(self):\n",
    "        self.marks=60\n",
    "        \n",
    "s1=Student('Desitha', 101)\n",
    "s1.age=35\n",
    "\n",
    "print(s1.__dict__)"
   ]
  },
  {
   "cell_type": "markdown",
   "id": "mathematical-ethnic",
   "metadata": {},
   "source": [
    "<ins>Deleting variables</ins>"
   ]
  },
  {
   "cell_type": "code",
   "execution_count": 1,
   "id": "mathematical-international",
   "metadata": {},
   "outputs": [
    {
     "name": "stdout",
     "output_type": "stream",
     "text": [
      "{'name': 'Desitha', 'roll_no': 101, 'age': 35}\n",
      "{'name': 'Desitha', 'roll_no': 101}\n",
      "{'roll_no': 101}\n"
     ]
    }
   ],
   "source": [
    "class Student:\n",
    "    def __init__(self, name, roll_no, age):\n",
    "        self.name=name\n",
    "        self.roll_no=roll_no\n",
    "        self.age=age\n",
    "        \n",
    "    def delete_variable(self):\n",
    "        del self.name\n",
    "        \n",
    "s1=Student('Desitha', 101, 35)\n",
    "print(s1.__dict__)\n",
    "del s1.age\n",
    "print(s1.__dict__)\n",
    "s1.delete_variable()\n",
    "print(s1.__dict__)"
   ]
  }
 ],
 "metadata": {
  "kernelspec": {
   "display_name": "Python 3 (ipykernel)",
   "language": "python",
   "name": "python3"
  },
  "language_info": {
   "codemirror_mode": {
    "name": "ipython",
    "version": 3
   },
   "file_extension": ".py",
   "mimetype": "text/x-python",
   "name": "python",
   "nbconvert_exporter": "python",
   "pygments_lexer": "ipython3",
   "version": "3.9.6"
  }
 },
 "nbformat": 4,
 "nbformat_minor": 5
}
