{
 "cells": [
  {
   "cell_type": "markdown",
   "id": "d1af8b2e",
   "metadata": {},
   "source": [
    "<h1>Garbage Collection</h1>\n",
    "ref->vid11"
   ]
  },
  {
   "cell_type": "code",
   "execution_count": null,
   "id": "bcedc1c8",
   "metadata": {},
   "outputs": [],
   "source": [
    "import gc\n",
    "print(gc.isenabled())#True\n",
    "gc.disable()\n",
    "print(gc.isenabled())#False\n",
    "gc.enable()\n",
    "print(gc.isenabled())#True"
   ]
  },
  {
   "cell_type": "markdown",
   "id": "570e1f30",
   "metadata": {},
   "source": [
    "1. When an object doesn't refered by any other objects then, that object is eligible for garbage collection.\n",
    "2. Garbage collector is called automatically by PVM.\n",
    "3. Just before destroying an object, GC always calls destructor to perform cleanup activities.\n",
    "4. If we don't provide destructor then object class destructor will be called, but won't do anything.\n"
   ]
  },
  {
   "cell_type": "code",
   "execution_count": 4,
   "id": "60fc60a6",
   "metadata": {},
   "outputs": [
    {
     "name": "stdout",
     "output_type": "stream",
     "text": [
      "Object Initialization...\n",
      "Fullfilling last wish and performing cleanup activities...\n",
      "End of application...\n"
     ]
    }
   ],
   "source": [
    "import time\n",
    "class Test:\n",
    "    def __init__(self):\n",
    "        print('Object Initialization...')\n",
    "        \n",
    "    def __del__(self):\n",
    "        print('Fullfilling last wish and performing cleanup activities...')\n",
    "        \n",
    "t1=Test()\n",
    "t1=None\n",
    "time.sleep(10)\n",
    "print('End of application...')"
   ]
  },
  {
   "cell_type": "code",
   "execution_count": 7,
   "id": "28f90595",
   "metadata": {},
   "outputs": [
    {
     "name": "stdout",
     "output_type": "stream",
     "text": [
      "False\n",
      "Object Initialization...\n",
      "Fullfilling last wish and performing cleanup activities...\n",
      "End of application...\n"
     ]
    }
   ],
   "source": [
    "import time\n",
    "import gc\n",
    "\n",
    "class Test:\n",
    "    def __init__(self):\n",
    "        print('Object Initialization...')\n",
    "        \n",
    "    def __del__(self):\n",
    "        print('Fullfilling last wish and performing cleanup activities...')\n",
    "\n",
    "gc.disable()\n",
    "print(gc.isenabled())\n",
    "t1=Test()\n",
    "t1=None\n",
    "time.sleep(10)\n",
    "print('End of application...')"
   ]
  },
  {
   "cell_type": "markdown",
   "id": "97857c8a",
   "metadata": {},
   "source": [
    "In the above code even though we disabled GC, GC will not be disabled and cleanup will be happen. This is depending on the sysetm to system. We can not gurantee the execution of GC."
   ]
  },
  {
   "cell_type": "code",
   "execution_count": null,
   "id": "4a953cfc",
   "metadata": {},
   "outputs": [],
   "source": [
    "1. The purpose of distructor is to destroy useless objects\n",
    "2. The purpose of destructor is to perform cleanup activities before destroying an object. "
   ]
  },
  {
   "cell_type": "code",
   "execution_count": 8,
   "id": "fce123fd",
   "metadata": {},
   "outputs": [
    {
     "name": "stdout",
     "output_type": "stream",
     "text": [
      "Object Initialization...\n",
      "After  deleting t1 object not destroyed\n",
      "After deleting  t2, t3 still not destroyed\n",
      "Fullfilling last wish and performing cleanup activities...\n",
      "End of application...\n"
     ]
    }
   ],
   "source": [
    "import time\n",
    "class Test:\n",
    "    def __init__(self):\n",
    "        print('Object Initialization...')\n",
    "        \n",
    "    def __del__(self):\n",
    "        print('Fullfilling last wish and performing cleanup activities...')\n",
    "        \n",
    "t1=Test()\n",
    "t2=t1\n",
    "t3=t2\n",
    "t4=t3\n",
    "del t1\n",
    "time.sleep(10)\n",
    "print('After  deleting t1 object not destroyed')\n",
    "del t2\n",
    "del t3\n",
    "print('After deleting  t2, t3 still not destroyed')\n",
    "del t4\n",
    "time.sleep(10)\n",
    "print('End of application...')"
   ]
  },
  {
   "cell_type": "code",
   "execution_count": 9,
   "id": "a0149e65",
   "metadata": {},
   "outputs": [
    {
     "name": "stdout",
     "output_type": "stream",
     "text": [
      "Object Initialization...\n",
      "Object Initialization...\n",
      "Object Initialization...\n",
      "Fullfilling last wish and performing cleanup activities...\n",
      "Fullfilling last wish and performing cleanup activities...\n",
      "Fullfilling last wish and performing cleanup activities...\n"
     ]
    }
   ],
   "source": [
    "import time\n",
    "class Test:\n",
    "    def __init__(self):\n",
    "        print('Object Initialization...')\n",
    "        \n",
    "    def __del__(self):\n",
    "        print('Fullfilling last wish and performing cleanup activities...')\n",
    "        \n",
    "list=[Test(), Test(), Test()]\n",
    "time.sleep(10)\n",
    "list=None\n",
    "print('End of application...')"
   ]
  },
  {
   "cell_type": "code",
   "execution_count": 11,
   "id": "4331c478",
   "metadata": {},
   "outputs": [
    {
     "name": "stdout",
     "output_type": "stream",
     "text": [
      "Object Initialization...\n",
      "Fullfilling last wish and performing cleanup activities...\n",
      "5\n",
      "End of application...\n"
     ]
    }
   ],
   "source": [
    "import time\n",
    "import sys\n",
    "\n",
    "class Test:\n",
    "    def __init__(self):\n",
    "        print('Object Initialization...')\n",
    "        \n",
    "    def __del__(self):\n",
    "        print('Fullfilling last wish and performing cleanup activities...')\n",
    "        \n",
    "t1=Test()\n",
    "t2=t1\n",
    "t3=t2\n",
    "t4=t3\n",
    "time.sleep(10)\n",
    "print(sys.getrefcount(t1)) #get reference count of a object, here 4 is becuase of self is also referenceing the object.\n",
    "print('End of application...')"
   ]
  }
 ],
 "metadata": {
  "kernelspec": {
   "display_name": "Python 3 (ipykernel)",
   "language": "python",
   "name": "python3"
  },
  "language_info": {
   "codemirror_mode": {
    "name": "ipython",
    "version": 3
   },
   "file_extension": ".py",
   "mimetype": "text/x-python",
   "name": "python",
   "nbconvert_exporter": "python",
   "pygments_lexer": "ipython3",
   "version": "3.9.6"
  }
 },
 "nbformat": 4,
 "nbformat_minor": 5
}
