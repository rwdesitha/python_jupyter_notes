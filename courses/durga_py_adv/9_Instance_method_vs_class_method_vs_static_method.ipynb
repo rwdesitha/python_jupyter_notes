{
 "cells": [
  {
   "cell_type": "markdown",
   "id": "difficult-liquid",
   "metadata": {},
   "source": [
    "# Instance method vs class method vs static method\n",
    "- ref->vid8"
   ]
  },
  {
   "cell_type": "markdown",
   "id": "flexible-injection",
   "metadata": {},
   "source": [
    "**Instance method vs class method**\n",
    "\n",
    "- Inside method body if we are using atleast one instance variable then compulsory we should declare that method as intance method.\n",
    "- Inside method body if we are using only static variables then it is hightly recommended to declare that method as class method.\n",
    "\n",
    "---------------------------------------------------------------------------------------------------------------------------\n",
    "\n",
    "- To declare instance method we are not required to use any decorator.\n",
    "- To declare class method compulsory we should use @classmethod decorator.\n",
    "\n",
    "---------------------------------------------------------------------------------------------------------------------------\n",
    "\n",
    "- The first argument to the isntance method should be self, which is reference to the current object and by using self, we can \t  access instance variables inside method.\n",
    "- The first argument to the classmethod should be cls, which is the reference to current class object and by using that we can access static variables.\n",
    "\n",
    "---------------------------------------------------------------------------------------------------------------------------\n",
    "\n",
    "- Inside instance method we can access bothe instance and static variables.\n",
    "- Inside class method we can access only static variables and we cannot access instance variables.\n",
    "\n",
    "---------------------------------------------------------------------------------------------------------------------------\n",
    "\n",
    "- We can call instance method by using object reference.\n",
    "- We can call class method either by using object reference or by using class name. But recommended to use class name"
   ]
  },
  {
   "cell_type": "markdown",
   "id": "alike-vacation",
   "metadata": {},
   "source": [
    "1. If we are using any instance variables inside method body then we should go for instance method. We should call by using object reference only.\n",
    "\n",
    "\t\n",
    "2. If we are using only static variables inside method body then this method no way related to a particular object. We should declare such type of methods as classmethod. We can call either by using object reference or by class name.\n",
    "\n",
    "\n",
    "3. If we are not using any instance variable and any static variable inside method body, to define such type of general utility method we should go for static methods. Static methods can be called either by object reference or by class name."
   ]
  },
  {
   "cell_type": "markdown",
   "id": "initial-designer",
   "metadata": {},
   "source": [
    "**If we are not using any decorator**\n",
    "\n",
    "- For classmethod, **@classmethod** decorator is mandatory.\n",
    "- For staticmethods, **@staticmethod** decorator is optional.\n",
    "\n",
    "\n",
    "- Without any decorator the method can be either instance method or static method.\n",
    "- If we are calling by using object reference then it should be instance method.\n",
    "- If we are calling by using class name then it should be static method."
   ]
  },
  {
   "cell_type": "code",
   "execution_count": 2,
   "id": "distributed-bulgaria",
   "metadata": {},
   "outputs": [
    {
     "name": "stdout",
     "output_type": "stream",
     "text": [
      "Some method\n"
     ]
    }
   ],
   "source": [
    "class Test:\n",
    "    def m1():\n",
    "        print('Some method')\n",
    "\n",
    "\n",
    "t=Test()\n",
    "#t.m1()\n",
    "Test.m1()"
   ]
  }
 ],
 "metadata": {
  "kernelspec": {
   "display_name": "Python 3 (ipykernel)",
   "language": "python",
   "name": "python3"
  },
  "language_info": {
   "codemirror_mode": {
    "name": "ipython",
    "version": 3
   },
   "file_extension": ".py",
   "mimetype": "text/x-python",
   "name": "python",
   "nbconvert_exporter": "python",
   "pygments_lexer": "ipython3",
   "version": "3.9.6"
  }
 },
 "nbformat": 4,
 "nbformat_minor": 5
}
