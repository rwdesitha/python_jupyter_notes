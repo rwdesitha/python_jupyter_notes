{
 "cells": [
  {
   "cell_type": "markdown",
   "id": "velvet-intake",
   "metadata": {},
   "source": [
    "# global & types of methods\n",
    "- ref->vid6"
   ]
  },
  {
   "cell_type": "code",
   "execution_count": 1,
   "id": "fitting-saudi",
   "metadata": {},
   "outputs": [
    {
     "name": "stdout",
     "output_type": "stream",
     "text": [
      "10\n",
      "100\n",
      "10\n",
      "100\n",
      "10\n",
      "100\n"
     ]
    }
   ],
   "source": [
    "class Test:\n",
    "    global y # global static variable\n",
    "    y=100\n",
    "    def m1(self):\n",
    "        global x # global local variable\n",
    "        x=10\n",
    "        print(x)\n",
    "        print(y)\n",
    "\n",
    "    def m2(self):\n",
    "        print(x)\n",
    "        print(y)\n",
    "\n",
    "\n",
    "t = Test()\n",
    "t.m1()\n",
    "t.m2()\n",
    "print(x)\n",
    "print(y)"
   ]
  },
  {
   "cell_type": "markdown",
   "id": "simple-framing",
   "metadata": {},
   "source": [
    "**Tyes of Methods**\n",
    "\n",
    "1. Instance methods\n",
    "2. Class methods\n",
    "3. static methods\n",
    "\n",
    "**When to use instance method**\n",
    "- If we are using atleast one instance variable the that method must be a instance method\n",
    "\n",
    "**When to use class method**\n",
    "- If we are using only static variables but not instance vairbales\n",
    "- When to use static methods\n",
    "- If we are using any instance or static variables\n",
    "\n",
    "In it is a class method compulsary we have to use **@classmethod** decorator"
   ]
  }
 ],
 "metadata": {
  "kernelspec": {
   "display_name": "Python 3 (ipykernel)",
   "language": "python",
   "name": "python3"
  },
  "language_info": {
   "codemirror_mode": {
    "name": "ipython",
    "version": 3
   },
   "file_extension": ".py",
   "mimetype": "text/x-python",
   "name": "python",
   "nbconvert_exporter": "python",
   "pygments_lexer": "ipython3",
   "version": "3.9.6"
  }
 },
 "nbformat": 4,
 "nbformat_minor": 5
}
