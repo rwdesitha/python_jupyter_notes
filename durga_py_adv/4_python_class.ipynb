{
 "cells": [
  {
   "cell_type": "markdown",
   "id": "appreciated-harvard",
   "metadata": {},
   "source": [
    "# Python class ref->vid3"
   ]
  },
  {
   "cell_type": "markdown",
   "id": "civic-stamp",
   "metadata": {},
   "source": [
    "<u>Types of variables in python class</u>\n",
    "1. Instance variables / object related variables\n",
    "2. Static variables / class realted variables\n",
    "3. Local variables / method related variables"
   ]
  },
  {
   "cell_type": "markdown",
   "id": "efficient-plate",
   "metadata": {},
   "source": [
    "<u>Types of methods in python class</u>\n",
    "1. Instance method / object related methods\n",
    "2. Class method / class related methods\n",
    "3. Static methods / utility methods"
   ]
  },
  {
   "cell_type": "code",
   "execution_count": 34,
   "id": "spectacular-calibration",
   "metadata": {},
   "outputs": [
    {
     "name": "stdout",
     "output_type": "stream",
     "text": [
      "display method execution\n",
      "Hello my name is  Desitha\n",
      "Hello my rollno is  100\n",
      "College name is  Python\n",
      "None\n",
      "Average is  15.0\n",
      "None\n"
     ]
    }
   ],
   "source": [
    "class Student:\n",
    "    college_name=\"Python\" # if variable is declared within the class outside of a method then it is a static variable\n",
    "    \n",
    "    def __init__(self, x, y):\n",
    "        self.name=x # instance variables\n",
    "        self.roll_no=y # instance variable\n",
    "        \n",
    "    def display(self): # instance method\n",
    "        x=10 # local variable\n",
    "        print('display method execution')\n",
    "        print('Hello my name is ', self.name)\n",
    "        print('Hello my rollno is ', self.roll_no)\n",
    "        \n",
    "    @classmethod\n",
    "    def get_college_name(cls):\n",
    "        print('College name is ', cls.college_name)\n",
    "        \n",
    "    @staticmethod\n",
    "    def find_average(x, y):\n",
    "        print('Average is ', (x+y)/2)\n",
    "            \n",
    "    s1=Student('Desitha', 100)\n",
    "    s1.display()\n",
    "    print(Student.get_college_name())\n",
    "    print(Student.find_average(10, 20))"
   ]
  },
  {
   "cell_type": "markdown",
   "id": "whole-director",
   "metadata": {},
   "source": [
    "<ins>Instance variables</ins>\n",
    "\n",
    "    1.If the value of the variable is varied from object to object such type of variables are called instance variables.\n",
    "    For every object a seperate copy will be created.\n",
    "\n",
    "<ins>Where can declare instance variables</ins>\n",
    "\n",
    "    1.Inside constructor by using self\n",
    "    2.Inside instance method by using self\n",
    "    3.From outside of the class by using object reference\n",
    "\n",
    "<ins>How to access instance variables</ins>\n",
    "\n",
    "    Within the class by using self\n",
    "    From outside of the class by using object reference\n",
    "    \n",
    "<ins>How to delete instance variable</ins>\n",
    "\n",
    "    del self.variable_name\n",
    "    del object_reference.variable_name\n"
   ]
  },
  {
   "cell_type": "code",
   "execution_count": 3,
   "id": "premier-occupation",
   "metadata": {},
   "outputs": [
    {
     "name": "stdout",
     "output_type": "stream",
     "text": [
      "{'name': 'Desitha', 'roll_no': 101}\n"
     ]
    }
   ],
   "source": [
    "class Student:\n",
    "    def __init__(self, name, roll_no):\n",
    "        self.name=name\n",
    "        self.roll_no=roll_no\n",
    "        \n",
    "    def add_variable(self):\n",
    "        self.marks=60\n",
    "        \n",
    "s1=Student('Desitha', 101)\n",
    "# s1.add_variable() # if we comment this line and execute only 2 instance variabels are there, but once this method is called then there will be 2 instance variables\n",
    "print(s1.__dict__)"
   ]
  },
  {
   "cell_type": "markdown",
   "id": "laden-blast",
   "metadata": {},
   "source": [
    "<ins>Declaring variables outside of the class</ins>"
   ]
  },
  {
   "cell_type": "code",
   "execution_count": 2,
   "id": "worthy-tuning",
   "metadata": {},
   "outputs": [
    {
     "name": "stdout",
     "output_type": "stream",
     "text": [
      "{'name': 'Desitha', 'roll_no': 101, 'age': 35}\n"
     ]
    }
   ],
   "source": [
    "class Student:\n",
    "    def __init__(self, name, roll_no):\n",
    "        self.name=name\n",
    "        self.roll_no=roll_no\n",
    "        \n",
    "    def add_variable(self):\n",
    "        self.marks=60\n",
    "        \n",
    "s1=Student('Desitha', 101)\n",
    "s1.age=35\n",
    "\n",
    "print(s1.__dict__)"
   ]
  },
  {
   "cell_type": "markdown",
   "id": "spectacular-collins",
   "metadata": {},
   "source": [
    "<ins>Deleting variables</ins>"
   ]
  },
  {
   "cell_type": "code",
   "execution_count": 7,
   "id": "fatal-regulation",
   "metadata": {},
   "outputs": [
    {
     "name": "stdout",
     "output_type": "stream",
     "text": [
      "{'name': 'Desitha', 'roll_no': 101, 'age': 35}\n",
      "{'name': 'Desitha', 'roll_no': 101}\n"
     ]
    },
    {
     "ename": "AttributeError",
     "evalue": "'Student' object has no attribute 'delete_variablete_variable'",
     "output_type": "error",
     "traceback": [
      "\u001b[1;31m---------------------------------------------------------------------------\u001b[0m",
      "\u001b[1;31mAttributeError\u001b[0m                            Traceback (most recent call last)",
      "\u001b[1;32m<ipython-input-7-21014c103c63>\u001b[0m in \u001b[0;36m<module>\u001b[1;34m\u001b[0m\n\u001b[0;32m     12\u001b[0m \u001b[1;32mdel\u001b[0m \u001b[0ms1\u001b[0m\u001b[1;33m.\u001b[0m\u001b[0mage\u001b[0m\u001b[1;33m\u001b[0m\u001b[1;33m\u001b[0m\u001b[0m\n\u001b[0;32m     13\u001b[0m \u001b[0mprint\u001b[0m\u001b[1;33m(\u001b[0m\u001b[0ms1\u001b[0m\u001b[1;33m.\u001b[0m\u001b[0m__dict__\u001b[0m\u001b[1;33m)\u001b[0m\u001b[1;33m\u001b[0m\u001b[1;33m\u001b[0m\u001b[0m\n\u001b[1;32m---> 14\u001b[1;33m \u001b[0ms1\u001b[0m\u001b[1;33m.\u001b[0m\u001b[0mdelete_variablete_variable\u001b[0m\u001b[1;33m(\u001b[0m\u001b[1;33m)\u001b[0m\u001b[1;33m\u001b[0m\u001b[1;33m\u001b[0m\u001b[0m\n\u001b[0m\u001b[0;32m     15\u001b[0m \u001b[0mprint\u001b[0m\u001b[1;33m(\u001b[0m\u001b[0ms1\u001b[0m\u001b[1;33m.\u001b[0m\u001b[0m__dict__\u001b[0m\u001b[1;33m)\u001b[0m\u001b[1;33m\u001b[0m\u001b[1;33m\u001b[0m\u001b[0m\n",
      "\u001b[1;31mAttributeError\u001b[0m: 'Student' object has no attribute 'delete_variablete_variable'"
     ]
    }
   ],
   "source": [
    "class Student:\n",
    "    def __init__(self, name, roll_no, age):\n",
    "        self.name=name\n",
    "        self.roll_no=roll_no\n",
    "        self.age=age\n",
    "        \n",
    "    def delete_variable(self):\n",
    "        del self.name\n",
    "        \n",
    "s1=Student('Desitha', 101, 35)\n",
    "print(s1.__dict__)\n",
    "del s1.age\n",
    "print(s1.__dict__)\n",
    "s1.delete_variable()\n",
    "print(s1.__dict__)"
   ]
  }
 ],
 "metadata": {
  "kernelspec": {
   "display_name": "Python 3",
   "language": "python",
   "name": "python3"
  },
  "language_info": {
   "codemirror_mode": {
    "name": "ipython",
    "version": 3
   },
   "file_extension": ".py",
   "mimetype": "text/x-python",
   "name": "python",
   "nbconvert_exporter": "python",
   "pygments_lexer": "ipython3",
   "version": "3.9.2"
  }
 },
 "nbformat": 4,
 "nbformat_minor": 5
}
