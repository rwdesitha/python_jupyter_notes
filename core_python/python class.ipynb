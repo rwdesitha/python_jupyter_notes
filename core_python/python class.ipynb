{
 "cells": [
  {
   "cell_type": "markdown",
   "id": "specialized-illinois",
   "metadata": {},
   "source": [
    "# Python class"
   ]
  },
  {
   "cell_type": "markdown",
   "id": "linear-fitting",
   "metadata": {},
   "source": [
    "**Types of variables in python class**\n",
    "\n",
    "1. Instance variables / object related variables\n",
    "2. Static variables / class realted variables\n",
    "3. Local variables / method related variables\n",
    "\n",
    "**Types of methods in python class**\n",
    "\n",
    "1. Instance method / object related methods\n",
    "2. Class method / class related methods\n",
    "3. Static methods / utility methods"
   ]
  },
  {
   "cell_type": "code",
   "execution_count": 17,
   "id": "pleasant-darwin",
   "metadata": {},
   "outputs": [
    {
     "name": "stdout",
     "output_type": "stream",
     "text": [
      "display method execution\n",
      "Hello my name is  Desitha\n",
      "Hello my rollno is  100\n",
      "College name is  Python\n",
      "None\n",
      "Average is  15.0\n",
      "None\n"
     ]
    }
   ],
   "source": [
    "class Student:\n",
    "    \n",
    "    college_name=\"Python\" # if variable is declared within the class outside of a method then it is a static variable\n",
    "    \n",
    "    def __init__(self, x, y):\n",
    "        self.name=x # instance variables\n",
    "        self.roll_no=y # instance variable\n",
    "        \n",
    "    def display(self): # instance method\n",
    "        x=10 # local variable\n",
    "        print('display method execution')\n",
    "        print('Hello my name is ', self.name)\n",
    "        print('Hello my rollno is ', self.roll_no)\n",
    "        \n",
    "    @classmethod\n",
    "    def get_college_name(cls):\n",
    "        print('College name is ', cls.college_name)\n",
    "        \n",
    "    @staticmethod\n",
    "    def find_average(x, y):\n",
    "        print('Average is ', (x+y)/2)\n",
    "            \n",
    "s1=Student('Desitha', 100)\n",
    "s1.display()\n",
    "print(Student.get_college_name())\n",
    "print(Student.find_average(10, 20))"
   ]
  }
 ],
 "metadata": {
  "kernelspec": {
   "display_name": "Python 3",
   "language": "python",
   "name": "python3"
  },
  "language_info": {
   "codemirror_mode": {
    "name": "ipython",
    "version": 3
   },
   "file_extension": ".py",
   "mimetype": "text/x-python",
   "name": "python",
   "nbconvert_exporter": "python",
   "pygments_lexer": "ipython3",
   "version": "3.9.2"
  }
 },
 "nbformat": 4,
 "nbformat_minor": 5
}
