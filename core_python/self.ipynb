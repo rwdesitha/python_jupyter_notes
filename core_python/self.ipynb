{
 "cells": [
  {
   "cell_type": "markdown",
   "id": "knowing-burst",
   "metadata": {},
   "source": [
    "# self"
   ]
  },
  {
   "cell_type": "code",
   "execution_count": 3,
   "id": "aging-dividend",
   "metadata": {},
   "outputs": [
    {
     "name": "stdout",
     "output_type": "stream",
     "text": [
      "Constructor is executing - one arg\n"
     ]
    }
   ],
   "source": [
    "class Test:\n",
    "    def __init__(self):\n",
    "        print('Constructor is executing - no args')\n",
    "        \n",
    "    def __init__(self, x):\n",
    "        print('Constructor is executing - one arg')\n",
    "        \n",
    "#t=Test()\n",
    "t1=Test(10)"
   ]
  },
  {
   "cell_type": "markdown",
   "id": "subsequent-andrews",
   "metadata": {},
   "source": [
    "1. self is a reference variable which is always pointing to the current object.\n",
    "2. Within the python lcass to refer current object we should use self variable.\n",
    "3. the first argument to the constructor and instance method should be self.\n",
    "4. PVM is responsible to provide values for self argument and we are not required to provide it explicitly.\n",
    "5. By using self we can declare instance variable.\n",
    "6. Instead of self we can use any name.. but recommnded to use self.\n",
    "7. For every constructor and instance method the first argument should be self."
   ]
  }
 ],
 "metadata": {
  "kernelspec": {
   "display_name": "Python 3",
   "language": "python",
   "name": "python3"
  },
  "language_info": {
   "codemirror_mode": {
    "name": "ipython",
    "version": 3
   },
   "file_extension": ".py",
   "mimetype": "text/x-python",
   "name": "python",
   "nbconvert_exporter": "python",
   "pygments_lexer": "ipython3",
   "version": "3.9.2"
  }
 },
 "nbformat": 4,
 "nbformat_minor": 5
}
