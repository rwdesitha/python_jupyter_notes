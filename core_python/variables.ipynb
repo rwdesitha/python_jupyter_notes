{
 "cells": [
  {
   "cell_type": "markdown",
   "id": "roman-medline",
   "metadata": {},
   "source": [
    "# Variables"
   ]
  },
  {
   "cell_type": "markdown",
   "id": "talented-shelf",
   "metadata": {},
   "source": [
    "**Instance variables**\n",
    "\n",
    "- If the value of the variable is varied from object to object such type of variables are called instance variables.\n",
    "For every object a seperate copy will be created.\n",
    "\n",
    "**Where can declare instance variables**\n",
    "\n",
    "- Inside constructor by using self\n",
    "- Inside instance method by using self\n",
    "- From outside of the class by using object reference\n",
    "\n",
    "**How to access instance variables**\n",
    "\n",
    "- Within the class by using self\n",
    "- From outside of the class by using object reference\n",
    "\n",
    "**How to delete instance variable**\n",
    "\n",
    "- del self.variable_name\n",
    "- del object_reference.variable_name"
   ]
  },
  {
   "cell_type": "code",
   "execution_count": 3,
   "id": "corporate-penny",
   "metadata": {},
   "outputs": [
    {
     "name": "stdout",
     "output_type": "stream",
     "text": [
      "{'name': 'Desitha', 'roll_no': 101}\n",
      "{'name': 'Desitha', 'roll_no': 101, 'marks': 60}\n"
     ]
    }
   ],
   "source": [
    "class Student:\n",
    "    def __init__(self, name, roll_no):\n",
    "        self.name=name\n",
    "        self.roll_no=roll_no\n",
    "        \n",
    "    def add_variable(self):\n",
    "        self.marks=60\n",
    "        \n",
    "s1=Student('Desitha', 101)\n",
    "print(s1.__dict__)\n",
    "s1.add_variable() # if we comment this line and execute only 2 instance variabels are there, but once this method is called then there will be 2 instance variables\n",
    "print(s1.__dict__)"
   ]
  },
  {
   "cell_type": "markdown",
   "id": "coordinated-colors",
   "metadata": {},
   "source": [
    "**Declaring variables outside of the class**"
   ]
  },
  {
   "cell_type": "code",
   "execution_count": 4,
   "id": "honest-albany",
   "metadata": {},
   "outputs": [
    {
     "name": "stdout",
     "output_type": "stream",
     "text": [
      "{'name': 'Desitha', 'roll_no': 101, 'age': 35}\n"
     ]
    }
   ],
   "source": [
    "class Student:\n",
    "    def __init__(self, name, roll_no):\n",
    "        self.name=name\n",
    "        self.roll_no=roll_no\n",
    "        \n",
    "    def add_variable(self):\n",
    "        self.marks=60\n",
    "        \n",
    "s1=Student('Desitha', 101)\n",
    "s1.age=35\n",
    "\n",
    "print(s1.__dict__)"
   ]
  },
  {
   "cell_type": "markdown",
   "id": "legislative-utilization",
   "metadata": {},
   "source": [
    "**Deleting variables**"
   ]
  },
  {
   "cell_type": "code",
   "execution_count": 5,
   "id": "other-prison",
   "metadata": {},
   "outputs": [
    {
     "name": "stdout",
     "output_type": "stream",
     "text": [
      "{'name': 'Desitha', 'roll_no': 101, 'age': 35}\n",
      "{'name': 'Desitha', 'roll_no': 101}\n",
      "{'roll_no': 101}\n"
     ]
    }
   ],
   "source": [
    "class Student:\n",
    "    def __init__(self, name, roll_no, age):\n",
    "        self.name=name\n",
    "        self.roll_no=roll_no\n",
    "        self.age=age\n",
    "        \n",
    "    def delete_variable(self):\n",
    "        del self.name\n",
    "        \n",
    "s1=Student('Desitha', 101, 35)\n",
    "print(s1.__dict__)\n",
    "del s1.age\n",
    "print(s1.__dict__)\n",
    "s1.delete_variable()\n",
    "print(s1.__dict__)"
   ]
  }
 ],
 "metadata": {
  "kernelspec": {
   "display_name": "Python 3",
   "language": "python",
   "name": "python3"
  },
  "language_info": {
   "codemirror_mode": {
    "name": "ipython",
    "version": 3
   },
   "file_extension": ".py",
   "mimetype": "text/x-python",
   "name": "python",
   "nbconvert_exporter": "python",
   "pygments_lexer": "ipython3",
   "version": "3.9.2"
  }
 },
 "nbformat": 4,
 "nbformat_minor": 5
}
