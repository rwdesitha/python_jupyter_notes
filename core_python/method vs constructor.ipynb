{
 "cells": [
  {
   "cell_type": "markdown",
   "id": "suited-traffic",
   "metadata": {},
   "source": [
    "# Method vs constructor"
   ]
  },
  {
   "cell_type": "markdown",
   "id": "insured-think",
   "metadata": {},
   "source": [
    "**Method**\n",
    "\n",
    "1. The name can be anything\n",
    "2. Method willl executed if we call\n",
    "3. Per object method can be called any no of times\n",
    "4. Business logic\n",
    "\n",
    "**Constructor**\n",
    "\n",
    "1. Should be init()\n",
    "2. Will be executed automatically if we are creating object\n",
    "3. Per object only once\n",
    "4. To declare and initialize instance vairables"
   ]
  }
 ],
 "metadata": {
  "kernelspec": {
   "display_name": "Python 3",
   "language": "python",
   "name": "python3"
  },
  "language_info": {
   "codemirror_mode": {
    "name": "ipython",
    "version": 3
   },
   "file_extension": ".py",
   "mimetype": "text/x-python",
   "name": "python",
   "nbconvert_exporter": "python",
   "pygments_lexer": "ipython3",
   "version": "3.9.2"
  }
 },
 "nbformat": 4,
 "nbformat_minor": 5
}
